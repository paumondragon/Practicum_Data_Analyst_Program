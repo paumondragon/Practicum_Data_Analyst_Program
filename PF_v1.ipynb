{
  "cells": [
    {
      "cell_type": "markdown",
      "metadata": {
        "id": "JH5kvTN1K7Ba"
      },
      "source": [
        "[PDF de la presentación de conclusiones](https://drive.google.com/file/d/17TmYrB4I9wgi5KoNGe1OAMuuaGeAjhrv/view?usp=sharing)\n",
        "\n",
        "\n",
        "[Dashboard](https://public.tableau.com/views/CallMeMaybe_16957484570890/CallMeMaybe?:language=en-US&publish=yes&:display_count=n&:origin=viz_share_link)"
      ]
    },
    {
      "cell_type": "markdown",
      "metadata": {
        "id": "U2zgDPfSK7Bf"
      },
      "source": [
        "- - -"
      ]
    },
    {
      "cell_type": "markdown",
      "metadata": {
        "id": "an9jVnN4W-J2"
      },
      "source": [
        "# Telecomunicaciones: identificar operadores ineficaces"
      ]
    },
    {
      "cell_type": "markdown",
      "metadata": {
        "id": "KV5dwtr6W-J_"
      },
      "source": [
        "El servicio de telefonía virtual CallMeMaybe está desarrollando una nueva función que brinda información sobre los operadores menos eficaces.\n",
        "\n",
        " Sus clientes son organizaciones que necesitan distribuir gran cantidad de llamadas entrantes entre varios operadores, o realizar llamadas salientes a través de sus operadores. Los operadores también pueden realizar llamadas internas para comunicarse entre ellos. Estas llamadas se realizan a través de la red de CallMeMaybe."
      ]
    },
    {
      "cell_type": "markdown",
      "metadata": {
        "id": "TvcT-mKG_5vc"
      },
      "source": [
        "#Tabla de contenidos"
      ]
    },
    {
      "cell_type": "markdown",
      "metadata": {
        "id": "AOPOsBCfWXuO"
      },
      "source": [
        " 1. [Objetivo](#1)\n",
        " 2. [Preprocesamiento de datos](#2)\n",
        " 3. [Análisis Exploratorio de Datos](#3)\n",
        " 4. [Pruebas](#4)\n",
        " 5. [Conclusiones](#5)\n",
        " 6. [Documentación](#6)"
      ]
    },
    {
      "cell_type": "markdown",
      "metadata": {
        "id": "wlvLf03x_51s"
      },
      "source": [
        "# 1.-Objetivo"
      ]
    },
    {
      "cell_type": "markdown",
      "metadata": {
        "id": "47tWq1A7AvXU"
      },
      "source": [
        "Con los datos proporcionados, se buscará identificar los operadores ineficaces del servicio de telefonía virtual CallMeMaybe tanto en su atención a llamadas internas y externas, salientes y entrantes.\n",
        "\n",
        "Se considera que un operador es ineficaz si tiene:\n",
        "\n",
        "* una gran cantidad de llamadas entrantes perdidas (internas y externas), esto definido por el 25% más alto de `missing_calls`. Para ello se filtrará con el quantil (.75), descartando los atípicos previamente.  \n",
        "\n",
        "\n",
        "* un tiempo de espera prolongado para las llamadas entrantes, definido de igual forma por el 25% más alto de un `waiting_time` que es información que hay que generar a partir de los datos y descartando los atípicos.\n",
        "\n",
        "\n",
        "* un número reducido de llamadas salientes si es que son parte de su tarea. Se asume que sí es parte de su tarea ya que el 80.76% de los operadores cuentan con al menos una llamada saliente  y, por otro lado, no contamos con información sobre diferentes tipos de operadores, así que se entiende que es un solo tipo con las mismas funciones. Este número reducido será definido por el quantil (.25) de llamadas `out`, sin los atípicos.\n",
        "\n"
      ]
    },
    {
      "cell_type": "markdown",
      "metadata": {
        "id": "ywu7a2Hv_54k"
      },
      "source": [
        "# 2.-Preprocesamiento de datos <a id='2'></a>"
      ]
    },
    {
      "cell_type": "markdown",
      "metadata": {
        "id": "BepzIcMZfaqX"
      },
      "source": [
        "## 2.1.-Cargar librerías y datos"
      ]
    },
    {
      "cell_type": "code",
      "execution_count": null,
      "metadata": {
        "id": "cAvD4TnuEz4-"
      },
      "outputs": [],
      "source": [
        "#Cargar librerías\n",
        "import pandas as pd\n",
        "import seaborn as sns\n",
        "import matplotlib.pyplot as plt\n",
        "import numpy as np\n",
        "import math as mth\n",
        "from scipy import stats as st"
      ]
    },
    {
      "cell_type": "code",
      "execution_count": null,
      "metadata": {
        "id": "DJovk7noT4Xg"
      },
      "outputs": [],
      "source": [
        "#Cargar datos\n",
        "try:\n",
        "    clients = pd.read_csv('/content/telecom_clients_us.csv')\n",
        "    data    = pd.read_csv('/content/telecom_dataset_us.csv')\n",
        "except:\n",
        "    clients = pd.read_csv('/datasets/telecom_clients_us.csv')\n",
        "    data    = pd.read_csv('/datasets/telecom_dataset_us.csv')"
      ]
    },
    {
      "cell_type": "markdown",
      "metadata": {
        "id": "Dew2vjRffaqX"
      },
      "source": [
        "## 2.2.-Exploración general"
      ]
    },
    {
      "cell_type": "markdown",
      "metadata": {
        "id": "RKLlIxzEfaqX"
      },
      "source": [
        "Conocer en qué consisten los dataframes, tipos de datos, tamaño. Revisar los valores únicos de todas las columnas para conocer los rangos de trabajo, por ejemplo, observar rangos de fechas y etiquetas de las características."
      ]
    },
    {
      "cell_type": "markdown",
      "metadata": {
        "id": "jevNyN7onnlZ"
      },
      "source": [
        "### Data"
      ]
    },
    {
      "cell_type": "markdown",
      "metadata": {
        "id": "veHxNwU2faqY"
      },
      "source": [
        "El dataset `data` contiene las siguientes columnas:\n",
        "\n",
        "- `user_id`: ID de la cuenta de cliente\n",
        "- `date`: fecha en la que se recuperaron las estadísticas\n",
        "- `direction`: \"dirección\" de llamada (`out` para saliente, `in` para entrante)\n",
        "- `internal`: si la llamada fue interna (entre los operadores de un cliente o clienta)\n",
        "- `operator_id`: identificador del operador\n",
        "- `is_missed_call`: si fue una llamada perdida\n",
        "- `calls_count`: número de llamadas\n",
        "- `call_duration`: duración de la llamada (sin incluir el tiempo de espera)\n",
        "- `total_call_duration`: duración de la llamada (incluido el tiempo de espera)"
      ]
    },
    {
      "cell_type": "code",
      "execution_count": null,
      "metadata": {
        "colab": {
          "base_uri": "https://localhost:8080/",
          "height": 313
        },
        "id": "BYTGozSVn_1J",
        "outputId": "1818920f-d166-4db5-f4b8-79b5ddb67f31"
      },
      "outputs": [
        {
          "data": {
            "text/html": [
              "<div>\n",
              "<style scoped>\n",
              "    .dataframe tbody tr th:only-of-type {\n",
              "        vertical-align: middle;\n",
              "    }\n",
              "\n",
              "    .dataframe tbody tr th {\n",
              "        vertical-align: top;\n",
              "    }\n",
              "\n",
              "    .dataframe thead th {\n",
              "        text-align: right;\n",
              "    }\n",
              "</style>\n",
              "<table border=\"1\" class=\"dataframe\">\n",
              "  <thead>\n",
              "    <tr style=\"text-align: right;\">\n",
              "      <th></th>\n",
              "      <th>user_id</th>\n",
              "      <th>date</th>\n",
              "      <th>direction</th>\n",
              "      <th>internal</th>\n",
              "      <th>operator_id</th>\n",
              "      <th>is_missed_call</th>\n",
              "      <th>calls_count</th>\n",
              "      <th>call_duration</th>\n",
              "      <th>total_call_duration</th>\n",
              "    </tr>\n",
              "  </thead>\n",
              "  <tbody>\n",
              "    <tr>\n",
              "      <th>0</th>\n",
              "      <td>166377</td>\n",
              "      <td>2019-08-04 00:00:00+03:00</td>\n",
              "      <td>in</td>\n",
              "      <td>False</td>\n",
              "      <td>NaN</td>\n",
              "      <td>True</td>\n",
              "      <td>2</td>\n",
              "      <td>0</td>\n",
              "      <td>4</td>\n",
              "    </tr>\n",
              "    <tr>\n",
              "      <th>1</th>\n",
              "      <td>166377</td>\n",
              "      <td>2019-08-05 00:00:00+03:00</td>\n",
              "      <td>out</td>\n",
              "      <td>True</td>\n",
              "      <td>880022.0</td>\n",
              "      <td>True</td>\n",
              "      <td>3</td>\n",
              "      <td>0</td>\n",
              "      <td>5</td>\n",
              "    </tr>\n",
              "    <tr>\n",
              "      <th>2</th>\n",
              "      <td>166377</td>\n",
              "      <td>2019-08-05 00:00:00+03:00</td>\n",
              "      <td>out</td>\n",
              "      <td>True</td>\n",
              "      <td>880020.0</td>\n",
              "      <td>True</td>\n",
              "      <td>1</td>\n",
              "      <td>0</td>\n",
              "      <td>1</td>\n",
              "    </tr>\n",
              "    <tr>\n",
              "      <th>3</th>\n",
              "      <td>166377</td>\n",
              "      <td>2019-08-05 00:00:00+03:00</td>\n",
              "      <td>out</td>\n",
              "      <td>True</td>\n",
              "      <td>880020.0</td>\n",
              "      <td>False</td>\n",
              "      <td>1</td>\n",
              "      <td>10</td>\n",
              "      <td>18</td>\n",
              "    </tr>\n",
              "    <tr>\n",
              "      <th>4</th>\n",
              "      <td>166377</td>\n",
              "      <td>2019-08-05 00:00:00+03:00</td>\n",
              "      <td>out</td>\n",
              "      <td>False</td>\n",
              "      <td>880022.0</td>\n",
              "      <td>True</td>\n",
              "      <td>3</td>\n",
              "      <td>0</td>\n",
              "      <td>25</td>\n",
              "    </tr>\n",
              "  </tbody>\n",
              "</table>\n",
              "</div>"
            ],
            "text/plain": [
              "   user_id                       date direction internal  operator_id  \\\n",
              "0   166377  2019-08-04 00:00:00+03:00        in    False          NaN   \n",
              "1   166377  2019-08-05 00:00:00+03:00       out     True     880022.0   \n",
              "2   166377  2019-08-05 00:00:00+03:00       out     True     880020.0   \n",
              "3   166377  2019-08-05 00:00:00+03:00       out     True     880020.0   \n",
              "4   166377  2019-08-05 00:00:00+03:00       out    False     880022.0   \n",
              "\n",
              "   is_missed_call  calls_count  call_duration  total_call_duration  \n",
              "0            True            2              0                    4  \n",
              "1            True            3              0                    5  \n",
              "2            True            1              0                    1  \n",
              "3           False            1             10                   18  \n",
              "4            True            3              0                   25  "
            ]
          },
          "execution_count": 3,
          "metadata": {},
          "output_type": "execute_result"
        }
      ],
      "source": [
        "#Visualizar las primeras filas del dataframe\n",
        "data.head()"
      ]
    },
    {
      "cell_type": "code",
      "execution_count": null,
      "metadata": {
        "colab": {
          "base_uri": "https://localhost:8080/"
        },
        "id": "_T9_hSycoL4y",
        "outputId": "941e5e7a-46e0-443a-8acc-ff141b22513b"
      },
      "outputs": [
        {
          "data": {
            "text/plain": [
              "{'user_id': array([166377, 166391, 166392, 166399, 166405, 166406, 166407, 166428,\n",
              "        166481, 166482, 166485, 166487, 166495, 166503, 166507, 166511,\n",
              "        166520, 166533, 166536, 166541, 166548, 166554, 166582, 166584,\n",
              "        166585, 166604, 166609, 166619, 166636, 166649, 166658, 166660,\n",
              "        166666, 166669, 166671, 166677, 166678, 166680, 166688, 166691,\n",
              "        166692, 166697, 166708, 166711, 166713, 166717, 166725, 166726,\n",
              "        166727, 166732, 166774, 166782, 166800, 166803, 166812, 166813,\n",
              "        166833, 166836, 166837, 166839, 166843, 166874, 166879, 166884,\n",
              "        166896, 166899, 166901, 166908, 166916, 166936, 166939, 166940,\n",
              "        166941, 166946, 166955, 166958, 166971, 166973, 166974, 166975,\n",
              "        166983, 166985, 166993, 166997, 167002, 167003, 167004, 167009,\n",
              "        167011, 167012, 167016, 167031, 167035, 167052, 167053, 167059,\n",
              "        167060, 167061, 167071, 167077, 167078, 167079, 167082, 167102,\n",
              "        167109, 167110, 167112, 167113, 167114, 167122, 167124, 167125,\n",
              "        167130, 167139, 167141, 167144, 167150, 167158, 167162, 167172,\n",
              "        167175, 167176, 167180, 167183, 167185, 167188, 167189, 167199,\n",
              "        167200, 167235, 167238, 167242, 167244, 167246, 167250, 167263,\n",
              "        167264, 167265, 167272, 167275, 167277, 167285, 167286, 167288,\n",
              "        167338, 167359, 167364, 167397, 167402, 167412, 167436, 167445,\n",
              "        167451, 167455, 167456, 167466, 167471, 167474, 167475, 167479,\n",
              "        167487, 167497, 167506, 167521, 167530, 167532, 167533, 167534,\n",
              "        167543, 167545, 167551, 167575, 167580, 167599, 167621, 167626,\n",
              "        167630, 167631, 167634, 167644, 167645, 167646, 167650, 167653,\n",
              "        167654, 167664, 167682, 167715, 167716, 167721, 167727, 167742,\n",
              "        167744, 167747, 167756, 167759, 167768, 167781, 167792, 167799,\n",
              "        167805, 167816, 167819, 167827, 167828, 167829, 167840, 167847,\n",
              "        167852, 167870, 167888, 167906, 167908, 167923, 167927, 167930,\n",
              "        167936, 167939, 167947, 167948, 167949, 167955, 167958, 167969,\n",
              "        167976, 167977, 167981, 167989, 167994, 167995, 167998, 167999,\n",
              "        168000, 168004, 168008, 168010, 168013, 168016, 168018, 168019,\n",
              "        168021, 168024, 168025, 168041, 168042, 168047, 168048, 168054,\n",
              "        168062, 168064, 168073, 168090, 168091, 168093, 168097, 168101,\n",
              "        168105, 168110, 168121, 168128, 168154, 168155, 168180, 168185,\n",
              "        168187, 168190, 168193, 168202, 168221, 168225, 168228, 168252,\n",
              "        168253, 168264, 168271, 168275, 168291, 168295, 168303, 168307,\n",
              "        168315, 168329, 168336, 168340, 168361, 168366, 168377, 168412,\n",
              "        168416, 168446, 168459, 168464, 168466, 168473, 168481, 168490,\n",
              "        168500, 168522, 168562, 168575, 168578, 168579, 168583, 168598,\n",
              "        168601, 168603, 168606]),\n",
              " 'date': array(['2019-08-04 00:00:00+03:00', '2019-08-05 00:00:00+03:00',\n",
              "        '2019-08-06 00:00:00+03:00', '2019-08-07 00:00:00+03:00',\n",
              "        '2019-08-08 00:00:00+03:00', '2019-08-09 00:00:00+03:00',\n",
              "        '2019-08-12 00:00:00+03:00', '2019-08-13 00:00:00+03:00',\n",
              "        '2019-08-14 00:00:00+03:00', '2019-08-15 00:00:00+03:00',\n",
              "        '2019-08-16 00:00:00+03:00', '2019-08-19 00:00:00+03:00',\n",
              "        '2019-08-20 00:00:00+03:00', '2019-08-21 00:00:00+03:00',\n",
              "        '2019-08-22 00:00:00+03:00', '2019-08-23 00:00:00+03:00',\n",
              "        '2019-08-24 00:00:00+03:00', '2019-08-26 00:00:00+03:00',\n",
              "        '2019-08-27 00:00:00+03:00', '2019-08-28 00:00:00+03:00',\n",
              "        '2019-08-29 00:00:00+03:00', '2019-08-30 00:00:00+03:00',\n",
              "        '2019-09-02 00:00:00+03:00', '2019-09-03 00:00:00+03:00',\n",
              "        '2019-09-04 00:00:00+03:00', '2019-09-05 00:00:00+03:00',\n",
              "        '2019-09-06 00:00:00+03:00', '2019-09-09 00:00:00+03:00',\n",
              "        '2019-09-10 00:00:00+03:00', '2019-09-11 00:00:00+03:00',\n",
              "        '2019-09-12 00:00:00+03:00', '2019-09-13 00:00:00+03:00',\n",
              "        '2019-09-16 00:00:00+03:00', '2019-09-17 00:00:00+03:00',\n",
              "        '2019-09-18 00:00:00+03:00', '2019-09-19 00:00:00+03:00',\n",
              "        '2019-09-20 00:00:00+03:00', '2019-09-23 00:00:00+03:00',\n",
              "        '2019-09-24 00:00:00+03:00', '2019-09-25 00:00:00+03:00',\n",
              "        '2019-09-26 00:00:00+03:00', '2019-09-27 00:00:00+03:00',\n",
              "        '2019-09-30 00:00:00+03:00', '2019-10-01 00:00:00+03:00',\n",
              "        '2019-10-02 00:00:00+03:00', '2019-10-03 00:00:00+03:00',\n",
              "        '2019-10-04 00:00:00+03:00', '2019-10-07 00:00:00+03:00',\n",
              "        '2019-10-08 00:00:00+03:00', '2019-10-09 00:00:00+03:00',\n",
              "        '2019-10-10 00:00:00+03:00', '2019-10-11 00:00:00+03:00',\n",
              "        '2019-10-14 00:00:00+03:00', '2019-10-15 00:00:00+03:00',\n",
              "        '2019-10-16 00:00:00+03:00', '2019-10-17 00:00:00+03:00',\n",
              "        '2019-10-18 00:00:00+03:00', '2019-10-19 00:00:00+03:00',\n",
              "        '2019-10-20 00:00:00+03:00', '2019-10-21 00:00:00+03:00',\n",
              "        '2019-10-22 00:00:00+03:00', '2019-10-23 00:00:00+03:00',\n",
              "        '2019-10-24 00:00:00+03:00', '2019-10-25 00:00:00+03:00',\n",
              "        '2019-10-28 00:00:00+03:00', '2019-10-29 00:00:00+03:00',\n",
              "        '2019-10-30 00:00:00+03:00', '2019-10-31 00:00:00+03:00',\n",
              "        '2019-11-01 00:00:00+03:00', '2019-11-05 00:00:00+03:00',\n",
              "        '2019-11-06 00:00:00+03:00', '2019-11-07 00:00:00+03:00',\n",
              "        '2019-11-08 00:00:00+03:00', '2019-11-11 00:00:00+03:00',\n",
              "        '2019-11-12 00:00:00+03:00', '2019-11-13 00:00:00+03:00',\n",
              "        '2019-11-14 00:00:00+03:00', '2019-11-15 00:00:00+03:00',\n",
              "        '2019-11-18 00:00:00+03:00', '2019-11-19 00:00:00+03:00',\n",
              "        '2019-11-20 00:00:00+03:00', '2019-11-21 00:00:00+03:00',\n",
              "        '2019-11-22 00:00:00+03:00', '2019-11-25 00:00:00+03:00',\n",
              "        '2019-11-26 00:00:00+03:00', '2019-11-27 00:00:00+03:00',\n",
              "        '2019-11-28 00:00:00+03:00', '2019-08-10 00:00:00+03:00',\n",
              "        '2019-10-12 00:00:00+03:00', '2019-08-02 00:00:00+03:00',\n",
              "        '2019-09-14 00:00:00+03:00', '2019-09-28 00:00:00+03:00',\n",
              "        '2019-10-05 00:00:00+03:00', '2019-10-06 00:00:00+03:00',\n",
              "        '2019-10-26 00:00:00+03:00', '2019-11-10 00:00:00+03:00',\n",
              "        '2019-11-17 00:00:00+03:00', '2019-11-24 00:00:00+03:00',\n",
              "        '2019-08-03 00:00:00+03:00', '2019-08-17 00:00:00+03:00',\n",
              "        '2019-08-18 00:00:00+03:00', '2019-08-25 00:00:00+03:00',\n",
              "        '2019-08-31 00:00:00+03:00', '2019-09-01 00:00:00+03:00',\n",
              "        '2019-09-07 00:00:00+03:00', '2019-09-08 00:00:00+03:00',\n",
              "        '2019-09-15 00:00:00+03:00', '2019-09-21 00:00:00+03:00',\n",
              "        '2019-09-22 00:00:00+03:00', '2019-09-29 00:00:00+03:00',\n",
              "        '2019-10-13 00:00:00+03:00', '2019-10-27 00:00:00+03:00',\n",
              "        '2019-11-02 00:00:00+03:00', '2019-11-03 00:00:00+03:00',\n",
              "        '2019-11-04 00:00:00+03:00', '2019-11-09 00:00:00+03:00',\n",
              "        '2019-11-16 00:00:00+03:00', '2019-11-23 00:00:00+03:00',\n",
              "        '2019-08-11 00:00:00+03:00'], dtype=object),\n",
              " 'direction': array(['in', 'out'], dtype=object),\n",
              " 'internal': array([False, True, nan], dtype=object),\n",
              " 'operator_id': array([    nan, 880022., 880020., ..., 952916., 959118., 957922.]),\n",
              " 'is_missed_call': array([ True, False]),\n",
              " 'calls_count': array([   2,    3,    1,    8,    6,    4,    5,   17,   20,    7,   10,\n",
              "          18,   11,   19,   15,   13,   14,   32,    9,   22,   23,   24,\n",
              "          43,   28,   27,   16,   29,   25,   21,   26,   31,   35,   30,\n",
              "          12,   33,   46,   52,   44,   42,   41,   51,   68,   89,  284,\n",
              "         263,  598,  714,  357,   76,   40,   45,   60,   74,   47,   34,\n",
              "          58,   64,   50,   78,   54,   36,   63,   66,   39,   61,   38,\n",
              "          59,   67,   55,   65,   37,   90,  104,   48,   69,  108,   86,\n",
              "         209,  131,   73,   72,   82,   77,   93,   91,   92,   56,   49,\n",
              "          97,   80,   57,   88,  103,  120,  156,   85,   83,  130,  121,\n",
              "         126,  110,  100,   70,   53,  109,   95,   81,   84,  106,  105,\n",
              "          62,   79,   87,   75,  101,  107,  124,  112,   99,  181,  184,\n",
              "         219,  113,  182,  308,  265,  185,  116,  170,  230,  177,  240,\n",
              "         417,  127,  128,  335,  517,  171,  260,  167,  136,  343,  310,\n",
              "         546,  295,  270,  387,  285,  511,  317,  319,  411,  251,  268,\n",
              "         341,  253,  329,  536,  117,  129,  125,  139,  545,  264,  318,\n",
              "         635,  415,   94,  162,  572,  369,  316,  248,  163,  667,  460,\n",
              "         431,  215,  622,  340,  213,  141,  229,  470,  305, 1018,  575,\n",
              "         592,  743, 1137,  398,  134,  863,  359,  469,  602,  389,  591,\n",
              "         471,  350,  584,  393,  192,  195,  236,  331, 1138,  322,  531,\n",
              "        1053,  718,  396,  137,  570,  621,  946,  442,  556,  696,  386,\n",
              "         448,  652,  623,  220,  293,  246,  371,  133,  299,  283,  221,\n",
              "         443,  479,  878,  301, 1375,  373,  817,  430,  620,  664,  140,\n",
              "        1013,  673,  489,  662,  561,  679,  737,  494,  580,  196,  111,\n",
              "         172,   98,  459, 1436,  729,  614, 1118,  377, 1195,  433,  626,\n",
              "         796,  154, 1230,  612,  461,  843,   71,  720,  330,  455,  754,\n",
              "         701,  242,  200,  153,  485, 1063,  346,  632, 1480,  119,  374,\n",
              "        1241,  559,  445,  227,  254,  995,  231,  519,  149,  314,  464,\n",
              "         564,  274,  544,  338,  277,  507,  159,  145,  194,  122,  216,\n",
              "         530,  438,  682,  326,  418,  255,  363,  931,  678,  790,  827,\n",
              "         503,  538,  401,  532,  368,  500,  490,  581,  366,  348,  501,\n",
              "         597,  282,  118,  238,  684,  165,  492,  813,  376,  512,  414,\n",
              "         634,  594,  380,  629,  161,  691,  514,  540,  768,  214,  645,\n",
              "         568,  166,  187,  206,  840,  590,  142, 1248,  815, 1155,  222,\n",
              "         168,  178,  289,  370,  458,  439,  273,  152,  143,  102,  175,\n",
              "         135,  179,  114,   96,  115,  208,  174,  303,  224,  332,  441,\n",
              "        1055,  397,  385,  631,  241,  155,  392,  262,  217,  509,  549,\n",
              "         560,  719,  607, 1141,  625,  977,  193,  596,  148,  160,  123,\n",
              "         275,  150,  132,  367,  138,  551, 1311, 1641,  797, 2168, 1917,\n",
              "        1432,  205,  924,  146, 1705, 1115,  207, 1411, 1914,  935,  731,\n",
              "        1185,  239,  290,  495,  970,  498,  356,  158,  147,  252,  202,\n",
              "         191,  351,  237,  164,  288,  157,  360,  383,  593,  437, 2614,\n",
              "        1529, 1533, 1045, 1365,  223,  685, 4817,  180,  355, 1020,  201,\n",
              "         422,  407,  333,  499,  428,  169,  267,  176,  188,  211,  144,\n",
              "        1679, 1590,  190,  189,  203,  234,  269,  497,  410,  666,  472,\n",
              "         212, 1006, 1289,  151, 1083,  888,  426,  451,  456,  197,  412,\n",
              "         409,  198,  465,  604,  698,  279,  748]),\n",
              " 'call_duration': array([   0,   10,    3, ..., 6228, 3718, 3296]),\n",
              " 'total_call_duration': array([   4,    5,    1, ..., 7166, 6760, 3190])}"
            ]
          },
          "execution_count": 4,
          "metadata": {},
          "output_type": "execute_result"
        }
      ],
      "source": [
        "# Obtener los valores únicos de todas las columnas\n",
        "unique_values = {}\n",
        "for columna in data.columns:\n",
        "    unique_values[columna] = data[columna].unique()\n",
        "\n",
        "unique_values"
      ]
    },
    {
      "cell_type": "code",
      "execution_count": null,
      "metadata": {
        "colab": {
          "base_uri": "https://localhost:8080/"
        },
        "id": "shuRgS2rlufV",
        "outputId": "906b7b69-c8a6-4a20-910d-5fb1167c2fb0"
      },
      "outputs": [
        {
          "data": {
            "text/plain": [
              "(53902, 9)"
            ]
          },
          "execution_count": 5,
          "metadata": {},
          "output_type": "execute_result"
        }
      ],
      "source": [
        "#Veamos\n",
        "data.shape"
      ]
    },
    {
      "cell_type": "markdown",
      "metadata": {
        "id": "Kkh8NoO6G0Pz"
      },
      "source": [
        "#### Duplicados y nulos"
      ]
    },
    {
      "cell_type": "code",
      "execution_count": null,
      "metadata": {
        "colab": {
          "base_uri": "https://localhost:8080/"
        },
        "id": "KViGVJCIjX9u",
        "outputId": "6f500647-82aa-4736-b631-e1f5efb3a9fc"
      },
      "outputs": [
        {
          "data": {
            "text/plain": [
              "4900"
            ]
          },
          "execution_count": 6,
          "metadata": {},
          "output_type": "execute_result"
        }
      ],
      "source": [
        "#Busquemos duplicados explícitos\n",
        "data.duplicated().sum()"
      ]
    },
    {
      "cell_type": "code",
      "execution_count": null,
      "metadata": {
        "colab": {
          "base_uri": "https://localhost:8080/",
          "height": 617
        },
        "id": "1YDKW6zlksgB",
        "outputId": "40aa1735-07c1-48bf-977f-eb0f9b827156"
      },
      "outputs": [
        {
          "data": {
            "text/html": [
              "<div>\n",
              "<style scoped>\n",
              "    .dataframe tbody tr th:only-of-type {\n",
              "        vertical-align: middle;\n",
              "    }\n",
              "\n",
              "    .dataframe tbody tr th {\n",
              "        vertical-align: top;\n",
              "    }\n",
              "\n",
              "    .dataframe thead th {\n",
              "        text-align: right;\n",
              "    }\n",
              "</style>\n",
              "<table border=\"1\" class=\"dataframe\">\n",
              "  <thead>\n",
              "    <tr style=\"text-align: right;\">\n",
              "      <th></th>\n",
              "      <th>user_id</th>\n",
              "      <th>date</th>\n",
              "      <th>direction</th>\n",
              "      <th>internal</th>\n",
              "      <th>operator_id</th>\n",
              "      <th>is_missed_call</th>\n",
              "      <th>calls_count</th>\n",
              "      <th>call_duration</th>\n",
              "      <th>total_call_duration</th>\n",
              "    </tr>\n",
              "  </thead>\n",
              "  <tbody>\n",
              "    <tr>\n",
              "      <th>0</th>\n",
              "      <td>166377</td>\n",
              "      <td>2019-08-04 00:00:00+03:00</td>\n",
              "      <td>in</td>\n",
              "      <td>False</td>\n",
              "      <td>NaN</td>\n",
              "      <td>True</td>\n",
              "      <td>2</td>\n",
              "      <td>0</td>\n",
              "      <td>4</td>\n",
              "    </tr>\n",
              "    <tr>\n",
              "      <th>1</th>\n",
              "      <td>166377</td>\n",
              "      <td>2019-08-05 00:00:00+03:00</td>\n",
              "      <td>out</td>\n",
              "      <td>True</td>\n",
              "      <td>880022.0</td>\n",
              "      <td>True</td>\n",
              "      <td>3</td>\n",
              "      <td>0</td>\n",
              "      <td>5</td>\n",
              "    </tr>\n",
              "    <tr>\n",
              "      <th>2</th>\n",
              "      <td>166377</td>\n",
              "      <td>2019-08-05 00:00:00+03:00</td>\n",
              "      <td>out</td>\n",
              "      <td>True</td>\n",
              "      <td>880020.0</td>\n",
              "      <td>True</td>\n",
              "      <td>1</td>\n",
              "      <td>0</td>\n",
              "      <td>1</td>\n",
              "    </tr>\n",
              "    <tr>\n",
              "      <th>3</th>\n",
              "      <td>166377</td>\n",
              "      <td>2019-08-05 00:00:00+03:00</td>\n",
              "      <td>out</td>\n",
              "      <td>True</td>\n",
              "      <td>880020.0</td>\n",
              "      <td>False</td>\n",
              "      <td>1</td>\n",
              "      <td>10</td>\n",
              "      <td>18</td>\n",
              "    </tr>\n",
              "    <tr>\n",
              "      <th>4</th>\n",
              "      <td>166377</td>\n",
              "      <td>2019-08-05 00:00:00+03:00</td>\n",
              "      <td>out</td>\n",
              "      <td>False</td>\n",
              "      <td>880022.0</td>\n",
              "      <td>True</td>\n",
              "      <td>3</td>\n",
              "      <td>0</td>\n",
              "      <td>25</td>\n",
              "    </tr>\n",
              "    <tr>\n",
              "      <th>...</th>\n",
              "      <td>...</td>\n",
              "      <td>...</td>\n",
              "      <td>...</td>\n",
              "      <td>...</td>\n",
              "      <td>...</td>\n",
              "      <td>...</td>\n",
              "      <td>...</td>\n",
              "      <td>...</td>\n",
              "      <td>...</td>\n",
              "    </tr>\n",
              "    <tr>\n",
              "      <th>53896</th>\n",
              "      <td>168606</td>\n",
              "      <td>2019-11-10 00:00:00+03:00</td>\n",
              "      <td>out</td>\n",
              "      <td>True</td>\n",
              "      <td>957922.0</td>\n",
              "      <td>False</td>\n",
              "      <td>1</td>\n",
              "      <td>0</td>\n",
              "      <td>25</td>\n",
              "    </tr>\n",
              "    <tr>\n",
              "      <th>53897</th>\n",
              "      <td>168606</td>\n",
              "      <td>2019-11-10 00:00:00+03:00</td>\n",
              "      <td>out</td>\n",
              "      <td>True</td>\n",
              "      <td>957922.0</td>\n",
              "      <td>True</td>\n",
              "      <td>1</td>\n",
              "      <td>0</td>\n",
              "      <td>38</td>\n",
              "    </tr>\n",
              "    <tr>\n",
              "      <th>53898</th>\n",
              "      <td>168606</td>\n",
              "      <td>2019-11-11 00:00:00+03:00</td>\n",
              "      <td>out</td>\n",
              "      <td>True</td>\n",
              "      <td>957922.0</td>\n",
              "      <td>False</td>\n",
              "      <td>2</td>\n",
              "      <td>479</td>\n",
              "      <td>501</td>\n",
              "    </tr>\n",
              "    <tr>\n",
              "      <th>53899</th>\n",
              "      <td>168606</td>\n",
              "      <td>2019-11-15 00:00:00+03:00</td>\n",
              "      <td>out</td>\n",
              "      <td>True</td>\n",
              "      <td>957922.0</td>\n",
              "      <td>False</td>\n",
              "      <td>4</td>\n",
              "      <td>3130</td>\n",
              "      <td>3190</td>\n",
              "    </tr>\n",
              "    <tr>\n",
              "      <th>53901</th>\n",
              "      <td>168606</td>\n",
              "      <td>2019-11-19 00:00:00+03:00</td>\n",
              "      <td>in</td>\n",
              "      <td>False</td>\n",
              "      <td>NaN</td>\n",
              "      <td>True</td>\n",
              "      <td>2</td>\n",
              "      <td>0</td>\n",
              "      <td>64</td>\n",
              "    </tr>\n",
              "  </tbody>\n",
              "</table>\n",
              "<p>49002 rows × 9 columns</p>\n",
              "</div>"
            ],
            "text/plain": [
              "       user_id                       date direction internal  operator_id  \\\n",
              "0       166377  2019-08-04 00:00:00+03:00        in    False          NaN   \n",
              "1       166377  2019-08-05 00:00:00+03:00       out     True     880022.0   \n",
              "2       166377  2019-08-05 00:00:00+03:00       out     True     880020.0   \n",
              "3       166377  2019-08-05 00:00:00+03:00       out     True     880020.0   \n",
              "4       166377  2019-08-05 00:00:00+03:00       out    False     880022.0   \n",
              "...        ...                        ...       ...      ...          ...   \n",
              "53896   168606  2019-11-10 00:00:00+03:00       out     True     957922.0   \n",
              "53897   168606  2019-11-10 00:00:00+03:00       out     True     957922.0   \n",
              "53898   168606  2019-11-11 00:00:00+03:00       out     True     957922.0   \n",
              "53899   168606  2019-11-15 00:00:00+03:00       out     True     957922.0   \n",
              "53901   168606  2019-11-19 00:00:00+03:00        in    False          NaN   \n",
              "\n",
              "       is_missed_call  calls_count  call_duration  total_call_duration  \n",
              "0                True            2              0                    4  \n",
              "1                True            3              0                    5  \n",
              "2                True            1              0                    1  \n",
              "3               False            1             10                   18  \n",
              "4                True            3              0                   25  \n",
              "...               ...          ...            ...                  ...  \n",
              "53896           False            1              0                   25  \n",
              "53897            True            1              0                   38  \n",
              "53898           False            2            479                  501  \n",
              "53899           False            4           3130                 3190  \n",
              "53901            True            2              0                   64  \n",
              "\n",
              "[49002 rows x 9 columns]"
            ]
          },
          "execution_count": 7,
          "metadata": {},
          "output_type": "execute_result"
        }
      ],
      "source": [
        "#Eliminémoslos\n",
        "# [No funcionó por persistencia, tuve que poner el inplace]\n",
        "data.drop_duplicates(inplace=True)\n",
        "data"
      ]
    },
    {
      "cell_type": "code",
      "execution_count": null,
      "metadata": {
        "colab": {
          "base_uri": "https://localhost:8080/",
          "height": 617
        },
        "id": "ayuyZuNrD-XI",
        "outputId": "a70e5aaa-caf0-4ccc-a80c-c6b355986f7b"
      },
      "outputs": [
        {
          "data": {
            "text/html": [
              "<div>\n",
              "<style scoped>\n",
              "    .dataframe tbody tr th:only-of-type {\n",
              "        vertical-align: middle;\n",
              "    }\n",
              "\n",
              "    .dataframe tbody tr th {\n",
              "        vertical-align: top;\n",
              "    }\n",
              "\n",
              "    .dataframe thead th {\n",
              "        text-align: right;\n",
              "    }\n",
              "</style>\n",
              "<table border=\"1\" class=\"dataframe\">\n",
              "  <thead>\n",
              "    <tr style=\"text-align: right;\">\n",
              "      <th></th>\n",
              "      <th>user_id</th>\n",
              "      <th>date</th>\n",
              "      <th>direction</th>\n",
              "      <th>internal</th>\n",
              "      <th>operator_id</th>\n",
              "      <th>is_missed_call</th>\n",
              "      <th>calls_count</th>\n",
              "      <th>call_duration</th>\n",
              "      <th>total_call_duration</th>\n",
              "    </tr>\n",
              "  </thead>\n",
              "  <tbody>\n",
              "    <tr>\n",
              "      <th>0</th>\n",
              "      <td>166377</td>\n",
              "      <td>2019-08-04 00:00:00+03:00</td>\n",
              "      <td>in</td>\n",
              "      <td>False</td>\n",
              "      <td>NaN</td>\n",
              "      <td>True</td>\n",
              "      <td>2</td>\n",
              "      <td>0</td>\n",
              "      <td>4</td>\n",
              "    </tr>\n",
              "    <tr>\n",
              "      <th>1</th>\n",
              "      <td>166377</td>\n",
              "      <td>2019-08-05 00:00:00+03:00</td>\n",
              "      <td>out</td>\n",
              "      <td>True</td>\n",
              "      <td>880022.0</td>\n",
              "      <td>True</td>\n",
              "      <td>3</td>\n",
              "      <td>0</td>\n",
              "      <td>5</td>\n",
              "    </tr>\n",
              "    <tr>\n",
              "      <th>2</th>\n",
              "      <td>166377</td>\n",
              "      <td>2019-08-05 00:00:00+03:00</td>\n",
              "      <td>out</td>\n",
              "      <td>True</td>\n",
              "      <td>880020.0</td>\n",
              "      <td>True</td>\n",
              "      <td>1</td>\n",
              "      <td>0</td>\n",
              "      <td>1</td>\n",
              "    </tr>\n",
              "    <tr>\n",
              "      <th>3</th>\n",
              "      <td>166377</td>\n",
              "      <td>2019-08-05 00:00:00+03:00</td>\n",
              "      <td>out</td>\n",
              "      <td>True</td>\n",
              "      <td>880020.0</td>\n",
              "      <td>False</td>\n",
              "      <td>1</td>\n",
              "      <td>10</td>\n",
              "      <td>18</td>\n",
              "    </tr>\n",
              "    <tr>\n",
              "      <th>4</th>\n",
              "      <td>166377</td>\n",
              "      <td>2019-08-05 00:00:00+03:00</td>\n",
              "      <td>out</td>\n",
              "      <td>False</td>\n",
              "      <td>880022.0</td>\n",
              "      <td>True</td>\n",
              "      <td>3</td>\n",
              "      <td>0</td>\n",
              "      <td>25</td>\n",
              "    </tr>\n",
              "    <tr>\n",
              "      <th>...</th>\n",
              "      <td>...</td>\n",
              "      <td>...</td>\n",
              "      <td>...</td>\n",
              "      <td>...</td>\n",
              "      <td>...</td>\n",
              "      <td>...</td>\n",
              "      <td>...</td>\n",
              "      <td>...</td>\n",
              "      <td>...</td>\n",
              "    </tr>\n",
              "    <tr>\n",
              "      <th>48997</th>\n",
              "      <td>168606</td>\n",
              "      <td>2019-11-10 00:00:00+03:00</td>\n",
              "      <td>out</td>\n",
              "      <td>True</td>\n",
              "      <td>957922.0</td>\n",
              "      <td>False</td>\n",
              "      <td>1</td>\n",
              "      <td>0</td>\n",
              "      <td>25</td>\n",
              "    </tr>\n",
              "    <tr>\n",
              "      <th>48998</th>\n",
              "      <td>168606</td>\n",
              "      <td>2019-11-10 00:00:00+03:00</td>\n",
              "      <td>out</td>\n",
              "      <td>True</td>\n",
              "      <td>957922.0</td>\n",
              "      <td>True</td>\n",
              "      <td>1</td>\n",
              "      <td>0</td>\n",
              "      <td>38</td>\n",
              "    </tr>\n",
              "    <tr>\n",
              "      <th>48999</th>\n",
              "      <td>168606</td>\n",
              "      <td>2019-11-11 00:00:00+03:00</td>\n",
              "      <td>out</td>\n",
              "      <td>True</td>\n",
              "      <td>957922.0</td>\n",
              "      <td>False</td>\n",
              "      <td>2</td>\n",
              "      <td>479</td>\n",
              "      <td>501</td>\n",
              "    </tr>\n",
              "    <tr>\n",
              "      <th>49000</th>\n",
              "      <td>168606</td>\n",
              "      <td>2019-11-15 00:00:00+03:00</td>\n",
              "      <td>out</td>\n",
              "      <td>True</td>\n",
              "      <td>957922.0</td>\n",
              "      <td>False</td>\n",
              "      <td>4</td>\n",
              "      <td>3130</td>\n",
              "      <td>3190</td>\n",
              "    </tr>\n",
              "    <tr>\n",
              "      <th>49001</th>\n",
              "      <td>168606</td>\n",
              "      <td>2019-11-19 00:00:00+03:00</td>\n",
              "      <td>in</td>\n",
              "      <td>False</td>\n",
              "      <td>NaN</td>\n",
              "      <td>True</td>\n",
              "      <td>2</td>\n",
              "      <td>0</td>\n",
              "      <td>64</td>\n",
              "    </tr>\n",
              "  </tbody>\n",
              "</table>\n",
              "<p>49002 rows × 9 columns</p>\n",
              "</div>"
            ],
            "text/plain": [
              "       user_id                       date direction internal  operator_id  \\\n",
              "0       166377  2019-08-04 00:00:00+03:00        in    False          NaN   \n",
              "1       166377  2019-08-05 00:00:00+03:00       out     True     880022.0   \n",
              "2       166377  2019-08-05 00:00:00+03:00       out     True     880020.0   \n",
              "3       166377  2019-08-05 00:00:00+03:00       out     True     880020.0   \n",
              "4       166377  2019-08-05 00:00:00+03:00       out    False     880022.0   \n",
              "...        ...                        ...       ...      ...          ...   \n",
              "48997   168606  2019-11-10 00:00:00+03:00       out     True     957922.0   \n",
              "48998   168606  2019-11-10 00:00:00+03:00       out     True     957922.0   \n",
              "48999   168606  2019-11-11 00:00:00+03:00       out     True     957922.0   \n",
              "49000   168606  2019-11-15 00:00:00+03:00       out     True     957922.0   \n",
              "49001   168606  2019-11-19 00:00:00+03:00        in    False          NaN   \n",
              "\n",
              "       is_missed_call  calls_count  call_duration  total_call_duration  \n",
              "0                True            2              0                    4  \n",
              "1                True            3              0                    5  \n",
              "2                True            1              0                    1  \n",
              "3               False            1             10                   18  \n",
              "4                True            3              0                   25  \n",
              "...               ...          ...            ...                  ...  \n",
              "48997           False            1              0                   25  \n",
              "48998            True            1              0                   38  \n",
              "48999           False            2            479                  501  \n",
              "49000           False            4           3130                 3190  \n",
              "49001            True            2              0                   64  \n",
              "\n",
              "[49002 rows x 9 columns]"
            ]
          },
          "execution_count": 8,
          "metadata": {},
          "output_type": "execute_result"
        }
      ],
      "source": [
        "#Y reajustar el índice\n",
        "data = data.reset_index(drop=True)\n",
        "data"
      ]
    },
    {
      "cell_type": "code",
      "execution_count": null,
      "metadata": {
        "colab": {
          "base_uri": "https://localhost:8080/"
        },
        "id": "jsa6jfPC9Bfk",
        "outputId": "35a3cf92-aa29-4ef9-ea71-9ed2bd389628"
      },
      "outputs": [
        {
          "name": "stdout",
          "output_type": "stream",
          "text": [
            "<class 'pandas.core.frame.DataFrame'>\n",
            "RangeIndex: 49002 entries, 0 to 49001\n",
            "Data columns (total 9 columns):\n",
            " #   Column               Non-Null Count  Dtype  \n",
            "---  ------               --------------  -----  \n",
            " 0   user_id              49002 non-null  int64  \n",
            " 1   date                 49002 non-null  object \n",
            " 2   direction            49002 non-null  object \n",
            " 3   internal             48892 non-null  object \n",
            " 4   operator_id          41546 non-null  float64\n",
            " 5   is_missed_call       49002 non-null  bool   \n",
            " 6   calls_count          49002 non-null  int64  \n",
            " 7   call_duration        49002 non-null  int64  \n",
            " 8   total_call_duration  49002 non-null  int64  \n",
            "dtypes: bool(1), float64(1), int64(4), object(3)\n",
            "memory usage: 3.0+ MB\n"
          ]
        }
      ],
      "source": [
        "#Veamos tamaño, tipos y si hay nulos\n",
        "data.info()"
      ]
    },
    {
      "cell_type": "markdown",
      "metadata": {
        "id": "J9T-_WgTo0Ty"
      },
      "source": [
        "Tenemos nulos en `internal` y en `operator_id`."
      ]
    },
    {
      "cell_type": "code",
      "execution_count": null,
      "metadata": {
        "colab": {
          "base_uri": "https://localhost:8080/",
          "height": 617
        },
        "id": "w7lIq7MSrzez",
        "outputId": "f01a0414-09e1-4488-cfe5-fb11fc7f795c"
      },
      "outputs": [
        {
          "data": {
            "text/html": [
              "<div>\n",
              "<style scoped>\n",
              "    .dataframe tbody tr th:only-of-type {\n",
              "        vertical-align: middle;\n",
              "    }\n",
              "\n",
              "    .dataframe tbody tr th {\n",
              "        vertical-align: top;\n",
              "    }\n",
              "\n",
              "    .dataframe thead th {\n",
              "        text-align: right;\n",
              "    }\n",
              "</style>\n",
              "<table border=\"1\" class=\"dataframe\">\n",
              "  <thead>\n",
              "    <tr style=\"text-align: right;\">\n",
              "      <th></th>\n",
              "      <th>user_id</th>\n",
              "      <th>date</th>\n",
              "      <th>direction</th>\n",
              "      <th>internal</th>\n",
              "      <th>operator_id</th>\n",
              "      <th>is_missed_call</th>\n",
              "      <th>calls_count</th>\n",
              "      <th>call_duration</th>\n",
              "      <th>total_call_duration</th>\n",
              "    </tr>\n",
              "  </thead>\n",
              "  <tbody>\n",
              "    <tr>\n",
              "      <th>917</th>\n",
              "      <td>166405</td>\n",
              "      <td>2019-09-18 00:00:00+03:00</td>\n",
              "      <td>in</td>\n",
              "      <td>NaN</td>\n",
              "      <td>NaN</td>\n",
              "      <td>True</td>\n",
              "      <td>1</td>\n",
              "      <td>0</td>\n",
              "      <td>59</td>\n",
              "    </tr>\n",
              "    <tr>\n",
              "      <th>996</th>\n",
              "      <td>166405</td>\n",
              "      <td>2019-10-01 00:00:00+03:00</td>\n",
              "      <td>in</td>\n",
              "      <td>NaN</td>\n",
              "      <td>NaN</td>\n",
              "      <td>True</td>\n",
              "      <td>1</td>\n",
              "      <td>0</td>\n",
              "      <td>1</td>\n",
              "    </tr>\n",
              "    <tr>\n",
              "      <th>1705</th>\n",
              "      <td>166406</td>\n",
              "      <td>2019-08-20 00:00:00+03:00</td>\n",
              "      <td>in</td>\n",
              "      <td>NaN</td>\n",
              "      <td>NaN</td>\n",
              "      <td>True</td>\n",
              "      <td>1</td>\n",
              "      <td>0</td>\n",
              "      <td>36</td>\n",
              "    </tr>\n",
              "    <tr>\n",
              "      <th>1761</th>\n",
              "      <td>166406</td>\n",
              "      <td>2019-09-02 00:00:00+03:00</td>\n",
              "      <td>in</td>\n",
              "      <td>NaN</td>\n",
              "      <td>879898.0</td>\n",
              "      <td>False</td>\n",
              "      <td>1</td>\n",
              "      <td>2</td>\n",
              "      <td>9</td>\n",
              "    </tr>\n",
              "    <tr>\n",
              "      <th>5645</th>\n",
              "      <td>166541</td>\n",
              "      <td>2019-09-26 00:00:00+03:00</td>\n",
              "      <td>in</td>\n",
              "      <td>NaN</td>\n",
              "      <td>908960.0</td>\n",
              "      <td>False</td>\n",
              "      <td>1</td>\n",
              "      <td>393</td>\n",
              "      <td>423</td>\n",
              "    </tr>\n",
              "    <tr>\n",
              "      <th>...</th>\n",
              "      <td>...</td>\n",
              "      <td>...</td>\n",
              "      <td>...</td>\n",
              "      <td>...</td>\n",
              "      <td>...</td>\n",
              "      <td>...</td>\n",
              "      <td>...</td>\n",
              "      <td>...</td>\n",
              "      <td>...</td>\n",
              "    </tr>\n",
              "    <tr>\n",
              "      <th>47702</th>\n",
              "      <td>168361</td>\n",
              "      <td>2019-11-09 00:00:00+03:00</td>\n",
              "      <td>in</td>\n",
              "      <td>NaN</td>\n",
              "      <td>NaN</td>\n",
              "      <td>True</td>\n",
              "      <td>6</td>\n",
              "      <td>0</td>\n",
              "      <td>14</td>\n",
              "    </tr>\n",
              "    <tr>\n",
              "      <th>47819</th>\n",
              "      <td>168361</td>\n",
              "      <td>2019-11-13 00:00:00+03:00</td>\n",
              "      <td>in</td>\n",
              "      <td>NaN</td>\n",
              "      <td>NaN</td>\n",
              "      <td>True</td>\n",
              "      <td>2</td>\n",
              "      <td>0</td>\n",
              "      <td>6</td>\n",
              "    </tr>\n",
              "    <tr>\n",
              "      <th>47844</th>\n",
              "      <td>168361</td>\n",
              "      <td>2019-11-14 00:00:00+03:00</td>\n",
              "      <td>in</td>\n",
              "      <td>NaN</td>\n",
              "      <td>NaN</td>\n",
              "      <td>True</td>\n",
              "      <td>1</td>\n",
              "      <td>0</td>\n",
              "      <td>2</td>\n",
              "    </tr>\n",
              "    <tr>\n",
              "      <th>48837</th>\n",
              "      <td>168579</td>\n",
              "      <td>2019-11-09 00:00:00+03:00</td>\n",
              "      <td>in</td>\n",
              "      <td>NaN</td>\n",
              "      <td>NaN</td>\n",
              "      <td>True</td>\n",
              "      <td>1</td>\n",
              "      <td>0</td>\n",
              "      <td>18</td>\n",
              "    </tr>\n",
              "    <tr>\n",
              "      <th>48909</th>\n",
              "      <td>168598</td>\n",
              "      <td>2019-11-22 00:00:00+03:00</td>\n",
              "      <td>in</td>\n",
              "      <td>NaN</td>\n",
              "      <td>958394.0</td>\n",
              "      <td>False</td>\n",
              "      <td>1</td>\n",
              "      <td>11</td>\n",
              "      <td>17</td>\n",
              "    </tr>\n",
              "  </tbody>\n",
              "</table>\n",
              "<p>110 rows × 9 columns</p>\n",
              "</div>"
            ],
            "text/plain": [
              "       user_id                       date direction internal  operator_id  \\\n",
              "917     166405  2019-09-18 00:00:00+03:00        in      NaN          NaN   \n",
              "996     166405  2019-10-01 00:00:00+03:00        in      NaN          NaN   \n",
              "1705    166406  2019-08-20 00:00:00+03:00        in      NaN          NaN   \n",
              "1761    166406  2019-09-02 00:00:00+03:00        in      NaN     879898.0   \n",
              "5645    166541  2019-09-26 00:00:00+03:00        in      NaN     908960.0   \n",
              "...        ...                        ...       ...      ...          ...   \n",
              "47702   168361  2019-11-09 00:00:00+03:00        in      NaN          NaN   \n",
              "47819   168361  2019-11-13 00:00:00+03:00        in      NaN          NaN   \n",
              "47844   168361  2019-11-14 00:00:00+03:00        in      NaN          NaN   \n",
              "48837   168579  2019-11-09 00:00:00+03:00        in      NaN          NaN   \n",
              "48909   168598  2019-11-22 00:00:00+03:00        in      NaN     958394.0   \n",
              "\n",
              "       is_missed_call  calls_count  call_duration  total_call_duration  \n",
              "917              True            1              0                   59  \n",
              "996              True            1              0                    1  \n",
              "1705             True            1              0                   36  \n",
              "1761            False            1              2                    9  \n",
              "5645            False            1            393                  423  \n",
              "...               ...          ...            ...                  ...  \n",
              "47702            True            6              0                   14  \n",
              "47819            True            2              0                    6  \n",
              "47844            True            1              0                    2  \n",
              "48837            True            1              0                   18  \n",
              "48909           False            1             11                   17  \n",
              "\n",
              "[110 rows x 9 columns]"
            ]
          },
          "execution_count": 10,
          "metadata": {},
          "output_type": "execute_result"
        }
      ],
      "source": [
        "#En internal los datos son: True, False o Nan\n",
        "#Veamos a qué están vinculados los nulos de internal\n",
        "data[data['internal'].isna()]\n"
      ]
    },
    {
      "cell_type": "markdown",
      "metadata": {
        "id": "I4g54z-Jsx07"
      },
      "source": [
        "Hay nulos en `internal` cuando es una llamada entrante es una llamada perdida. Esto tiene sentido. Pero también los hay cuando la llamada sí se recibió. Veámoslos:"
      ]
    },
    {
      "cell_type": "code",
      "execution_count": null,
      "metadata": {
        "colab": {
          "base_uri": "https://localhost:8080/",
          "height": 1000
        },
        "id": "1XClRgUntt31",
        "outputId": "a81a56a7-19ce-4ec5-f7a0-f6588f6c5b73"
      },
      "outputs": [
        {
          "name": "stdout",
          "output_type": "stream",
          "text": [
            "54\n"
          ]
        },
        {
          "data": {
            "text/html": [
              "<div>\n",
              "<style scoped>\n",
              "    .dataframe tbody tr th:only-of-type {\n",
              "        vertical-align: middle;\n",
              "    }\n",
              "\n",
              "    .dataframe tbody tr th {\n",
              "        vertical-align: top;\n",
              "    }\n",
              "\n",
              "    .dataframe thead th {\n",
              "        text-align: right;\n",
              "    }\n",
              "</style>\n",
              "<table border=\"1\" class=\"dataframe\">\n",
              "  <thead>\n",
              "    <tr style=\"text-align: right;\">\n",
              "      <th></th>\n",
              "      <th>user_id</th>\n",
              "      <th>date</th>\n",
              "      <th>direction</th>\n",
              "      <th>internal</th>\n",
              "      <th>operator_id</th>\n",
              "      <th>is_missed_call</th>\n",
              "      <th>calls_count</th>\n",
              "      <th>call_duration</th>\n",
              "      <th>total_call_duration</th>\n",
              "    </tr>\n",
              "  </thead>\n",
              "  <tbody>\n",
              "    <tr>\n",
              "      <th>1761</th>\n",
              "      <td>166406</td>\n",
              "      <td>2019-09-02 00:00:00+03:00</td>\n",
              "      <td>in</td>\n",
              "      <td>NaN</td>\n",
              "      <td>879898.0</td>\n",
              "      <td>False</td>\n",
              "      <td>1</td>\n",
              "      <td>2</td>\n",
              "      <td>9</td>\n",
              "    </tr>\n",
              "    <tr>\n",
              "      <th>5645</th>\n",
              "      <td>166541</td>\n",
              "      <td>2019-09-26 00:00:00+03:00</td>\n",
              "      <td>in</td>\n",
              "      <td>NaN</td>\n",
              "      <td>908960.0</td>\n",
              "      <td>False</td>\n",
              "      <td>1</td>\n",
              "      <td>393</td>\n",
              "      <td>423</td>\n",
              "    </tr>\n",
              "    <tr>\n",
              "      <th>5651</th>\n",
              "      <td>166541</td>\n",
              "      <td>2019-09-26 00:00:00+03:00</td>\n",
              "      <td>in</td>\n",
              "      <td>NaN</td>\n",
              "      <td>908958.0</td>\n",
              "      <td>False</td>\n",
              "      <td>2</td>\n",
              "      <td>547</td>\n",
              "      <td>612</td>\n",
              "    </tr>\n",
              "    <tr>\n",
              "      <th>6846</th>\n",
              "      <td>166604</td>\n",
              "      <td>2019-11-01 00:00:00+03:00</td>\n",
              "      <td>in</td>\n",
              "      <td>NaN</td>\n",
              "      <td>893402.0</td>\n",
              "      <td>False</td>\n",
              "      <td>1</td>\n",
              "      <td>94</td>\n",
              "      <td>117</td>\n",
              "    </tr>\n",
              "    <tr>\n",
              "      <th>7862</th>\n",
              "      <td>166658</td>\n",
              "      <td>2019-09-24 00:00:00+03:00</td>\n",
              "      <td>in</td>\n",
              "      <td>NaN</td>\n",
              "      <td>890404.0</td>\n",
              "      <td>False</td>\n",
              "      <td>1</td>\n",
              "      <td>150</td>\n",
              "      <td>157</td>\n",
              "    </tr>\n",
              "    <tr>\n",
              "      <th>8245</th>\n",
              "      <td>166658</td>\n",
              "      <td>2019-10-15 00:00:00+03:00</td>\n",
              "      <td>in</td>\n",
              "      <td>NaN</td>\n",
              "      <td>890404.0</td>\n",
              "      <td>False</td>\n",
              "      <td>1</td>\n",
              "      <td>51</td>\n",
              "      <td>57</td>\n",
              "    </tr>\n",
              "    <tr>\n",
              "      <th>14706</th>\n",
              "      <td>166916</td>\n",
              "      <td>2019-10-01 00:00:00+03:00</td>\n",
              "      <td>in</td>\n",
              "      <td>NaN</td>\n",
              "      <td>906396.0</td>\n",
              "      <td>False</td>\n",
              "      <td>1</td>\n",
              "      <td>100</td>\n",
              "      <td>117</td>\n",
              "    </tr>\n",
              "    <tr>\n",
              "      <th>14816</th>\n",
              "      <td>166916</td>\n",
              "      <td>2019-10-07 00:00:00+03:00</td>\n",
              "      <td>in</td>\n",
              "      <td>NaN</td>\n",
              "      <td>906406.0</td>\n",
              "      <td>False</td>\n",
              "      <td>3</td>\n",
              "      <td>378</td>\n",
              "      <td>461</td>\n",
              "    </tr>\n",
              "    <tr>\n",
              "      <th>15060</th>\n",
              "      <td>166916</td>\n",
              "      <td>2019-10-23 00:00:00+03:00</td>\n",
              "      <td>in</td>\n",
              "      <td>NaN</td>\n",
              "      <td>906400.0</td>\n",
              "      <td>False</td>\n",
              "      <td>1</td>\n",
              "      <td>81</td>\n",
              "      <td>110</td>\n",
              "    </tr>\n",
              "    <tr>\n",
              "      <th>16957</th>\n",
              "      <td>166983</td>\n",
              "      <td>2019-09-02 00:00:00+03:00</td>\n",
              "      <td>in</td>\n",
              "      <td>NaN</td>\n",
              "      <td>901880.0</td>\n",
              "      <td>False</td>\n",
              "      <td>1</td>\n",
              "      <td>119</td>\n",
              "      <td>127</td>\n",
              "    </tr>\n",
              "    <tr>\n",
              "      <th>17734</th>\n",
              "      <td>166983</td>\n",
              "      <td>2019-11-14 00:00:00+03:00</td>\n",
              "      <td>in</td>\n",
              "      <td>NaN</td>\n",
              "      <td>901880.0</td>\n",
              "      <td>False</td>\n",
              "      <td>1</td>\n",
              "      <td>208</td>\n",
              "      <td>210</td>\n",
              "    </tr>\n",
              "    <tr>\n",
              "      <th>18163</th>\n",
              "      <td>166997</td>\n",
              "      <td>2019-09-21 00:00:00+03:00</td>\n",
              "      <td>in</td>\n",
              "      <td>NaN</td>\n",
              "      <td>903312.0</td>\n",
              "      <td>False</td>\n",
              "      <td>1</td>\n",
              "      <td>91</td>\n",
              "      <td>107</td>\n",
              "    </tr>\n",
              "    <tr>\n",
              "      <th>18264</th>\n",
              "      <td>166997</td>\n",
              "      <td>2019-10-01 00:00:00+03:00</td>\n",
              "      <td>in</td>\n",
              "      <td>NaN</td>\n",
              "      <td>905432.0</td>\n",
              "      <td>False</td>\n",
              "      <td>1</td>\n",
              "      <td>159</td>\n",
              "      <td>164</td>\n",
              "    </tr>\n",
              "    <tr>\n",
              "      <th>18340</th>\n",
              "      <td>166997</td>\n",
              "      <td>2019-10-13 00:00:00+03:00</td>\n",
              "      <td>in</td>\n",
              "      <td>NaN</td>\n",
              "      <td>903312.0</td>\n",
              "      <td>False</td>\n",
              "      <td>1</td>\n",
              "      <td>78</td>\n",
              "      <td>82</td>\n",
              "    </tr>\n",
              "    <tr>\n",
              "      <th>19739</th>\n",
              "      <td>167035</td>\n",
              "      <td>2019-11-17 00:00:00+03:00</td>\n",
              "      <td>in</td>\n",
              "      <td>NaN</td>\n",
              "      <td>923526.0</td>\n",
              "      <td>False</td>\n",
              "      <td>1</td>\n",
              "      <td>68</td>\n",
              "      <td>77</td>\n",
              "    </tr>\n",
              "    <tr>\n",
              "      <th>21081</th>\n",
              "      <td>167078</td>\n",
              "      <td>2019-11-13 00:00:00+03:00</td>\n",
              "      <td>in</td>\n",
              "      <td>NaN</td>\n",
              "      <td>935348.0</td>\n",
              "      <td>False</td>\n",
              "      <td>2</td>\n",
              "      <td>73</td>\n",
              "      <td>84</td>\n",
              "    </tr>\n",
              "    <tr>\n",
              "      <th>21671</th>\n",
              "      <td>167109</td>\n",
              "      <td>2019-09-25 00:00:00+03:00</td>\n",
              "      <td>in</td>\n",
              "      <td>NaN</td>\n",
              "      <td>906294.0</td>\n",
              "      <td>False</td>\n",
              "      <td>1</td>\n",
              "      <td>23</td>\n",
              "      <td>27</td>\n",
              "    </tr>\n",
              "    <tr>\n",
              "      <th>26907</th>\n",
              "      <td>167246</td>\n",
              "      <td>2019-10-18 00:00:00+03:00</td>\n",
              "      <td>in</td>\n",
              "      <td>NaN</td>\n",
              "      <td>908082.0</td>\n",
              "      <td>False</td>\n",
              "      <td>1</td>\n",
              "      <td>7</td>\n",
              "      <td>21</td>\n",
              "    </tr>\n",
              "    <tr>\n",
              "      <th>27059</th>\n",
              "      <td>167264</td>\n",
              "      <td>2019-10-14 00:00:00+03:00</td>\n",
              "      <td>in</td>\n",
              "      <td>NaN</td>\n",
              "      <td>919554.0</td>\n",
              "      <td>False</td>\n",
              "      <td>1</td>\n",
              "      <td>202</td>\n",
              "      <td>243</td>\n",
              "    </tr>\n",
              "    <tr>\n",
              "      <th>27192</th>\n",
              "      <td>167264</td>\n",
              "      <td>2019-11-15 00:00:00+03:00</td>\n",
              "      <td>in</td>\n",
              "      <td>NaN</td>\n",
              "      <td>919552.0</td>\n",
              "      <td>False</td>\n",
              "      <td>1</td>\n",
              "      <td>125</td>\n",
              "      <td>158</td>\n",
              "    </tr>\n",
              "    <tr>\n",
              "      <th>27214</th>\n",
              "      <td>167264</td>\n",
              "      <td>2019-11-21 00:00:00+03:00</td>\n",
              "      <td>in</td>\n",
              "      <td>NaN</td>\n",
              "      <td>919552.0</td>\n",
              "      <td>False</td>\n",
              "      <td>1</td>\n",
              "      <td>55</td>\n",
              "      <td>80</td>\n",
              "    </tr>\n",
              "    <tr>\n",
              "      <th>27278</th>\n",
              "      <td>167272</td>\n",
              "      <td>2019-10-09 00:00:00+03:00</td>\n",
              "      <td>in</td>\n",
              "      <td>NaN</td>\n",
              "      <td>910018.0</td>\n",
              "      <td>False</td>\n",
              "      <td>1</td>\n",
              "      <td>115</td>\n",
              "      <td>135</td>\n",
              "    </tr>\n",
              "    <tr>\n",
              "      <th>27282</th>\n",
              "      <td>167272</td>\n",
              "      <td>2019-10-09 00:00:00+03:00</td>\n",
              "      <td>in</td>\n",
              "      <td>NaN</td>\n",
              "      <td>912684.0</td>\n",
              "      <td>False</td>\n",
              "      <td>1</td>\n",
              "      <td>123</td>\n",
              "      <td>175</td>\n",
              "    </tr>\n",
              "    <tr>\n",
              "      <th>27513</th>\n",
              "      <td>167286</td>\n",
              "      <td>2019-10-31 00:00:00+03:00</td>\n",
              "      <td>in</td>\n",
              "      <td>NaN</td>\n",
              "      <td>910540.0</td>\n",
              "      <td>False</td>\n",
              "      <td>1</td>\n",
              "      <td>11</td>\n",
              "      <td>30</td>\n",
              "    </tr>\n",
              "    <tr>\n",
              "      <th>29643</th>\n",
              "      <td>167466</td>\n",
              "      <td>2019-11-26 00:00:00+03:00</td>\n",
              "      <td>in</td>\n",
              "      <td>NaN</td>\n",
              "      <td>921818.0</td>\n",
              "      <td>False</td>\n",
              "      <td>1</td>\n",
              "      <td>15</td>\n",
              "      <td>81</td>\n",
              "    </tr>\n",
              "    <tr>\n",
              "      <th>31942</th>\n",
              "      <td>167521</td>\n",
              "      <td>2019-11-15 00:00:00+03:00</td>\n",
              "      <td>in</td>\n",
              "      <td>NaN</td>\n",
              "      <td>919790.0</td>\n",
              "      <td>False</td>\n",
              "      <td>1</td>\n",
              "      <td>64</td>\n",
              "      <td>104</td>\n",
              "    </tr>\n",
              "    <tr>\n",
              "      <th>31954</th>\n",
              "      <td>167521</td>\n",
              "      <td>2019-11-16 00:00:00+03:00</td>\n",
              "      <td>in</td>\n",
              "      <td>NaN</td>\n",
              "      <td>919790.0</td>\n",
              "      <td>False</td>\n",
              "      <td>1</td>\n",
              "      <td>65</td>\n",
              "      <td>105</td>\n",
              "    </tr>\n",
              "    <tr>\n",
              "      <th>32503</th>\n",
              "      <td>167534</td>\n",
              "      <td>2019-10-16 00:00:00+03:00</td>\n",
              "      <td>in</td>\n",
              "      <td>NaN</td>\n",
              "      <td>929332.0</td>\n",
              "      <td>False</td>\n",
              "      <td>1</td>\n",
              "      <td>5</td>\n",
              "      <td>18</td>\n",
              "    </tr>\n",
              "    <tr>\n",
              "      <th>33173</th>\n",
              "      <td>167626</td>\n",
              "      <td>2019-09-27 00:00:00+03:00</td>\n",
              "      <td>in</td>\n",
              "      <td>NaN</td>\n",
              "      <td>919204.0</td>\n",
              "      <td>False</td>\n",
              "      <td>1</td>\n",
              "      <td>10</td>\n",
              "      <td>15</td>\n",
              "    </tr>\n",
              "    <tr>\n",
              "      <th>33282</th>\n",
              "      <td>167626</td>\n",
              "      <td>2019-09-30 00:00:00+03:00</td>\n",
              "      <td>in</td>\n",
              "      <td>NaN</td>\n",
              "      <td>919206.0</td>\n",
              "      <td>False</td>\n",
              "      <td>1</td>\n",
              "      <td>15</td>\n",
              "      <td>19</td>\n",
              "    </tr>\n",
              "    <tr>\n",
              "      <th>33299</th>\n",
              "      <td>167626</td>\n",
              "      <td>2019-09-30 00:00:00+03:00</td>\n",
              "      <td>in</td>\n",
              "      <td>NaN</td>\n",
              "      <td>919164.0</td>\n",
              "      <td>False</td>\n",
              "      <td>1</td>\n",
              "      <td>39</td>\n",
              "      <td>43</td>\n",
              "    </tr>\n",
              "    <tr>\n",
              "      <th>33355</th>\n",
              "      <td>167626</td>\n",
              "      <td>2019-10-01 00:00:00+03:00</td>\n",
              "      <td>in</td>\n",
              "      <td>NaN</td>\n",
              "      <td>919204.0</td>\n",
              "      <td>False</td>\n",
              "      <td>1</td>\n",
              "      <td>32</td>\n",
              "      <td>36</td>\n",
              "    </tr>\n",
              "    <tr>\n",
              "      <th>33491</th>\n",
              "      <td>167626</td>\n",
              "      <td>2019-10-03 00:00:00+03:00</td>\n",
              "      <td>in</td>\n",
              "      <td>NaN</td>\n",
              "      <td>919164.0</td>\n",
              "      <td>False</td>\n",
              "      <td>1</td>\n",
              "      <td>19</td>\n",
              "      <td>25</td>\n",
              "    </tr>\n",
              "    <tr>\n",
              "      <th>34517</th>\n",
              "      <td>167650</td>\n",
              "      <td>2019-10-01 00:00:00+03:00</td>\n",
              "      <td>in</td>\n",
              "      <td>NaN</td>\n",
              "      <td>921318.0</td>\n",
              "      <td>False</td>\n",
              "      <td>1</td>\n",
              "      <td>124</td>\n",
              "      <td>131</td>\n",
              "    </tr>\n",
              "    <tr>\n",
              "      <th>34614</th>\n",
              "      <td>167650</td>\n",
              "      <td>2019-10-14 00:00:00+03:00</td>\n",
              "      <td>in</td>\n",
              "      <td>NaN</td>\n",
              "      <td>921318.0</td>\n",
              "      <td>False</td>\n",
              "      <td>1</td>\n",
              "      <td>136</td>\n",
              "      <td>145</td>\n",
              "    </tr>\n",
              "    <tr>\n",
              "      <th>34641</th>\n",
              "      <td>167650</td>\n",
              "      <td>2019-10-17 00:00:00+03:00</td>\n",
              "      <td>in</td>\n",
              "      <td>NaN</td>\n",
              "      <td>921318.0</td>\n",
              "      <td>False</td>\n",
              "      <td>1</td>\n",
              "      <td>109</td>\n",
              "      <td>116</td>\n",
              "    </tr>\n",
              "    <tr>\n",
              "      <th>34662</th>\n",
              "      <td>167650</td>\n",
              "      <td>2019-10-19 00:00:00+03:00</td>\n",
              "      <td>in</td>\n",
              "      <td>NaN</td>\n",
              "      <td>931458.0</td>\n",
              "      <td>False</td>\n",
              "      <td>1</td>\n",
              "      <td>44</td>\n",
              "      <td>57</td>\n",
              "    </tr>\n",
              "    <tr>\n",
              "      <th>34797</th>\n",
              "      <td>167650</td>\n",
              "      <td>2019-11-02 00:00:00+03:00</td>\n",
              "      <td>in</td>\n",
              "      <td>NaN</td>\n",
              "      <td>921318.0</td>\n",
              "      <td>False</td>\n",
              "      <td>1</td>\n",
              "      <td>90</td>\n",
              "      <td>99</td>\n",
              "    </tr>\n",
              "    <tr>\n",
              "      <th>35033</th>\n",
              "      <td>167650</td>\n",
              "      <td>2019-11-26 00:00:00+03:00</td>\n",
              "      <td>in</td>\n",
              "      <td>NaN</td>\n",
              "      <td>931458.0</td>\n",
              "      <td>False</td>\n",
              "      <td>1</td>\n",
              "      <td>94</td>\n",
              "      <td>101</td>\n",
              "    </tr>\n",
              "    <tr>\n",
              "      <th>36929</th>\n",
              "      <td>167827</td>\n",
              "      <td>2019-10-21 00:00:00+03:00</td>\n",
              "      <td>in</td>\n",
              "      <td>NaN</td>\n",
              "      <td>929424.0</td>\n",
              "      <td>False</td>\n",
              "      <td>1</td>\n",
              "      <td>13</td>\n",
              "      <td>14</td>\n",
              "    </tr>\n",
              "    <tr>\n",
              "      <th>37389</th>\n",
              "      <td>167828</td>\n",
              "      <td>2019-11-18 00:00:00+03:00</td>\n",
              "      <td>in</td>\n",
              "      <td>NaN</td>\n",
              "      <td>940430.0</td>\n",
              "      <td>False</td>\n",
              "      <td>1</td>\n",
              "      <td>363</td>\n",
              "      <td>364</td>\n",
              "    </tr>\n",
              "    <tr>\n",
              "      <th>37626</th>\n",
              "      <td>167852</td>\n",
              "      <td>2019-10-23 00:00:00+03:00</td>\n",
              "      <td>in</td>\n",
              "      <td>NaN</td>\n",
              "      <td>932798.0</td>\n",
              "      <td>False</td>\n",
              "      <td>1</td>\n",
              "      <td>90</td>\n",
              "      <td>100</td>\n",
              "    </tr>\n",
              "    <tr>\n",
              "      <th>37633</th>\n",
              "      <td>167852</td>\n",
              "      <td>2019-10-25 00:00:00+03:00</td>\n",
              "      <td>in</td>\n",
              "      <td>NaN</td>\n",
              "      <td>932798.0</td>\n",
              "      <td>False</td>\n",
              "      <td>1</td>\n",
              "      <td>28</td>\n",
              "      <td>39</td>\n",
              "    </tr>\n",
              "    <tr>\n",
              "      <th>37645</th>\n",
              "      <td>167852</td>\n",
              "      <td>2019-10-31 00:00:00+03:00</td>\n",
              "      <td>in</td>\n",
              "      <td>NaN</td>\n",
              "      <td>932798.0</td>\n",
              "      <td>False</td>\n",
              "      <td>1</td>\n",
              "      <td>81</td>\n",
              "      <td>90</td>\n",
              "    </tr>\n",
              "    <tr>\n",
              "      <th>37701</th>\n",
              "      <td>167870</td>\n",
              "      <td>2019-11-06 00:00:00+03:00</td>\n",
              "      <td>in</td>\n",
              "      <td>NaN</td>\n",
              "      <td>936110.0</td>\n",
              "      <td>False</td>\n",
              "      <td>1</td>\n",
              "      <td>31</td>\n",
              "      <td>45</td>\n",
              "    </tr>\n",
              "    <tr>\n",
              "      <th>39174</th>\n",
              "      <td>167977</td>\n",
              "      <td>2019-11-14 00:00:00+03:00</td>\n",
              "      <td>in</td>\n",
              "      <td>NaN</td>\n",
              "      <td>944222.0</td>\n",
              "      <td>False</td>\n",
              "      <td>1</td>\n",
              "      <td>960</td>\n",
              "      <td>973</td>\n",
              "    </tr>\n",
              "    <tr>\n",
              "      <th>39180</th>\n",
              "      <td>167977</td>\n",
              "      <td>2019-11-14 00:00:00+03:00</td>\n",
              "      <td>in</td>\n",
              "      <td>NaN</td>\n",
              "      <td>944220.0</td>\n",
              "      <td>False</td>\n",
              "      <td>1</td>\n",
              "      <td>5</td>\n",
              "      <td>19</td>\n",
              "    </tr>\n",
              "    <tr>\n",
              "      <th>39319</th>\n",
              "      <td>167977</td>\n",
              "      <td>2019-11-25 00:00:00+03:00</td>\n",
              "      <td>in</td>\n",
              "      <td>NaN</td>\n",
              "      <td>944216.0</td>\n",
              "      <td>False</td>\n",
              "      <td>1</td>\n",
              "      <td>206</td>\n",
              "      <td>230</td>\n",
              "    </tr>\n",
              "    <tr>\n",
              "      <th>39349</th>\n",
              "      <td>167977</td>\n",
              "      <td>2019-11-27 00:00:00+03:00</td>\n",
              "      <td>in</td>\n",
              "      <td>NaN</td>\n",
              "      <td>944220.0</td>\n",
              "      <td>False</td>\n",
              "      <td>1</td>\n",
              "      <td>144</td>\n",
              "      <td>177</td>\n",
              "    </tr>\n",
              "    <tr>\n",
              "      <th>40331</th>\n",
              "      <td>168041</td>\n",
              "      <td>2019-11-06 00:00:00+03:00</td>\n",
              "      <td>in</td>\n",
              "      <td>NaN</td>\n",
              "      <td>936514.0</td>\n",
              "      <td>False</td>\n",
              "      <td>1</td>\n",
              "      <td>1</td>\n",
              "      <td>24</td>\n",
              "    </tr>\n",
              "    <tr>\n",
              "      <th>46129</th>\n",
              "      <td>168252</td>\n",
              "      <td>2019-11-22 00:00:00+03:00</td>\n",
              "      <td>in</td>\n",
              "      <td>NaN</td>\n",
              "      <td>940658.0</td>\n",
              "      <td>False</td>\n",
              "      <td>1</td>\n",
              "      <td>20</td>\n",
              "      <td>27</td>\n",
              "    </tr>\n",
              "    <tr>\n",
              "      <th>46408</th>\n",
              "      <td>168253</td>\n",
              "      <td>2019-11-15 00:00:00+03:00</td>\n",
              "      <td>in</td>\n",
              "      <td>NaN</td>\n",
              "      <td>952948.0</td>\n",
              "      <td>False</td>\n",
              "      <td>2</td>\n",
              "      <td>61</td>\n",
              "      <td>63</td>\n",
              "    </tr>\n",
              "    <tr>\n",
              "      <th>46843</th>\n",
              "      <td>168307</td>\n",
              "      <td>2019-11-01 00:00:00+03:00</td>\n",
              "      <td>in</td>\n",
              "      <td>NaN</td>\n",
              "      <td>945046.0</td>\n",
              "      <td>False</td>\n",
              "      <td>1</td>\n",
              "      <td>745</td>\n",
              "      <td>748</td>\n",
              "    </tr>\n",
              "    <tr>\n",
              "      <th>48909</th>\n",
              "      <td>168598</td>\n",
              "      <td>2019-11-22 00:00:00+03:00</td>\n",
              "      <td>in</td>\n",
              "      <td>NaN</td>\n",
              "      <td>958394.0</td>\n",
              "      <td>False</td>\n",
              "      <td>1</td>\n",
              "      <td>11</td>\n",
              "      <td>17</td>\n",
              "    </tr>\n",
              "  </tbody>\n",
              "</table>\n",
              "</div>"
            ],
            "text/plain": [
              "       user_id                       date direction internal  operator_id  \\\n",
              "1761    166406  2019-09-02 00:00:00+03:00        in      NaN     879898.0   \n",
              "5645    166541  2019-09-26 00:00:00+03:00        in      NaN     908960.0   \n",
              "5651    166541  2019-09-26 00:00:00+03:00        in      NaN     908958.0   \n",
              "6846    166604  2019-11-01 00:00:00+03:00        in      NaN     893402.0   \n",
              "7862    166658  2019-09-24 00:00:00+03:00        in      NaN     890404.0   \n",
              "8245    166658  2019-10-15 00:00:00+03:00        in      NaN     890404.0   \n",
              "14706   166916  2019-10-01 00:00:00+03:00        in      NaN     906396.0   \n",
              "14816   166916  2019-10-07 00:00:00+03:00        in      NaN     906406.0   \n",
              "15060   166916  2019-10-23 00:00:00+03:00        in      NaN     906400.0   \n",
              "16957   166983  2019-09-02 00:00:00+03:00        in      NaN     901880.0   \n",
              "17734   166983  2019-11-14 00:00:00+03:00        in      NaN     901880.0   \n",
              "18163   166997  2019-09-21 00:00:00+03:00        in      NaN     903312.0   \n",
              "18264   166997  2019-10-01 00:00:00+03:00        in      NaN     905432.0   \n",
              "18340   166997  2019-10-13 00:00:00+03:00        in      NaN     903312.0   \n",
              "19739   167035  2019-11-17 00:00:00+03:00        in      NaN     923526.0   \n",
              "21081   167078  2019-11-13 00:00:00+03:00        in      NaN     935348.0   \n",
              "21671   167109  2019-09-25 00:00:00+03:00        in      NaN     906294.0   \n",
              "26907   167246  2019-10-18 00:00:00+03:00        in      NaN     908082.0   \n",
              "27059   167264  2019-10-14 00:00:00+03:00        in      NaN     919554.0   \n",
              "27192   167264  2019-11-15 00:00:00+03:00        in      NaN     919552.0   \n",
              "27214   167264  2019-11-21 00:00:00+03:00        in      NaN     919552.0   \n",
              "27278   167272  2019-10-09 00:00:00+03:00        in      NaN     910018.0   \n",
              "27282   167272  2019-10-09 00:00:00+03:00        in      NaN     912684.0   \n",
              "27513   167286  2019-10-31 00:00:00+03:00        in      NaN     910540.0   \n",
              "29643   167466  2019-11-26 00:00:00+03:00        in      NaN     921818.0   \n",
              "31942   167521  2019-11-15 00:00:00+03:00        in      NaN     919790.0   \n",
              "31954   167521  2019-11-16 00:00:00+03:00        in      NaN     919790.0   \n",
              "32503   167534  2019-10-16 00:00:00+03:00        in      NaN     929332.0   \n",
              "33173   167626  2019-09-27 00:00:00+03:00        in      NaN     919204.0   \n",
              "33282   167626  2019-09-30 00:00:00+03:00        in      NaN     919206.0   \n",
              "33299   167626  2019-09-30 00:00:00+03:00        in      NaN     919164.0   \n",
              "33355   167626  2019-10-01 00:00:00+03:00        in      NaN     919204.0   \n",
              "33491   167626  2019-10-03 00:00:00+03:00        in      NaN     919164.0   \n",
              "34517   167650  2019-10-01 00:00:00+03:00        in      NaN     921318.0   \n",
              "34614   167650  2019-10-14 00:00:00+03:00        in      NaN     921318.0   \n",
              "34641   167650  2019-10-17 00:00:00+03:00        in      NaN     921318.0   \n",
              "34662   167650  2019-10-19 00:00:00+03:00        in      NaN     931458.0   \n",
              "34797   167650  2019-11-02 00:00:00+03:00        in      NaN     921318.0   \n",
              "35033   167650  2019-11-26 00:00:00+03:00        in      NaN     931458.0   \n",
              "36929   167827  2019-10-21 00:00:00+03:00        in      NaN     929424.0   \n",
              "37389   167828  2019-11-18 00:00:00+03:00        in      NaN     940430.0   \n",
              "37626   167852  2019-10-23 00:00:00+03:00        in      NaN     932798.0   \n",
              "37633   167852  2019-10-25 00:00:00+03:00        in      NaN     932798.0   \n",
              "37645   167852  2019-10-31 00:00:00+03:00        in      NaN     932798.0   \n",
              "37701   167870  2019-11-06 00:00:00+03:00        in      NaN     936110.0   \n",
              "39174   167977  2019-11-14 00:00:00+03:00        in      NaN     944222.0   \n",
              "39180   167977  2019-11-14 00:00:00+03:00        in      NaN     944220.0   \n",
              "39319   167977  2019-11-25 00:00:00+03:00        in      NaN     944216.0   \n",
              "39349   167977  2019-11-27 00:00:00+03:00        in      NaN     944220.0   \n",
              "40331   168041  2019-11-06 00:00:00+03:00        in      NaN     936514.0   \n",
              "46129   168252  2019-11-22 00:00:00+03:00        in      NaN     940658.0   \n",
              "46408   168253  2019-11-15 00:00:00+03:00        in      NaN     952948.0   \n",
              "46843   168307  2019-11-01 00:00:00+03:00        in      NaN     945046.0   \n",
              "48909   168598  2019-11-22 00:00:00+03:00        in      NaN     958394.0   \n",
              "\n",
              "       is_missed_call  calls_count  call_duration  total_call_duration  \n",
              "1761            False            1              2                    9  \n",
              "5645            False            1            393                  423  \n",
              "5651            False            2            547                  612  \n",
              "6846            False            1             94                  117  \n",
              "7862            False            1            150                  157  \n",
              "8245            False            1             51                   57  \n",
              "14706           False            1            100                  117  \n",
              "14816           False            3            378                  461  \n",
              "15060           False            1             81                  110  \n",
              "16957           False            1            119                  127  \n",
              "17734           False            1            208                  210  \n",
              "18163           False            1             91                  107  \n",
              "18264           False            1            159                  164  \n",
              "18340           False            1             78                   82  \n",
              "19739           False            1             68                   77  \n",
              "21081           False            2             73                   84  \n",
              "21671           False            1             23                   27  \n",
              "26907           False            1              7                   21  \n",
              "27059           False            1            202                  243  \n",
              "27192           False            1            125                  158  \n",
              "27214           False            1             55                   80  \n",
              "27278           False            1            115                  135  \n",
              "27282           False            1            123                  175  \n",
              "27513           False            1             11                   30  \n",
              "29643           False            1             15                   81  \n",
              "31942           False            1             64                  104  \n",
              "31954           False            1             65                  105  \n",
              "32503           False            1              5                   18  \n",
              "33173           False            1             10                   15  \n",
              "33282           False            1             15                   19  \n",
              "33299           False            1             39                   43  \n",
              "33355           False            1             32                   36  \n",
              "33491           False            1             19                   25  \n",
              "34517           False            1            124                  131  \n",
              "34614           False            1            136                  145  \n",
              "34641           False            1            109                  116  \n",
              "34662           False            1             44                   57  \n",
              "34797           False            1             90                   99  \n",
              "35033           False            1             94                  101  \n",
              "36929           False            1             13                   14  \n",
              "37389           False            1            363                  364  \n",
              "37626           False            1             90                  100  \n",
              "37633           False            1             28                   39  \n",
              "37645           False            1             81                   90  \n",
              "37701           False            1             31                   45  \n",
              "39174           False            1            960                  973  \n",
              "39180           False            1              5                   19  \n",
              "39319           False            1            206                  230  \n",
              "39349           False            1            144                  177  \n",
              "40331           False            1              1                   24  \n",
              "46129           False            1             20                   27  \n",
              "46408           False            2             61                   63  \n",
              "46843           False            1            745                  748  \n",
              "48909           False            1             11                   17  "
            ]
          },
          "execution_count": 11,
          "metadata": {},
          "output_type": "execute_result"
        }
      ],
      "source": [
        "#Localizar llamadas recibidas, con información nula en internal\n",
        "a= data[(data['internal'].isna()) & (data['is_missed_call']==False)]\n",
        "print(len(a))\n",
        "a"
      ]
    },
    {
      "cell_type": "code",
      "execution_count": null,
      "metadata": {
        "colab": {
          "base_uri": "https://localhost:8080/"
        },
        "id": "H3y1R0YEq8rJ",
        "outputId": "1b22c700-f619-450b-b8b3-b9df3f86d300"
      },
      "outputs": [
        {
          "data": {
            "text/plain": [
              "7456"
            ]
          },
          "execution_count": 12,
          "metadata": {},
          "output_type": "execute_result"
        }
      ],
      "source": [
        "#En operator_id los datos son: [el identificador del operador] o Nan,\n",
        "#veamos cuántos son nulos\n",
        "data['operator_id'].isna().sum()"
      ]
    },
    {
      "cell_type": "code",
      "execution_count": null,
      "metadata": {
        "colab": {
          "base_uri": "https://localhost:8080/",
          "height": 634
        },
        "id": "OBefOG8Bwu3y",
        "outputId": "e91050ba-5239-4de9-be4c-f4719a9a9159"
      },
      "outputs": [
        {
          "name": "stdout",
          "output_type": "stream",
          "text": [
            "113\n"
          ]
        },
        {
          "data": {
            "text/html": [
              "<div>\n",
              "<style scoped>\n",
              "    .dataframe tbody tr th:only-of-type {\n",
              "        vertical-align: middle;\n",
              "    }\n",
              "\n",
              "    .dataframe tbody tr th {\n",
              "        vertical-align: top;\n",
              "    }\n",
              "\n",
              "    .dataframe thead th {\n",
              "        text-align: right;\n",
              "    }\n",
              "</style>\n",
              "<table border=\"1\" class=\"dataframe\">\n",
              "  <thead>\n",
              "    <tr style=\"text-align: right;\">\n",
              "      <th></th>\n",
              "      <th>user_id</th>\n",
              "      <th>date</th>\n",
              "      <th>direction</th>\n",
              "      <th>internal</th>\n",
              "      <th>operator_id</th>\n",
              "      <th>is_missed_call</th>\n",
              "      <th>calls_count</th>\n",
              "      <th>call_duration</th>\n",
              "      <th>total_call_duration</th>\n",
              "    </tr>\n",
              "  </thead>\n",
              "  <tbody>\n",
              "    <tr>\n",
              "      <th>632</th>\n",
              "      <td>166399</td>\n",
              "      <td>2019-08-12 00:00:00+03:00</td>\n",
              "      <td>in</td>\n",
              "      <td>False</td>\n",
              "      <td>NaN</td>\n",
              "      <td>False</td>\n",
              "      <td>1</td>\n",
              "      <td>10</td>\n",
              "      <td>55</td>\n",
              "    </tr>\n",
              "    <tr>\n",
              "      <th>638</th>\n",
              "      <td>166399</td>\n",
              "      <td>2019-09-02 00:00:00+03:00</td>\n",
              "      <td>in</td>\n",
              "      <td>False</td>\n",
              "      <td>NaN</td>\n",
              "      <td>False</td>\n",
              "      <td>1</td>\n",
              "      <td>68</td>\n",
              "      <td>115</td>\n",
              "    </tr>\n",
              "    <tr>\n",
              "      <th>3732</th>\n",
              "      <td>166503</td>\n",
              "      <td>2019-09-26 00:00:00+03:00</td>\n",
              "      <td>out</td>\n",
              "      <td>False</td>\n",
              "      <td>NaN</td>\n",
              "      <td>False</td>\n",
              "      <td>1</td>\n",
              "      <td>213</td>\n",
              "      <td>220</td>\n",
              "    </tr>\n",
              "    <tr>\n",
              "      <th>3771</th>\n",
              "      <td>166503</td>\n",
              "      <td>2019-10-09 00:00:00+03:00</td>\n",
              "      <td>in</td>\n",
              "      <td>False</td>\n",
              "      <td>NaN</td>\n",
              "      <td>False</td>\n",
              "      <td>1</td>\n",
              "      <td>374</td>\n",
              "      <td>405</td>\n",
              "    </tr>\n",
              "    <tr>\n",
              "      <th>3830</th>\n",
              "      <td>166503</td>\n",
              "      <td>2019-10-21 00:00:00+03:00</td>\n",
              "      <td>out</td>\n",
              "      <td>True</td>\n",
              "      <td>NaN</td>\n",
              "      <td>False</td>\n",
              "      <td>2</td>\n",
              "      <td>382</td>\n",
              "      <td>397</td>\n",
              "    </tr>\n",
              "    <tr>\n",
              "      <th>...</th>\n",
              "      <td>...</td>\n",
              "      <td>...</td>\n",
              "      <td>...</td>\n",
              "      <td>...</td>\n",
              "      <td>...</td>\n",
              "      <td>...</td>\n",
              "      <td>...</td>\n",
              "      <td>...</td>\n",
              "      <td>...</td>\n",
              "    </tr>\n",
              "    <tr>\n",
              "      <th>46327</th>\n",
              "      <td>168252</td>\n",
              "      <td>2019-11-28 00:00:00+03:00</td>\n",
              "      <td>in</td>\n",
              "      <td>True</td>\n",
              "      <td>NaN</td>\n",
              "      <td>False</td>\n",
              "      <td>2</td>\n",
              "      <td>265</td>\n",
              "      <td>274</td>\n",
              "    </tr>\n",
              "    <tr>\n",
              "      <th>46343</th>\n",
              "      <td>168252</td>\n",
              "      <td>2019-11-28 00:00:00+03:00</td>\n",
              "      <td>in</td>\n",
              "      <td>False</td>\n",
              "      <td>NaN</td>\n",
              "      <td>False</td>\n",
              "      <td>45</td>\n",
              "      <td>23765</td>\n",
              "      <td>23897</td>\n",
              "    </tr>\n",
              "    <tr>\n",
              "      <th>46352</th>\n",
              "      <td>168252</td>\n",
              "      <td>2019-11-28 00:00:00+03:00</td>\n",
              "      <td>out</td>\n",
              "      <td>False</td>\n",
              "      <td>NaN</td>\n",
              "      <td>False</td>\n",
              "      <td>22</td>\n",
              "      <td>11904</td>\n",
              "      <td>12211</td>\n",
              "    </tr>\n",
              "    <tr>\n",
              "      <th>46353</th>\n",
              "      <td>168252</td>\n",
              "      <td>2019-11-28 00:00:00+03:00</td>\n",
              "      <td>out</td>\n",
              "      <td>True</td>\n",
              "      <td>NaN</td>\n",
              "      <td>False</td>\n",
              "      <td>1</td>\n",
              "      <td>159</td>\n",
              "      <td>168</td>\n",
              "    </tr>\n",
              "    <tr>\n",
              "      <th>46995</th>\n",
              "      <td>168336</td>\n",
              "      <td>2019-11-14 00:00:00+03:00</td>\n",
              "      <td>in</td>\n",
              "      <td>False</td>\n",
              "      <td>NaN</td>\n",
              "      <td>False</td>\n",
              "      <td>1</td>\n",
              "      <td>169</td>\n",
              "      <td>174</td>\n",
              "    </tr>\n",
              "  </tbody>\n",
              "</table>\n",
              "<p>113 rows × 9 columns</p>\n",
              "</div>"
            ],
            "text/plain": [
              "       user_id                       date direction internal  operator_id  \\\n",
              "632     166399  2019-08-12 00:00:00+03:00        in    False          NaN   \n",
              "638     166399  2019-09-02 00:00:00+03:00        in    False          NaN   \n",
              "3732    166503  2019-09-26 00:00:00+03:00       out    False          NaN   \n",
              "3771    166503  2019-10-09 00:00:00+03:00        in    False          NaN   \n",
              "3830    166503  2019-10-21 00:00:00+03:00       out     True          NaN   \n",
              "...        ...                        ...       ...      ...          ...   \n",
              "46327   168252  2019-11-28 00:00:00+03:00        in     True          NaN   \n",
              "46343   168252  2019-11-28 00:00:00+03:00        in    False          NaN   \n",
              "46352   168252  2019-11-28 00:00:00+03:00       out    False          NaN   \n",
              "46353   168252  2019-11-28 00:00:00+03:00       out     True          NaN   \n",
              "46995   168336  2019-11-14 00:00:00+03:00        in    False          NaN   \n",
              "\n",
              "       is_missed_call  calls_count  call_duration  total_call_duration  \n",
              "632             False            1             10                   55  \n",
              "638             False            1             68                  115  \n",
              "3732            False            1            213                  220  \n",
              "3771            False            1            374                  405  \n",
              "3830            False            2            382                  397  \n",
              "...               ...          ...            ...                  ...  \n",
              "46327           False            2            265                  274  \n",
              "46343           False           45          23765                23897  \n",
              "46352           False           22          11904                12211  \n",
              "46353           False            1            159                  168  \n",
              "46995           False            1            169                  174  \n",
              "\n",
              "[113 rows x 9 columns]"
            ]
          },
          "execution_count": 13,
          "metadata": {},
          "output_type": "execute_result"
        }
      ],
      "source": [
        "\n",
        "#Veamos si, aunque no hay operador registrado, la llamada se recibió:\n",
        "b = data[(data['operator_id'].isna()) & (data['is_missed_call']==False)]\n",
        "print(len(b))\n",
        "b"
      ]
    },
    {
      "cell_type": "markdown",
      "metadata": {
        "id": "c8UEagsyVA4J"
      },
      "source": [
        "Sobre los 54 nulos `internal` en llamada recibida y los 113 en `operator_id` también en llamada recibida se decide su eliminación ya que no hay una razón que los justifique. Esos 167 registros suman apenas el 0.34% porciento de los registros y sin ellos tendremos un dataframe más controlado.\n",
        "\n",
        "No se están eliminando todos los nulos: los nulos en caso de llamada perdida se quedan porque sí tiene sentido de su existencia."
      ]
    },
    {
      "cell_type": "code",
      "execution_count": null,
      "metadata": {
        "colab": {
          "base_uri": "https://localhost:8080/"
        },
        "id": "KvFUZOD4WEj6",
        "outputId": "261038e4-f2fa-4f50-c1ac-567387ec818c"
      },
      "outputs": [
        {
          "data": {
            "text/plain": [
              "(48835, 9)"
            ]
          },
          "execution_count": 14,
          "metadata": {},
          "output_type": "execute_result"
        }
      ],
      "source": [
        "#Obtengamos los índices de a y de b\n",
        "in_a = a.index\n",
        "in_b = b.index\n",
        "#Usémoslos para eliminar tales filas del df data\n",
        "data = data.drop(in_a)\n",
        "data = data.drop(in_b)\n",
        "#Veamos de cuántas filas nos queda el dataframe\n",
        "data.shape"
      ]
    },
    {
      "cell_type": "markdown",
      "metadata": {
        "id": "vTvNCBOSG8Kp"
      },
      "source": [
        "#### Fechas"
      ]
    },
    {
      "cell_type": "markdown",
      "metadata": {
        "id": "UF5OZ4pRpS8C"
      },
      "source": [
        "La hora es exactamente la misma cada día por lo que utilizaremos únicamente el día y eliminaremos la hora, a su vez que cambiaremos el tipo de columna:"
      ]
    },
    {
      "cell_type": "code",
      "execution_count": null,
      "metadata": {
        "colab": {
          "base_uri": "https://localhost:8080/"
        },
        "id": "U6EGi_LDpc3C",
        "outputId": "5bedbede-d0e1-4089-ba7b-2444402ddfa5"
      },
      "outputs": [
        {
          "name": "stdout",
          "output_type": "stream",
          "text": [
            "<class 'pandas.core.frame.DataFrame'>\n",
            "Int64Index: 48835 entries, 0 to 49001\n",
            "Data columns (total 9 columns):\n",
            " #   Column               Non-Null Count  Dtype         \n",
            "---  ------               --------------  -----         \n",
            " 0   user_id              48835 non-null  int64         \n",
            " 1   date                 48835 non-null  datetime64[ns]\n",
            " 2   direction            48835 non-null  object        \n",
            " 3   internal             48779 non-null  object        \n",
            " 4   operator_id          41492 non-null  float64       \n",
            " 5   is_missed_call       48835 non-null  bool          \n",
            " 6   calls_count          48835 non-null  int64         \n",
            " 7   call_duration        48835 non-null  int64         \n",
            " 8   total_call_duration  48835 non-null  int64         \n",
            "dtypes: bool(1), datetime64[ns](1), float64(1), int64(4), object(2)\n",
            "memory usage: 3.4+ MB\n"
          ]
        }
      ],
      "source": [
        "#Convertimos la fecha a formato de fecha\n",
        "data['date'] = pd.to_datetime(data['date'], format='%Y-%m-%d %H:%M:%S%z')\n",
        "#y la truncamos quitándole la hora y la zona horaria\n",
        "data['date'] = data['date'].dt.date\n",
        "#Pero como la convierte en un object hay que convertirla de nuevo a datetime\n",
        "data['date'] = pd.to_datetime(data['date'], format='%Y-%m-%d')\n",
        "data.info()"
      ]
    },
    {
      "cell_type": "code",
      "execution_count": null,
      "metadata": {
        "colab": {
          "base_uri": "https://localhost:8080/",
          "height": 215
        },
        "id": "N895cHeFFo4Q",
        "outputId": "218bce61-f29c-4897-a887-9c9dd0b3e10d"
      },
      "outputs": [
        {
          "data": {
            "text/html": [
              "<div>\n",
              "<style scoped>\n",
              "    .dataframe tbody tr th:only-of-type {\n",
              "        vertical-align: middle;\n",
              "    }\n",
              "\n",
              "    .dataframe tbody tr th {\n",
              "        vertical-align: top;\n",
              "    }\n",
              "\n",
              "    .dataframe thead th {\n",
              "        text-align: right;\n",
              "    }\n",
              "</style>\n",
              "<table border=\"1\" class=\"dataframe\">\n",
              "  <thead>\n",
              "    <tr style=\"text-align: right;\">\n",
              "      <th></th>\n",
              "      <th>user_id</th>\n",
              "      <th>date</th>\n",
              "      <th>direction</th>\n",
              "      <th>internal</th>\n",
              "      <th>operator_id</th>\n",
              "      <th>is_missed_call</th>\n",
              "      <th>calls_count</th>\n",
              "      <th>call_duration</th>\n",
              "      <th>total_call_duration</th>\n",
              "    </tr>\n",
              "  </thead>\n",
              "  <tbody>\n",
              "    <tr>\n",
              "      <th>0</th>\n",
              "      <td>166377</td>\n",
              "      <td>2019-08-04</td>\n",
              "      <td>in</td>\n",
              "      <td>False</td>\n",
              "      <td>NaN</td>\n",
              "      <td>True</td>\n",
              "      <td>2</td>\n",
              "      <td>0</td>\n",
              "      <td>4</td>\n",
              "    </tr>\n",
              "    <tr>\n",
              "      <th>1</th>\n",
              "      <td>166377</td>\n",
              "      <td>2019-08-05</td>\n",
              "      <td>out</td>\n",
              "      <td>True</td>\n",
              "      <td>880022.0</td>\n",
              "      <td>True</td>\n",
              "      <td>3</td>\n",
              "      <td>0</td>\n",
              "      <td>5</td>\n",
              "    </tr>\n",
              "    <tr>\n",
              "      <th>2</th>\n",
              "      <td>166377</td>\n",
              "      <td>2019-08-05</td>\n",
              "      <td>out</td>\n",
              "      <td>True</td>\n",
              "      <td>880020.0</td>\n",
              "      <td>True</td>\n",
              "      <td>1</td>\n",
              "      <td>0</td>\n",
              "      <td>1</td>\n",
              "    </tr>\n",
              "  </tbody>\n",
              "</table>\n",
              "</div>"
            ],
            "text/plain": [
              "   user_id       date direction internal  operator_id  is_missed_call  \\\n",
              "0   166377 2019-08-04        in    False          NaN            True   \n",
              "1   166377 2019-08-05       out     True     880022.0            True   \n",
              "2   166377 2019-08-05       out     True     880020.0            True   \n",
              "\n",
              "   calls_count  call_duration  total_call_duration  \n",
              "0            2              0                    4  \n",
              "1            3              0                    5  \n",
              "2            1              0                    1  "
            ]
          },
          "execution_count": 16,
          "metadata": {},
          "output_type": "execute_result"
        }
      ],
      "source": [
        "#Verifiquemos la columna\n",
        "data.head(3)"
      ]
    },
    {
      "cell_type": "markdown",
      "metadata": {
        "id": "MvxuOeZKn4VB"
      },
      "source": [
        "### Clients"
      ]
    },
    {
      "cell_type": "markdown",
      "metadata": {
        "id": "7DJRgNRdfaqY"
      },
      "source": [
        "El conjunto de datos `clients` tiene las siguientes columnas:\n",
        "\n",
        "- `user_id`: ID de usuario/a\n",
        "- `tariff_plan`: tarifa actual de la clientela\n",
        "- `date_start`: fecha de registro de la clientela"
      ]
    },
    {
      "cell_type": "code",
      "execution_count": null,
      "metadata": {
        "colab": {
          "base_uri": "https://localhost:8080/",
          "height": 206
        },
        "id": "mlm6qeQNFDIq",
        "outputId": "7f3b3766-e3ec-4cf2-d34f-4a6af9c8b667"
      },
      "outputs": [
        {
          "data": {
            "text/html": [
              "<div>\n",
              "<style scoped>\n",
              "    .dataframe tbody tr th:only-of-type {\n",
              "        vertical-align: middle;\n",
              "    }\n",
              "\n",
              "    .dataframe tbody tr th {\n",
              "        vertical-align: top;\n",
              "    }\n",
              "\n",
              "    .dataframe thead th {\n",
              "        text-align: right;\n",
              "    }\n",
              "</style>\n",
              "<table border=\"1\" class=\"dataframe\">\n",
              "  <thead>\n",
              "    <tr style=\"text-align: right;\">\n",
              "      <th></th>\n",
              "      <th>user_id</th>\n",
              "      <th>tariff_plan</th>\n",
              "      <th>date_start</th>\n",
              "    </tr>\n",
              "  </thead>\n",
              "  <tbody>\n",
              "    <tr>\n",
              "      <th>0</th>\n",
              "      <td>166713</td>\n",
              "      <td>A</td>\n",
              "      <td>2019-08-15</td>\n",
              "    </tr>\n",
              "    <tr>\n",
              "      <th>1</th>\n",
              "      <td>166901</td>\n",
              "      <td>A</td>\n",
              "      <td>2019-08-23</td>\n",
              "    </tr>\n",
              "    <tr>\n",
              "      <th>2</th>\n",
              "      <td>168527</td>\n",
              "      <td>A</td>\n",
              "      <td>2019-10-29</td>\n",
              "    </tr>\n",
              "    <tr>\n",
              "      <th>3</th>\n",
              "      <td>167097</td>\n",
              "      <td>A</td>\n",
              "      <td>2019-09-01</td>\n",
              "    </tr>\n",
              "    <tr>\n",
              "      <th>4</th>\n",
              "      <td>168193</td>\n",
              "      <td>A</td>\n",
              "      <td>2019-10-16</td>\n",
              "    </tr>\n",
              "  </tbody>\n",
              "</table>\n",
              "</div>"
            ],
            "text/plain": [
              "   user_id tariff_plan  date_start\n",
              "0   166713           A  2019-08-15\n",
              "1   166901           A  2019-08-23\n",
              "2   168527           A  2019-10-29\n",
              "3   167097           A  2019-09-01\n",
              "4   168193           A  2019-10-16"
            ]
          },
          "execution_count": 17,
          "metadata": {},
          "output_type": "execute_result"
        }
      ],
      "source": [
        "#Visualizar las primeras filas del dataframe\n",
        "clients.head()"
      ]
    },
    {
      "cell_type": "code",
      "execution_count": null,
      "metadata": {
        "colab": {
          "base_uri": "https://localhost:8080/"
        },
        "id": "sUCQjq2ZKxoM",
        "outputId": "aa5071e9-aca2-4906-a5a4-aba943aed20b"
      },
      "outputs": [
        {
          "data": {
            "text/plain": [
              "{'user_id': array([166713, 166901, 168527, 167097, 168193, 167764, 167050, 168252,\n",
              "        168495, 167879, 168573, 166610, 167536, 168354, 168284, 168422,\n",
              "        168253, 168062, 168048, 168205, 167838, 168361, 168295, 167881,\n",
              "        168121, 168049, 167949, 168187, 167828, 167810, 168112, 167953,\n",
              "        167799, 166897, 167628, 166916, 167497, 167634, 166879, 166465,\n",
              "        166523, 166806, 167185, 168459, 167267, 166541, 167090, 166934,\n",
              "        166896, 166725, 166582, 166843, 166407, 166439, 168128, 168176,\n",
              "        168341, 167265, 167211, 168255, 167158, 166609, 167000, 167285,\n",
              "        168576, 168281, 168020, 166681, 166427, 166531, 166481, 167626,\n",
              "        167662, 167118, 166570, 167631, 166720, 167948, 167584, 167701,\n",
              "        167397, 168202, 167212, 167698, 167368, 167364, 167180, 166619,\n",
              "        168185, 167739, 167325, 168350, 168054, 167534, 166939, 167309,\n",
              "        168529, 167390, 166997, 168088, 168412, 166546, 166669, 167412,\n",
              "        167918, 167829, 168186, 166374, 167831, 166878, 167646, 168090,\n",
              "        168115, 167718, 167669, 166650, 166487, 167441, 168471, 168469,\n",
              "        168598, 168606, 168133, 167875, 167715, 168335, 168473, 167727,\n",
              "        168582, 168374, 168536, 168575, 167599, 168411, 168601, 166762,\n",
              "        168008, 168368, 168515, 167471, 168522, 167958, 168353, 167742,\n",
              "        168264, 168175, 168464, 167139, 168303, 167747, 167238, 168190,\n",
              "        168486, 166905, 166782, 166508, 166930, 167040, 167735, 166400,\n",
              "        168348, 168206, 168416, 167934, 167923, 168415, 168165, 167187,\n",
              "        168336, 166418, 168132, 168326, 168293, 168381, 168040, 168221,\n",
              "        168092, 168261, 168024, 168227, 168276, 168144, 168208, 167998,\n",
              "        168288, 168275, 168256, 168228, 167756, 167653, 168030, 168110,\n",
              "        168155, 167950, 167513, 167968, 168073, 166628, 167872, 167569,\n",
              "        166895, 167733, 168031, 168016, 167870, 167501, 168101, 168011,\n",
              "        167921, 168064, 167976, 167734, 167954, 168042, 168004, 166482,\n",
              "        168022, 167792, 168010, 168019, 167216, 167027, 167943, 167917,\n",
              "        167941, 167552, 167936, 167700, 167852, 167622, 167575, 167798,\n",
              "        167927, 167878, 167827, 166940, 167335, 167888, 167906, 167816,\n",
              "        167499, 167665, 167709, 167805, 166947, 167729, 167630, 166408,\n",
              "        166574, 168317, 167571, 167641, 166629, 168271, 167535, 167781,\n",
              "        167598, 166869, 167660, 167545, 166729, 167691, 167682, 167039,\n",
              "        167466, 167672, 167664, 167650, 167567, 167644, 167618, 167744,\n",
              "        167861, 167370, 167408, 166585, 167683, 167506, 166874, 167643,\n",
              "        167627, 167455, 167533, 167532, 166688, 167209, 167526, 167456,\n",
              "        167494, 167500, 167159, 167430, 167482, 167450, 167488, 167434,\n",
              "        167016, 167001, 167195, 167425, 166645, 166397, 166881, 167107,\n",
              "        167382, 167199, 167252, 167277, 167031, 167059, 166631, 167272,\n",
              "        167286, 167210, 167200, 167192, 167235, 167242, 167246, 167188,\n",
              "        167019, 167109, 167150, 167162, 166889, 167143, 166985, 167079,\n",
              "        167052, 166726, 166833, 167102, 166617, 166917, 166938, 166983,\n",
              "        166973, 167003, 166836, 167030, 166812, 167034, 167014, 166974,\n",
              "        166868, 166679, 166575, 167035, 166918, 166460, 166396, 166703,\n",
              "        166835, 166604, 166792, 166767, 166979, 166959, 166926, 166621,\n",
              "        166708, 166745, 166744, 166717, 166803, 166511, 166677, 166636,\n",
              "        166691, 166566, 166671, 166491, 166649, 166573, 166392, 166520,\n",
              "        166555, 166540, 166410, 166497, 166468, 166373, 166387, 166876,\n",
              "        166903, 166388, 167933, 168466, 167721, 167473, 167568, 167440,\n",
              "        168366, 168119, 168093, 167994, 167905, 167690, 167301, 166773,\n",
              "        167553, 167704, 167213, 167273, 167025, 166761, 166692, 166644,\n",
              "        166655, 166391, 168488, 167837, 167112, 167613, 167220, 167042,\n",
              "        166652, 166424, 166376, 167407, 167507, 167510, 167282, 167244,\n",
              "        168013, 168077, 167227, 167053, 167011, 167759, 166900, 167446,\n",
              "        167318, 167245, 166902, 166469, 166505, 166965, 166584, 166490,\n",
              "        166545, 166412, 167830, 167647, 167189, 167125, 166507, 166666,\n",
              "        166936, 166390, 166727, 167819, 166398, 166579, 166693, 166399,\n",
              "        166957, 167474, 166375, 167645, 167051, 167160, 167144, 167129,\n",
              "        167113, 167663, 166946, 166908, 166955, 166993, 166842, 167263,\n",
              "        167657, 167061, 168103, 167122, 168106, 167652, 167840, 168047,\n",
              "        167250, 168237, 168500, 167095, 167077, 167929, 168212, 167972,\n",
              "        166406, 167908, 166678, 168567, 166405, 166785, 168291, 168550,\n",
              "        167419, 168526, 168329, 168078, 168490, 168417, 167969, 167479,\n",
              "        168562, 168243, 168222, 166495, 168000, 167375, 166591, 168173,\n",
              "        168513, 168603, 168091, 166654, 168574, 168549, 168481, 168452,\n",
              "        168499, 167959, 168542, 168225, 167036, 168579, 168558, 168180,\n",
              "        168349, 168583, 167480, 168315, 166942, 167451, 168334, 168322,\n",
              "        168479, 168302, 168377, 168376, 168378, 167402, 168352, 168379,\n",
              "        168018, 166503, 168167, 167310, 168209, 167977, 168099, 168309,\n",
              "        168262, 167955, 168066, 168154, 168021, 167621, 167317, 167874,\n",
              "        168149, 168105, 168041, 167580, 167989, 167851, 168015, 167995,\n",
              "        167999, 167947, 167299, 167930, 166680, 167736, 167849, 167060,\n",
              "        167654, 167724, 167679, 167512, 166428, 167651, 167738, 167716,\n",
              "        167326, 167565, 166500, 166813, 167445, 167487, 166532, 168446,\n",
              "        167264, 166788, 167275, 167521, 167447, 167115, 167357, 167359,\n",
              "        167338, 167315, 167339, 167054, 167228, 167041, 167266, 167225,\n",
              "        166956, 167176, 167156, 167172, 167174, 166829, 167175, 167110,\n",
              "        166598, 166970, 167114, 167078, 167004, 167082, 167002, 167183,\n",
              "        167443, 167847, 167869, 167867, 166962, 166975, 166791, 166638,\n",
              "        166660, 166653, 166899, 166711, 166795, 166524, 166772, 166732,\n",
              "        166675, 166774, 166800, 166697, 166755, 166769, 166971, 166844,\n",
              "        167436, 167475, 167071, 167179, 166734, 166663, 166560, 166658,\n",
              "        166534, 166594, 166485, 166627, 166548, 166536, 166389, 166440,\n",
              "        166380, 166421, 166377, 166783, 167502, 168307, 168449, 167124,\n",
              "        167468, 167256, 168053, 168578, 167219, 167410, 166837, 167942,\n",
              "        167858, 167768, 167750, 167463, 167164, 167543, 166839, 166550,\n",
              "        167638, 167142, 167058, 166426, 166533, 166884, 166464, 166530,\n",
              "        168245, 168071, 168509, 167384, 166569, 167939, 168097, 167296,\n",
              "        167813, 168340, 167981, 167551, 168025, 166958, 168356, 167130,\n",
              "        167530, 167288, 167009, 167141, 167697, 167415, 166941, 166705,\n",
              "        166587, 167452, 166797, 167268, 166522, 166815, 166702, 166554,\n",
              "        166911, 167012, 166867, 166565]),\n",
              " 'tariff_plan': array(['A', 'C', 'B'], dtype=object),\n",
              " 'date_start': array(['2019-08-15', '2019-08-23', '2019-10-29', '2019-09-01',\n",
              "        '2019-10-16', '2019-09-30', '2019-08-29', '2019-10-17',\n",
              "        '2019-10-28', '2019-10-03', '2019-10-31', '2019-08-12',\n",
              "        '2019-09-19', '2019-10-23', '2019-10-20', '2019-10-24',\n",
              "        '2019-10-18', '2019-10-11', '2019-10-10', '2019-10-02',\n",
              "        '2019-10-21', '2019-10-14', '2019-10-07', '2019-10-01',\n",
              "        '2019-09-24', '2019-09-18', '2019-08-22', '2019-08-05',\n",
              "        '2019-08-07', '2019-08-20', '2019-09-05', '2019-10-26',\n",
              "        '2019-09-10', '2019-08-30', '2019-08-26', '2019-08-16',\n",
              "        '2019-08-09', '2019-08-21', '2019-08-02', '2019-10-15',\n",
              "        '2019-10-22', '2019-09-06', '2019-09-04', '2019-08-28',\n",
              "        '2019-10-19', '2019-10-09', '2019-08-14', '2019-09-02',\n",
              "        '2019-09-21', '2019-09-26', '2019-09-16', '2019-09-25',\n",
              "        '2019-09-13', '2019-09-27', '2019-09-11', '2019-09-14',\n",
              "        '2019-08-08', '2019-10-04', '2019-08-01', '2019-08-13',\n",
              "        '2019-08-06', '2019-09-17', '2019-09-23', '2019-08-19',\n",
              "        '2019-09-03', '2019-09-09', '2019-10-08', '2019-09-20',\n",
              "        '2019-09-12', '2019-08-27', '2019-08-31', '2019-10-30',\n",
              "        '2019-10-25'], dtype=object)}"
            ]
          },
          "execution_count": 18,
          "metadata": {},
          "output_type": "execute_result"
        }
      ],
      "source": [
        "# Obtener los valores únicos de todas las columnas\n",
        "unique_values = {}\n",
        "for columna in clients.columns:\n",
        "    unique_values[columna] = clients[columna].unique()\n",
        "\n",
        "unique_values"
      ]
    },
    {
      "cell_type": "markdown",
      "metadata": {
        "id": "T_5hUU1JK00H"
      },
      "source": [
        "Se observa que tenemos 3 tipos de planes: A, B y C."
      ]
    },
    {
      "cell_type": "code",
      "execution_count": null,
      "metadata": {
        "colab": {
          "base_uri": "https://localhost:8080/"
        },
        "id": "P-8v9aSqs9Y9",
        "outputId": "f64981d2-9c56-41fc-ed93-0dfd2c1f0bfb"
      },
      "outputs": [
        {
          "data": {
            "text/plain": [
              "0"
            ]
          },
          "execution_count": 19,
          "metadata": {},
          "output_type": "execute_result"
        }
      ],
      "source": [
        "#Busquemos duplicados explícitos\n",
        "clients.duplicated().sum()"
      ]
    },
    {
      "cell_type": "code",
      "execution_count": null,
      "metadata": {
        "colab": {
          "base_uri": "https://localhost:8080/"
        },
        "id": "0sTiZE3I89i-",
        "outputId": "07ac021e-1b1b-4231-d77b-f540e4afa6c1"
      },
      "outputs": [
        {
          "name": "stdout",
          "output_type": "stream",
          "text": [
            "<class 'pandas.core.frame.DataFrame'>\n",
            "RangeIndex: 732 entries, 0 to 731\n",
            "Data columns (total 3 columns):\n",
            " #   Column       Non-Null Count  Dtype \n",
            "---  ------       --------------  ----- \n",
            " 0   user_id      732 non-null    int64 \n",
            " 1   tariff_plan  732 non-null    object\n",
            " 2   date_start   732 non-null    object\n",
            "dtypes: int64(1), object(2)\n",
            "memory usage: 17.3+ KB\n"
          ]
        }
      ],
      "source": [
        "#Revisar el tamaño, tipos y si hay nulos\n",
        "clients.info()"
      ]
    },
    {
      "cell_type": "code",
      "execution_count": null,
      "metadata": {
        "colab": {
          "base_uri": "https://localhost:8080/"
        },
        "id": "hxYZys4gLnmz",
        "outputId": "0f4a08c9-05c3-4c1c-8cb6-421004093c2a"
      },
      "outputs": [
        {
          "name": "stdout",
          "output_type": "stream",
          "text": [
            "2019-10-31\n",
            "2019-08-01\n"
          ]
        }
      ],
      "source": [
        "#obtener el rango de fechas de los inicios de los clientes.\n",
        "print(clients['date_start'].max())\n",
        "print(clients['date_start'].min())"
      ]
    },
    {
      "cell_type": "code",
      "execution_count": null,
      "metadata": {
        "colab": {
          "base_uri": "https://localhost:8080/"
        },
        "id": "ZnHaPEUfe9OE",
        "outputId": "50e6ca4a-255a-4e9e-8297-3a42aa15ce1b"
      },
      "outputs": [
        {
          "name": "stdout",
          "output_type": "stream",
          "text": [
            "<class 'pandas.core.frame.DataFrame'>\n",
            "RangeIndex: 732 entries, 0 to 731\n",
            "Data columns (total 3 columns):\n",
            " #   Column       Non-Null Count  Dtype         \n",
            "---  ------       --------------  -----         \n",
            " 0   user_id      732 non-null    int64         \n",
            " 1   tariff_plan  732 non-null    object        \n",
            " 2   date_start   732 non-null    datetime64[ns]\n",
            "dtypes: datetime64[ns](1), int64(1), object(1)\n",
            "memory usage: 17.3+ KB\n"
          ]
        }
      ],
      "source": [
        "#Convertir la fecha a formato de fecha ya que es tipo object\n",
        "clients['date_start'] = pd.to_datetime(clients['date_start'])\n",
        "clients.info()"
      ]
    },
    {
      "cell_type": "markdown",
      "metadata": {
        "id": "bRUvZRFdfpU7"
      },
      "source": [
        "En clients hay solo tres columnas. Conviene integrar los dos dataframes."
      ]
    },
    {
      "cell_type": "code",
      "execution_count": null,
      "metadata": {
        "colab": {
          "base_uri": "https://localhost:8080/",
          "height": 617
        },
        "id": "Abe7B-M18bR7",
        "outputId": "3c60113f-3704-4877-909f-7c65fb1df004"
      },
      "outputs": [
        {
          "data": {
            "text/html": [
              "<div>\n",
              "<style scoped>\n",
              "    .dataframe tbody tr th:only-of-type {\n",
              "        vertical-align: middle;\n",
              "    }\n",
              "\n",
              "    .dataframe tbody tr th {\n",
              "        vertical-align: top;\n",
              "    }\n",
              "\n",
              "    .dataframe thead th {\n",
              "        text-align: right;\n",
              "    }\n",
              "</style>\n",
              "<table border=\"1\" class=\"dataframe\">\n",
              "  <thead>\n",
              "    <tr style=\"text-align: right;\">\n",
              "      <th></th>\n",
              "      <th>user_id</th>\n",
              "      <th>date</th>\n",
              "      <th>direction</th>\n",
              "      <th>internal</th>\n",
              "      <th>operator_id</th>\n",
              "      <th>is_missed_call</th>\n",
              "      <th>calls_count</th>\n",
              "      <th>call_duration</th>\n",
              "      <th>total_call_duration</th>\n",
              "      <th>tariff_plan</th>\n",
              "      <th>date_start</th>\n",
              "    </tr>\n",
              "  </thead>\n",
              "  <tbody>\n",
              "    <tr>\n",
              "      <th>0</th>\n",
              "      <td>166377</td>\n",
              "      <td>2019-08-04</td>\n",
              "      <td>in</td>\n",
              "      <td>False</td>\n",
              "      <td>NaN</td>\n",
              "      <td>True</td>\n",
              "      <td>2</td>\n",
              "      <td>0</td>\n",
              "      <td>4</td>\n",
              "      <td>B</td>\n",
              "      <td>2019-08-01</td>\n",
              "    </tr>\n",
              "    <tr>\n",
              "      <th>1</th>\n",
              "      <td>166377</td>\n",
              "      <td>2019-08-05</td>\n",
              "      <td>out</td>\n",
              "      <td>True</td>\n",
              "      <td>880022.0</td>\n",
              "      <td>True</td>\n",
              "      <td>3</td>\n",
              "      <td>0</td>\n",
              "      <td>5</td>\n",
              "      <td>B</td>\n",
              "      <td>2019-08-01</td>\n",
              "    </tr>\n",
              "    <tr>\n",
              "      <th>2</th>\n",
              "      <td>166377</td>\n",
              "      <td>2019-08-05</td>\n",
              "      <td>out</td>\n",
              "      <td>True</td>\n",
              "      <td>880020.0</td>\n",
              "      <td>True</td>\n",
              "      <td>1</td>\n",
              "      <td>0</td>\n",
              "      <td>1</td>\n",
              "      <td>B</td>\n",
              "      <td>2019-08-01</td>\n",
              "    </tr>\n",
              "    <tr>\n",
              "      <th>3</th>\n",
              "      <td>166377</td>\n",
              "      <td>2019-08-05</td>\n",
              "      <td>out</td>\n",
              "      <td>True</td>\n",
              "      <td>880020.0</td>\n",
              "      <td>False</td>\n",
              "      <td>1</td>\n",
              "      <td>10</td>\n",
              "      <td>18</td>\n",
              "      <td>B</td>\n",
              "      <td>2019-08-01</td>\n",
              "    </tr>\n",
              "    <tr>\n",
              "      <th>4</th>\n",
              "      <td>166377</td>\n",
              "      <td>2019-08-05</td>\n",
              "      <td>out</td>\n",
              "      <td>False</td>\n",
              "      <td>880022.0</td>\n",
              "      <td>True</td>\n",
              "      <td>3</td>\n",
              "      <td>0</td>\n",
              "      <td>25</td>\n",
              "      <td>B</td>\n",
              "      <td>2019-08-01</td>\n",
              "    </tr>\n",
              "    <tr>\n",
              "      <th>...</th>\n",
              "      <td>...</td>\n",
              "      <td>...</td>\n",
              "      <td>...</td>\n",
              "      <td>...</td>\n",
              "      <td>...</td>\n",
              "      <td>...</td>\n",
              "      <td>...</td>\n",
              "      <td>...</td>\n",
              "      <td>...</td>\n",
              "      <td>...</td>\n",
              "      <td>...</td>\n",
              "    </tr>\n",
              "    <tr>\n",
              "      <th>48830</th>\n",
              "      <td>168606</td>\n",
              "      <td>2019-11-10</td>\n",
              "      <td>out</td>\n",
              "      <td>True</td>\n",
              "      <td>957922.0</td>\n",
              "      <td>False</td>\n",
              "      <td>1</td>\n",
              "      <td>0</td>\n",
              "      <td>25</td>\n",
              "      <td>C</td>\n",
              "      <td>2019-10-31</td>\n",
              "    </tr>\n",
              "    <tr>\n",
              "      <th>48831</th>\n",
              "      <td>168606</td>\n",
              "      <td>2019-11-10</td>\n",
              "      <td>out</td>\n",
              "      <td>True</td>\n",
              "      <td>957922.0</td>\n",
              "      <td>True</td>\n",
              "      <td>1</td>\n",
              "      <td>0</td>\n",
              "      <td>38</td>\n",
              "      <td>C</td>\n",
              "      <td>2019-10-31</td>\n",
              "    </tr>\n",
              "    <tr>\n",
              "      <th>48832</th>\n",
              "      <td>168606</td>\n",
              "      <td>2019-11-11</td>\n",
              "      <td>out</td>\n",
              "      <td>True</td>\n",
              "      <td>957922.0</td>\n",
              "      <td>False</td>\n",
              "      <td>2</td>\n",
              "      <td>479</td>\n",
              "      <td>501</td>\n",
              "      <td>C</td>\n",
              "      <td>2019-10-31</td>\n",
              "    </tr>\n",
              "    <tr>\n",
              "      <th>48833</th>\n",
              "      <td>168606</td>\n",
              "      <td>2019-11-15</td>\n",
              "      <td>out</td>\n",
              "      <td>True</td>\n",
              "      <td>957922.0</td>\n",
              "      <td>False</td>\n",
              "      <td>4</td>\n",
              "      <td>3130</td>\n",
              "      <td>3190</td>\n",
              "      <td>C</td>\n",
              "      <td>2019-10-31</td>\n",
              "    </tr>\n",
              "    <tr>\n",
              "      <th>48834</th>\n",
              "      <td>168606</td>\n",
              "      <td>2019-11-19</td>\n",
              "      <td>in</td>\n",
              "      <td>False</td>\n",
              "      <td>NaN</td>\n",
              "      <td>True</td>\n",
              "      <td>2</td>\n",
              "      <td>0</td>\n",
              "      <td>64</td>\n",
              "      <td>C</td>\n",
              "      <td>2019-10-31</td>\n",
              "    </tr>\n",
              "  </tbody>\n",
              "</table>\n",
              "<p>48835 rows × 11 columns</p>\n",
              "</div>"
            ],
            "text/plain": [
              "       user_id       date direction internal  operator_id  is_missed_call  \\\n",
              "0       166377 2019-08-04        in    False          NaN            True   \n",
              "1       166377 2019-08-05       out     True     880022.0            True   \n",
              "2       166377 2019-08-05       out     True     880020.0            True   \n",
              "3       166377 2019-08-05       out     True     880020.0           False   \n",
              "4       166377 2019-08-05       out    False     880022.0            True   \n",
              "...        ...        ...       ...      ...          ...             ...   \n",
              "48830   168606 2019-11-10       out     True     957922.0           False   \n",
              "48831   168606 2019-11-10       out     True     957922.0            True   \n",
              "48832   168606 2019-11-11       out     True     957922.0           False   \n",
              "48833   168606 2019-11-15       out     True     957922.0           False   \n",
              "48834   168606 2019-11-19        in    False          NaN            True   \n",
              "\n",
              "       calls_count  call_duration  total_call_duration tariff_plan date_start  \n",
              "0                2              0                    4           B 2019-08-01  \n",
              "1                3              0                    5           B 2019-08-01  \n",
              "2                1              0                    1           B 2019-08-01  \n",
              "3                1             10                   18           B 2019-08-01  \n",
              "4                3              0                   25           B 2019-08-01  \n",
              "...            ...            ...                  ...         ...        ...  \n",
              "48830            1              0                   25           C 2019-10-31  \n",
              "48831            1              0                   38           C 2019-10-31  \n",
              "48832            2            479                  501           C 2019-10-31  \n",
              "48833            4           3130                 3190           C 2019-10-31  \n",
              "48834            2              0                   64           C 2019-10-31  \n",
              "\n",
              "[48835 rows x 11 columns]"
            ]
          },
          "execution_count": 23,
          "metadata": {},
          "output_type": "execute_result"
        }
      ],
      "source": [
        "df= data.merge(clients, on='user_id')\n",
        "df"
      ]
    },
    {
      "cell_type": "code",
      "execution_count": null,
      "metadata": {
        "colab": {
          "base_uri": "https://localhost:8080/",
          "height": 617
        },
        "id": "F8QTVEmhyXBD",
        "outputId": "27845acc-e2da-4bb2-cb00-aa861ec414f0"
      },
      "outputs": [
        {
          "data": {
            "text/html": [
              "<div>\n",
              "<style scoped>\n",
              "    .dataframe tbody tr th:only-of-type {\n",
              "        vertical-align: middle;\n",
              "    }\n",
              "\n",
              "    .dataframe tbody tr th {\n",
              "        vertical-align: top;\n",
              "    }\n",
              "\n",
              "    .dataframe thead th {\n",
              "        text-align: right;\n",
              "    }\n",
              "</style>\n",
              "<table border=\"1\" class=\"dataframe\">\n",
              "  <thead>\n",
              "    <tr style=\"text-align: right;\">\n",
              "      <th></th>\n",
              "      <th>user_id</th>\n",
              "      <th>date</th>\n",
              "      <th>direction</th>\n",
              "      <th>int/ext</th>\n",
              "      <th>operator_id</th>\n",
              "      <th>call</th>\n",
              "      <th>calls_cnt</th>\n",
              "      <th>call_d</th>\n",
              "      <th>total_call_d</th>\n",
              "      <th>tariff_plan</th>\n",
              "      <th>date_start</th>\n",
              "    </tr>\n",
              "  </thead>\n",
              "  <tbody>\n",
              "    <tr>\n",
              "      <th>0</th>\n",
              "      <td>166377</td>\n",
              "      <td>2019-08-04</td>\n",
              "      <td>in</td>\n",
              "      <td>externa</td>\n",
              "      <td>NaN</td>\n",
              "      <td>perdida</td>\n",
              "      <td>2</td>\n",
              "      <td>0</td>\n",
              "      <td>4</td>\n",
              "      <td>B</td>\n",
              "      <td>2019-08-01</td>\n",
              "    </tr>\n",
              "    <tr>\n",
              "      <th>1</th>\n",
              "      <td>166377</td>\n",
              "      <td>2019-08-05</td>\n",
              "      <td>out</td>\n",
              "      <td>interna</td>\n",
              "      <td>880022.0</td>\n",
              "      <td>perdida</td>\n",
              "      <td>3</td>\n",
              "      <td>0</td>\n",
              "      <td>5</td>\n",
              "      <td>B</td>\n",
              "      <td>2019-08-01</td>\n",
              "    </tr>\n",
              "    <tr>\n",
              "      <th>2</th>\n",
              "      <td>166377</td>\n",
              "      <td>2019-08-05</td>\n",
              "      <td>out</td>\n",
              "      <td>interna</td>\n",
              "      <td>880020.0</td>\n",
              "      <td>perdida</td>\n",
              "      <td>1</td>\n",
              "      <td>0</td>\n",
              "      <td>1</td>\n",
              "      <td>B</td>\n",
              "      <td>2019-08-01</td>\n",
              "    </tr>\n",
              "    <tr>\n",
              "      <th>3</th>\n",
              "      <td>166377</td>\n",
              "      <td>2019-08-05</td>\n",
              "      <td>out</td>\n",
              "      <td>interna</td>\n",
              "      <td>880020.0</td>\n",
              "      <td>recibida</td>\n",
              "      <td>1</td>\n",
              "      <td>10</td>\n",
              "      <td>18</td>\n",
              "      <td>B</td>\n",
              "      <td>2019-08-01</td>\n",
              "    </tr>\n",
              "    <tr>\n",
              "      <th>4</th>\n",
              "      <td>166377</td>\n",
              "      <td>2019-08-05</td>\n",
              "      <td>out</td>\n",
              "      <td>externa</td>\n",
              "      <td>880022.0</td>\n",
              "      <td>perdida</td>\n",
              "      <td>3</td>\n",
              "      <td>0</td>\n",
              "      <td>25</td>\n",
              "      <td>B</td>\n",
              "      <td>2019-08-01</td>\n",
              "    </tr>\n",
              "    <tr>\n",
              "      <th>...</th>\n",
              "      <td>...</td>\n",
              "      <td>...</td>\n",
              "      <td>...</td>\n",
              "      <td>...</td>\n",
              "      <td>...</td>\n",
              "      <td>...</td>\n",
              "      <td>...</td>\n",
              "      <td>...</td>\n",
              "      <td>...</td>\n",
              "      <td>...</td>\n",
              "      <td>...</td>\n",
              "    </tr>\n",
              "    <tr>\n",
              "      <th>48830</th>\n",
              "      <td>168606</td>\n",
              "      <td>2019-11-10</td>\n",
              "      <td>out</td>\n",
              "      <td>interna</td>\n",
              "      <td>957922.0</td>\n",
              "      <td>recibida</td>\n",
              "      <td>1</td>\n",
              "      <td>0</td>\n",
              "      <td>25</td>\n",
              "      <td>C</td>\n",
              "      <td>2019-10-31</td>\n",
              "    </tr>\n",
              "    <tr>\n",
              "      <th>48831</th>\n",
              "      <td>168606</td>\n",
              "      <td>2019-11-10</td>\n",
              "      <td>out</td>\n",
              "      <td>interna</td>\n",
              "      <td>957922.0</td>\n",
              "      <td>perdida</td>\n",
              "      <td>1</td>\n",
              "      <td>0</td>\n",
              "      <td>38</td>\n",
              "      <td>C</td>\n",
              "      <td>2019-10-31</td>\n",
              "    </tr>\n",
              "    <tr>\n",
              "      <th>48832</th>\n",
              "      <td>168606</td>\n",
              "      <td>2019-11-11</td>\n",
              "      <td>out</td>\n",
              "      <td>interna</td>\n",
              "      <td>957922.0</td>\n",
              "      <td>recibida</td>\n",
              "      <td>2</td>\n",
              "      <td>479</td>\n",
              "      <td>501</td>\n",
              "      <td>C</td>\n",
              "      <td>2019-10-31</td>\n",
              "    </tr>\n",
              "    <tr>\n",
              "      <th>48833</th>\n",
              "      <td>168606</td>\n",
              "      <td>2019-11-15</td>\n",
              "      <td>out</td>\n",
              "      <td>interna</td>\n",
              "      <td>957922.0</td>\n",
              "      <td>recibida</td>\n",
              "      <td>4</td>\n",
              "      <td>3130</td>\n",
              "      <td>3190</td>\n",
              "      <td>C</td>\n",
              "      <td>2019-10-31</td>\n",
              "    </tr>\n",
              "    <tr>\n",
              "      <th>48834</th>\n",
              "      <td>168606</td>\n",
              "      <td>2019-11-19</td>\n",
              "      <td>in</td>\n",
              "      <td>externa</td>\n",
              "      <td>NaN</td>\n",
              "      <td>perdida</td>\n",
              "      <td>2</td>\n",
              "      <td>0</td>\n",
              "      <td>64</td>\n",
              "      <td>C</td>\n",
              "      <td>2019-10-31</td>\n",
              "    </tr>\n",
              "  </tbody>\n",
              "</table>\n",
              "<p>48835 rows × 11 columns</p>\n",
              "</div>"
            ],
            "text/plain": [
              "       user_id       date direction  int/ext  operator_id      call  \\\n",
              "0       166377 2019-08-04        in  externa          NaN   perdida   \n",
              "1       166377 2019-08-05       out  interna     880022.0   perdida   \n",
              "2       166377 2019-08-05       out  interna     880020.0   perdida   \n",
              "3       166377 2019-08-05       out  interna     880020.0  recibida   \n",
              "4       166377 2019-08-05       out  externa     880022.0   perdida   \n",
              "...        ...        ...       ...      ...          ...       ...   \n",
              "48830   168606 2019-11-10       out  interna     957922.0  recibida   \n",
              "48831   168606 2019-11-10       out  interna     957922.0   perdida   \n",
              "48832   168606 2019-11-11       out  interna     957922.0  recibida   \n",
              "48833   168606 2019-11-15       out  interna     957922.0  recibida   \n",
              "48834   168606 2019-11-19        in  externa          NaN   perdida   \n",
              "\n",
              "       calls_cnt  call_d  total_call_d tariff_plan date_start  \n",
              "0              2       0             4           B 2019-08-01  \n",
              "1              3       0             5           B 2019-08-01  \n",
              "2              1       0             1           B 2019-08-01  \n",
              "3              1      10            18           B 2019-08-01  \n",
              "4              3       0            25           B 2019-08-01  \n",
              "...          ...     ...           ...         ...        ...  \n",
              "48830          1       0            25           C 2019-10-31  \n",
              "48831          1       0            38           C 2019-10-31  \n",
              "48832          2     479           501           C 2019-10-31  \n",
              "48833          4    3130          3190           C 2019-10-31  \n",
              "48834          2       0            64           C 2019-10-31  \n",
              "\n",
              "[48835 rows x 11 columns]"
            ]
          },
          "execution_count": 24,
          "metadata": {},
          "output_type": "execute_result"
        }
      ],
      "source": [
        "#Hagamos algunos renombramientos para facilitar la interpretación\n",
        "#[Sin comillas en el booleano]\n",
        "dic1 = {True: 'interna', False: 'externa'}\n",
        "df['internal'] = df['internal'].replace(dic1)\n",
        "\n",
        "dic2 = {True: 'perdida', False: 'recibida'}\n",
        "df['is_missed_call'] = df['is_missed_call'].replace(dic2)\n",
        "\n",
        "df = df.rename(columns={'internal':'int/ext', 'is_missed_call':'call', 'calls_count':'calls_cnt', 'call_duration':'call_d', 'total_call_duration':'total_call_d'})\n",
        "\n",
        "df"
      ]
    },
    {
      "cell_type": "markdown",
      "metadata": {
        "id": "_H81vKpWfpfV"
      },
      "source": [
        "# 3.-Análisis exploratorio de datos <a id='3'></a>"
      ]
    },
    {
      "cell_type": "markdown",
      "metadata": {
        "id": "Phmboi2XYEZB"
      },
      "source": [
        "## 3.1.-Nueva columna: waiting time"
      ]
    },
    {
      "cell_type": "code",
      "execution_count": null,
      "metadata": {
        "colab": {
          "base_uri": "https://localhost:8080/",
          "height": 215
        },
        "id": "cQJ8nLfQUPK9",
        "outputId": "6c85be28-173f-4dbe-9cb3-29abef666f5e"
      },
      "outputs": [
        {
          "data": {
            "text/html": [
              "<div>\n",
              "<style scoped>\n",
              "    .dataframe tbody tr th:only-of-type {\n",
              "        vertical-align: middle;\n",
              "    }\n",
              "\n",
              "    .dataframe tbody tr th {\n",
              "        vertical-align: top;\n",
              "    }\n",
              "\n",
              "    .dataframe thead th {\n",
              "        text-align: right;\n",
              "    }\n",
              "</style>\n",
              "<table border=\"1\" class=\"dataframe\">\n",
              "  <thead>\n",
              "    <tr style=\"text-align: right;\">\n",
              "      <th></th>\n",
              "      <th>user_id</th>\n",
              "      <th>date</th>\n",
              "      <th>direction</th>\n",
              "      <th>int/ext</th>\n",
              "      <th>operator_id</th>\n",
              "      <th>call</th>\n",
              "      <th>calls_cnt</th>\n",
              "      <th>call_d</th>\n",
              "      <th>total_call_d</th>\n",
              "      <th>tariff_plan</th>\n",
              "      <th>date_start</th>\n",
              "      <th>w_time</th>\n",
              "    </tr>\n",
              "  </thead>\n",
              "  <tbody>\n",
              "    <tr>\n",
              "      <th>0</th>\n",
              "      <td>166377</td>\n",
              "      <td>2019-08-04</td>\n",
              "      <td>in</td>\n",
              "      <td>externa</td>\n",
              "      <td>NaN</td>\n",
              "      <td>perdida</td>\n",
              "      <td>2</td>\n",
              "      <td>0</td>\n",
              "      <td>4</td>\n",
              "      <td>B</td>\n",
              "      <td>2019-08-01</td>\n",
              "      <td>4</td>\n",
              "    </tr>\n",
              "    <tr>\n",
              "      <th>1</th>\n",
              "      <td>166377</td>\n",
              "      <td>2019-08-05</td>\n",
              "      <td>out</td>\n",
              "      <td>interna</td>\n",
              "      <td>880022.0</td>\n",
              "      <td>perdida</td>\n",
              "      <td>3</td>\n",
              "      <td>0</td>\n",
              "      <td>5</td>\n",
              "      <td>B</td>\n",
              "      <td>2019-08-01</td>\n",
              "      <td>5</td>\n",
              "    </tr>\n",
              "    <tr>\n",
              "      <th>2</th>\n",
              "      <td>166377</td>\n",
              "      <td>2019-08-05</td>\n",
              "      <td>out</td>\n",
              "      <td>interna</td>\n",
              "      <td>880020.0</td>\n",
              "      <td>perdida</td>\n",
              "      <td>1</td>\n",
              "      <td>0</td>\n",
              "      <td>1</td>\n",
              "      <td>B</td>\n",
              "      <td>2019-08-01</td>\n",
              "      <td>1</td>\n",
              "    </tr>\n",
              "  </tbody>\n",
              "</table>\n",
              "</div>"
            ],
            "text/plain": [
              "   user_id       date direction  int/ext  operator_id     call  calls_cnt  \\\n",
              "0   166377 2019-08-04        in  externa          NaN  perdida          2   \n",
              "1   166377 2019-08-05       out  interna     880022.0  perdida          3   \n",
              "2   166377 2019-08-05       out  interna     880020.0  perdida          1   \n",
              "\n",
              "   call_d  total_call_d tariff_plan date_start  w_time  \n",
              "0       0             4           B 2019-08-01       4  \n",
              "1       0             5           B 2019-08-01       5  \n",
              "2       0             1           B 2019-08-01       1  "
            ]
          },
          "execution_count": 25,
          "metadata": {},
          "output_type": "execute_result"
        }
      ],
      "source": [
        "#Generar una nueva columna que aporte los minutos de espera únicamente: columna `w_time`.\n",
        "df['w_time'] = df['total_call_d'] - df['call_d']\n",
        "df.head(3)"
      ]
    },
    {
      "cell_type": "code",
      "execution_count": null,
      "metadata": {
        "colab": {
          "base_uri": "https://localhost:8080/"
        },
        "id": "knNbJTumki4L",
        "outputId": "656a8444-cf18-4f6c-9340-6644a5eb189e"
      },
      "outputs": [
        {
          "data": {
            "text/plain": [
              "(48835, 12)"
            ]
          },
          "execution_count": 26,
          "metadata": {},
          "output_type": "execute_result"
        }
      ],
      "source": [
        "df.shape"
      ]
    },
    {
      "cell_type": "markdown",
      "metadata": {
        "id": "NS1RrUIKALZO"
      },
      "source": [
        "## 3.2.-Identificar atípicos"
      ]
    },
    {
      "cell_type": "markdown",
      "metadata": {
        "id": "NN2GRIO4WXuR"
      },
      "source": [
        "Encontrar los valores atípicos y eliminarlos del dataset"
      ]
    },
    {
      "cell_type": "markdown",
      "metadata": {
        "id": "i7EKMlk2rPtZ"
      },
      "source": [
        "Aunque hay 4 columnas númericas que podrían tener valores atípicos, se decide\n",
        "que la más sinificativa es calls_cnt. Se revisará esta columna para tratar sus atípicos bajo sus dos posibles condiciones, que el tipo de llamada sea perdida o sea recibida."
      ]
    },
    {
      "cell_type": "markdown",
      "metadata": {
        "id": "x07erPf2reJe"
      },
      "source": [
        "#### Llamadas perdidas"
      ]
    },
    {
      "cell_type": "code",
      "execution_count": null,
      "metadata": {
        "colab": {
          "base_uri": "https://localhost:8080/"
        },
        "id": "JxTj0Nb_qw7I",
        "outputId": "cccb2854-5dd9-48de-aa50-95111fca933c"
      },
      "outputs": [
        {
          "data": {
            "text/plain": [
              "21453"
            ]
          },
          "execution_count": 27,
          "metadata": {},
          "output_type": "execute_result"
        }
      ],
      "source": [
        "#generar un sub-df\n",
        "perdidas = df[df['call'] == 'perdida']\n",
        "len(perdidas)"
      ]
    },
    {
      "cell_type": "code",
      "execution_count": null,
      "metadata": {
        "colab": {
          "base_uri": "https://localhost:8080/",
          "height": 472
        },
        "id": "NfT9ikFFkzrZ",
        "outputId": "6a9cf923-59ae-4259-e70c-4b45dab8805d"
      },
      "outputs": [
        {
          "data": {
            "image/png": "[encoded data removed]",
            "text/plain": [
              "<Figure size 432x288 with 1 Axes>"
            ]
          },
          "metadata": {
            "needs_background": "light"
          },
          "output_type": "display_data"
        }
      ],
      "source": [
        "#Diagrama de caja para el conteo de las llamadas perdidas\n",
        "sns.boxplot(x=perdidas['calls_cnt'])\n",
        "plt.title('Box Plot del conteo de llamadas perdidas')\n",
        "plt.show()"
      ]
    },
    {
      "cell_type": "code",
      "execution_count": null,
      "metadata": {
        "colab": {
          "base_uri": "https://localhost:8080/"
        },
        "id": "5zH1gNLmuDtq",
        "outputId": "809f3428-c58e-474f-81ab-4c67125db16c"
      },
      "outputs": [
        {
          "data": {
            "text/plain": [
              "count    21453.00\n",
              "mean        17.52\n",
              "std         77.99\n",
              "min          1.00\n",
              "25%          1.00\n",
              "50%          3.00\n",
              "75%         11.00\n",
              "max       4817.00\n",
              "Name: calls_cnt, dtype: float64"
            ]
          },
          "execution_count": 29,
          "metadata": {},
          "output_type": "execute_result"
        }
      ],
      "source": [
        "#Veamos a detalle\n",
        "perdidas['calls_cnt'].describe().round(2)"
      ]
    },
    {
      "cell_type": "code",
      "execution_count": null,
      "metadata": {
        "colab": {
          "base_uri": "https://localhost:8080/"
        },
        "id": "HdUpOUYbulS1",
        "outputId": "8b49c212-3855-4621-ffa6-5062b196a9e6"
      },
      "outputs": [
        {
          "data": {
            "text/plain": [
              "(6501, 12)"
            ]
          },
          "execution_count": 30,
          "metadata": {},
          "output_type": "execute_result"
        }
      ],
      "source": [
        "#Obtener el rango intercuartílico\n",
        "# IQR = Q3-Q1\n",
        "# IQR = 11 - 1\n",
        "# IQR = 10\n",
        "\n",
        "#límite del bigote superior = Q3 + 1.5*IQR\n",
        "#límite del bigote superior = 11 + 15\n",
        "#límite del bigote superior = 26\n",
        "\n",
        "#límite del bigote inferior = Q1 - 1.5*IQR\n",
        "#límite del bigote inferior = 1 - 15\n",
        "#límite del bigote inferior = -14\n",
        "\n",
        "atipicos = df[(df['calls_cnt'] < -14) | (df['calls_cnt'] > 26)]\n",
        "atipicos.shape"
      ]
    },
    {
      "cell_type": "code",
      "execution_count": null,
      "metadata": {
        "colab": {
          "base_uri": "https://localhost:8080/"
        },
        "id": "VT_-I5KjSQWs",
        "outputId": "996b2884-2b76-4e69-e77c-19bc7e159e18"
      },
      "outputs": [
        {
          "data": {
            "text/plain": [
              "(42334, 12)"
            ]
          },
          "execution_count": 31,
          "metadata": {},
          "output_type": "execute_result"
        }
      ],
      "source": [
        "# el df perdidas conserva los índices del original, así que\n",
        "#Dejemos el df original sin los atípicos de esa columna\n",
        "df = df[~df.index.isin(atipicos.index)]\n",
        "df.shape"
      ]
    },
    {
      "cell_type": "markdown",
      "metadata": {
        "id": "nSrHZs2LQG6N"
      },
      "source": [
        "#### Llamadas recibidas"
      ]
    },
    {
      "cell_type": "code",
      "execution_count": null,
      "metadata": {
        "colab": {
          "base_uri": "https://localhost:8080/"
        },
        "id": "EfCtvl1lruJL",
        "outputId": "10996cf3-8768-4630-9193-42b14dfb3dc1"
      },
      "outputs": [
        {
          "data": {
            "text/plain": [
              "23700"
            ]
          },
          "execution_count": 32,
          "metadata": {},
          "output_type": "execute_result"
        }
      ],
      "source": [
        "#generar un sub-df\n",
        "recibidas = df[df['call'] == 'recibida']\n",
        "len(recibidas)"
      ]
    },
    {
      "cell_type": "code",
      "execution_count": null,
      "metadata": {
        "colab": {
          "base_uri": "https://localhost:8080/",
          "height": 472
        },
        "id": "UdLXX8mjk0y7",
        "outputId": "753357ea-5366-479d-8987-993a040dc1a3"
      },
      "outputs": [
        {
          "data": {
            "image/png": "[encoded data removed]",
            "text/plain": [
              "<Figure size 432x288 with 1 Axes>"
            ]
          },
          "metadata": {
            "needs_background": "light"
          },
          "output_type": "display_data"
        }
      ],
      "source": [
        "#Diagrama de caja para el conteo de las llamadas recibidas\n",
        "sns.boxplot(x=recibidas['calls_cnt'])\n",
        "plt.title('Box Plot del conteo de llamadas recibidas')\n",
        "plt.show()"
      ]
    },
    {
      "cell_type": "code",
      "execution_count": null,
      "metadata": {
        "colab": {
          "base_uri": "https://localhost:8080/"
        },
        "id": "8nD-FYo3s287",
        "outputId": "aced73aa-3c65-403b-d702-57ea2a84533c"
      },
      "outputs": [
        {
          "data": {
            "text/plain": [
              "count    23700.00\n",
              "mean         5.86\n",
              "std          6.10\n",
              "min          1.00\n",
              "25%          1.00\n",
              "50%          3.00\n",
              "75%          8.00\n",
              "max         26.00\n",
              "Name: calls_cnt, dtype: float64"
            ]
          },
          "execution_count": 34,
          "metadata": {},
          "output_type": "execute_result"
        }
      ],
      "source": [
        "#Veamos a detalle\n",
        "recibidas['calls_cnt'].describe().round(2)"
      ]
    },
    {
      "cell_type": "code",
      "execution_count": null,
      "metadata": {
        "colab": {
          "base_uri": "https://localhost:8080/"
        },
        "id": "aWBgRGlbs29D",
        "outputId": "9aff44f7-7180-4be0-9ebf-147f4990db0d"
      },
      "outputs": [
        {
          "data": {
            "text/plain": [
              "(2473, 12)"
            ]
          },
          "execution_count": 35,
          "metadata": {},
          "output_type": "execute_result"
        }
      ],
      "source": [
        "#Obtener el rango intercuartílico\n",
        "# IQR = Q3-Q1\n",
        "# IQR = 8 - 1\n",
        "# IQR = 7\n",
        "\n",
        "#límite del bigote superior = Q3 + 1.5*IQR\n",
        "#límite del bigote superior = 8 + 10.5\n",
        "#límite del bigote superior = 18.5\n",
        "\n",
        "#límite del bigote inferior = Q1 - 1.5*IQR\n",
        "#límite del bigote inferior = 1 - 10.5\n",
        "#límite del bigote inferior = -9\n",
        "\n",
        "atipicos = df[(df['calls_cnt'] < -9) | (df['calls_cnt'] > 18.5)]\n",
        "atipicos.shape"
      ]
    },
    {
      "cell_type": "code",
      "execution_count": null,
      "metadata": {
        "colab": {
          "base_uri": "https://localhost:8080/"
        },
        "id": "zpf3Ozf8s29E",
        "outputId": "eb8a4a39-1927-4d86-ec97-c2f9df607715"
      },
      "outputs": [
        {
          "data": {
            "text/plain": [
              "(39861, 12)"
            ]
          },
          "execution_count": 36,
          "metadata": {},
          "output_type": "execute_result"
        }
      ],
      "source": [
        "# el df perdidas conserva los índices del original, así que\n",
        "#Dejemos el df original sin los atípicos de esa columna\n",
        "df = df[~df.index.isin(atipicos.index)]\n",
        "df.shape"
      ]
    },
    {
      "cell_type": "markdown",
      "metadata": {
        "id": "G_WgxkCIAXgz"
      },
      "source": [
        "## 3.3.-Llamadas"
      ]
    },
    {
      "cell_type": "code",
      "execution_count": null,
      "metadata": {
        "colab": {
          "base_uri": "https://localhost:8080/",
          "height": 175
        },
        "id": "R_-4k6C4Zi7Z",
        "outputId": "08d45964-343a-40aa-b5ed-93f9d480788a"
      },
      "outputs": [
        {
          "data": {
            "text/html": [
              "<div>\n",
              "<style scoped>\n",
              "    .dataframe tbody tr th:only-of-type {\n",
              "        vertical-align: middle;\n",
              "    }\n",
              "\n",
              "    .dataframe tbody tr th {\n",
              "        vertical-align: top;\n",
              "    }\n",
              "\n",
              "    .dataframe thead th {\n",
              "        text-align: right;\n",
              "    }\n",
              "</style>\n",
              "<table border=\"1\" class=\"dataframe\">\n",
              "  <thead>\n",
              "    <tr style=\"text-align: right;\">\n",
              "      <th></th>\n",
              "      <th>date</th>\n",
              "      <th>calls_cnt</th>\n",
              "    </tr>\n",
              "  </thead>\n",
              "  <tbody>\n",
              "    <tr>\n",
              "      <th>0</th>\n",
              "      <td>2019-08</td>\n",
              "      <td>6840</td>\n",
              "    </tr>\n",
              "    <tr>\n",
              "      <th>1</th>\n",
              "      <td>2019-09</td>\n",
              "      <td>29392</td>\n",
              "    </tr>\n",
              "    <tr>\n",
              "      <th>2</th>\n",
              "      <td>2019-10</td>\n",
              "      <td>60733</td>\n",
              "    </tr>\n",
              "    <tr>\n",
              "      <th>3</th>\n",
              "      <td>2019-11</td>\n",
              "      <td>79316</td>\n",
              "    </tr>\n",
              "  </tbody>\n",
              "</table>\n",
              "</div>"
            ],
            "text/plain": [
              "      date  calls_cnt\n",
              "0  2019-08       6840\n",
              "1  2019-09      29392\n",
              "2  2019-10      60733\n",
              "3  2019-11      79316"
            ]
          },
          "execution_count": 37,
          "metadata": {},
          "output_type": "execute_result"
        }
      ],
      "source": [
        "#Veamos la cantidad total de llamadas por mes\n",
        "call_mes = df.groupby(df['date'].dt.to_period(\"M\"))['calls_cnt'].sum()\n",
        "call_mes = call_mes.to_frame().reset_index()\n",
        "call_mes"
      ]
    },
    {
      "cell_type": "code",
      "execution_count": null,
      "metadata": {
        "colab": {
          "base_uri": "https://localhost:8080/",
          "height": 454
        },
        "id": "3d2u5b5DZ09u",
        "outputId": "82fc7e3d-17f2-430d-a538-8f8af6e0ed01"
      },
      "outputs": [
        {
          "data": {
            "image/png": "[encoded data removed]",
            "text/plain": [
              "<Figure size 576x288 with 1 Axes>"
            ]
          },
          "metadata": {
            "needs_background": "light"
          },
          "output_type": "display_data"
        }
      ],
      "source": [
        "# gráfico de barras\n",
        "ax = call_mes.plot(kind='bar', x='date', figsize=(8, 4))\n",
        "plt.title('Llamadas en total por Mes')\n",
        "plt.xlabel('Mes')\n",
        "plt.ylabel('Cantidad de Llamadas')\n",
        "plt.grid()\n",
        "plt.show()"
      ]
    },
    {
      "cell_type": "code",
      "execution_count": null,
      "metadata": {
        "colab": {
          "base_uri": "https://localhost:8080/",
          "height": 175
        },
        "id": "1btKCapfgwkH",
        "outputId": "907c2db7-bf64-4a72-a425-34e92230b5da"
      },
      "outputs": [
        {
          "data": {
            "text/html": [
              "<div>\n",
              "<style scoped>\n",
              "    .dataframe tbody tr th:only-of-type {\n",
              "        vertical-align: middle;\n",
              "    }\n",
              "\n",
              "    .dataframe tbody tr th {\n",
              "        vertical-align: top;\n",
              "    }\n",
              "\n",
              "    .dataframe thead th {\n",
              "        text-align: right;\n",
              "    }\n",
              "</style>\n",
              "<table border=\"1\" class=\"dataframe\">\n",
              "  <thead>\n",
              "    <tr style=\"text-align: right;\">\n",
              "      <th></th>\n",
              "      <th>date</th>\n",
              "      <th>calls_cnt</th>\n",
              "    </tr>\n",
              "  </thead>\n",
              "  <tbody>\n",
              "    <tr>\n",
              "      <th>0</th>\n",
              "      <td>2019-08</td>\n",
              "      <td>3443</td>\n",
              "    </tr>\n",
              "    <tr>\n",
              "      <th>1</th>\n",
              "      <td>2019-09</td>\n",
              "      <td>12697</td>\n",
              "    </tr>\n",
              "    <tr>\n",
              "      <th>2</th>\n",
              "      <td>2019-10</td>\n",
              "      <td>24982</td>\n",
              "    </tr>\n",
              "    <tr>\n",
              "      <th>3</th>\n",
              "      <td>2019-11</td>\n",
              "      <td>31240</td>\n",
              "    </tr>\n",
              "  </tbody>\n",
              "</table>\n",
              "</div>"
            ],
            "text/plain": [
              "      date  calls_cnt\n",
              "0  2019-08       3443\n",
              "1  2019-09      12697\n",
              "2  2019-10      24982\n",
              "3  2019-11      31240"
            ]
          },
          "execution_count": 39,
          "metadata": {},
          "output_type": "execute_result"
        }
      ],
      "source": [
        "# Veamos la cantidad de llamadas perdidas por mes\n",
        "call_perdida_mes = df[df['call'] == 'perdida'].groupby(df['date'].dt.to_period(\"M\"))['calls_cnt'].sum()\n",
        "call_perdida_mes = call_perdida_mes.to_frame().reset_index()\n",
        "call_perdida_mes"
      ]
    },
    {
      "cell_type": "code",
      "execution_count": null,
      "metadata": {
        "colab": {
          "base_uri": "https://localhost:8080/",
          "height": 175
        },
        "id": "9AQzkE3hkHLS",
        "outputId": "d29e6195-ca9b-45d2-cfa3-4fd82473c72e"
      },
      "outputs": [
        {
          "data": {
            "text/html": [
              "<div>\n",
              "<style scoped>\n",
              "    .dataframe tbody tr th:only-of-type {\n",
              "        vertical-align: middle;\n",
              "    }\n",
              "\n",
              "    .dataframe tbody tr th {\n",
              "        vertical-align: top;\n",
              "    }\n",
              "\n",
              "    .dataframe thead th {\n",
              "        text-align: right;\n",
              "    }\n",
              "</style>\n",
              "<table border=\"1\" class=\"dataframe\">\n",
              "  <thead>\n",
              "    <tr style=\"text-align: right;\">\n",
              "      <th></th>\n",
              "      <th>date</th>\n",
              "      <th>calls_cnt</th>\n",
              "    </tr>\n",
              "  </thead>\n",
              "  <tbody>\n",
              "    <tr>\n",
              "      <th>0</th>\n",
              "      <td>2019-08</td>\n",
              "      <td>3397</td>\n",
              "    </tr>\n",
              "    <tr>\n",
              "      <th>1</th>\n",
              "      <td>2019-09</td>\n",
              "      <td>16695</td>\n",
              "    </tr>\n",
              "    <tr>\n",
              "      <th>2</th>\n",
              "      <td>2019-10</td>\n",
              "      <td>35751</td>\n",
              "    </tr>\n",
              "    <tr>\n",
              "      <th>3</th>\n",
              "      <td>2019-11</td>\n",
              "      <td>48076</td>\n",
              "    </tr>\n",
              "  </tbody>\n",
              "</table>\n",
              "</div>"
            ],
            "text/plain": [
              "      date  calls_cnt\n",
              "0  2019-08       3397\n",
              "1  2019-09      16695\n",
              "2  2019-10      35751\n",
              "3  2019-11      48076"
            ]
          },
          "execution_count": 40,
          "metadata": {},
          "output_type": "execute_result"
        }
      ],
      "source": [
        "# Veamos la cantidad de llamadas recibidas por mes\n",
        "call_recibida_mes = df[df['call'] == 'recibida'].groupby(df['date'].dt.to_period(\"M\"))['calls_cnt'].sum()\n",
        "call_recibida_mes = call_recibida_mes.to_frame().reset_index()\n",
        "call_recibida_mes"
      ]
    },
    {
      "cell_type": "code",
      "execution_count": null,
      "metadata": {
        "colab": {
          "base_uri": "https://localhost:8080/",
          "height": 175
        },
        "id": "LIBhkdgZl_2d",
        "outputId": "3c49b830-1191-42b7-cf2b-8fe15b16f705"
      },
      "outputs": [
        {
          "data": {
            "text/html": [
              "<div>\n",
              "<style scoped>\n",
              "    .dataframe tbody tr th:only-of-type {\n",
              "        vertical-align: middle;\n",
              "    }\n",
              "\n",
              "    .dataframe tbody tr th {\n",
              "        vertical-align: top;\n",
              "    }\n",
              "\n",
              "    .dataframe thead th {\n",
              "        text-align: right;\n",
              "    }\n",
              "</style>\n",
              "<table border=\"1\" class=\"dataframe\">\n",
              "  <thead>\n",
              "    <tr style=\"text-align: right;\">\n",
              "      <th></th>\n",
              "      <th>date</th>\n",
              "      <th>perdidas</th>\n",
              "      <th>recibidas</th>\n",
              "    </tr>\n",
              "  </thead>\n",
              "  <tbody>\n",
              "    <tr>\n",
              "      <th>0</th>\n",
              "      <td>2019-08</td>\n",
              "      <td>3443</td>\n",
              "      <td>3397</td>\n",
              "    </tr>\n",
              "    <tr>\n",
              "      <th>1</th>\n",
              "      <td>2019-09</td>\n",
              "      <td>12697</td>\n",
              "      <td>16695</td>\n",
              "    </tr>\n",
              "    <tr>\n",
              "      <th>2</th>\n",
              "      <td>2019-10</td>\n",
              "      <td>24982</td>\n",
              "      <td>35751</td>\n",
              "    </tr>\n",
              "    <tr>\n",
              "      <th>3</th>\n",
              "      <td>2019-11</td>\n",
              "      <td>31240</td>\n",
              "      <td>48076</td>\n",
              "    </tr>\n",
              "  </tbody>\n",
              "</table>\n",
              "</div>"
            ],
            "text/plain": [
              "      date  perdidas  recibidas\n",
              "0  2019-08      3443       3397\n",
              "1  2019-09     12697      16695\n",
              "2  2019-10     24982      35751\n",
              "3  2019-11     31240      48076"
            ]
          },
          "execution_count": 41,
          "metadata": {},
          "output_type": "execute_result"
        }
      ],
      "source": [
        "#Veamos las perdidas y las recibidas en conjunto\n",
        "recibidasyperdidas = call_perdida_mes.merge(call_recibida_mes, on='date')\n",
        "recibidasyperdidas = recibidasyperdidas.rename(columns={\n",
        "    'calls_cnt_x':'perdidas', 'calls_cnt_y':'recibidas'})\n",
        "recibidasyperdidas"
      ]
    },
    {
      "cell_type": "code",
      "execution_count": null,
      "metadata": {
        "colab": {
          "base_uri": "https://localhost:8080/",
          "height": 407
        },
        "id": "v5Zg33x3IiQw",
        "outputId": "2c40fa8b-e6ee-482b-f710-eaa64d46b0a7"
      },
      "outputs": [
        {
          "data": {
            "image/png": "[encoded data removed]",
            "text/plain": [
              "<Figure size 576x288 with 1 Axes>"
            ]
          },
          "metadata": {
            "needs_background": "light"
          },
          "output_type": "display_data"
        }
      ],
      "source": [
        "# gráfico de barras\n",
        "ax = recibidasyperdidas.plot(kind='bar', figsize=(8, 4))\n",
        "plt.title('Llamadas Perdidas y Recibidas por Mes')\n",
        "plt.xlabel('Mes')\n",
        "plt.ylabel('Cantidad de Llamadas')\n",
        "plt.legend(title='Tipo de Llamada', loc='upper left')\n",
        "plt.tight_layout()\n",
        "plt.grid()\n",
        "plt.show()\n"
      ]
    },
    {
      "cell_type": "markdown",
      "metadata": {
        "id": "591maoUlZMjR"
      },
      "source": [
        "Se percibe un aumento tanto en las llamadas perdidas como en las recibidas mes a mes, esto está justificado ya que el aumento de llamadas es general. Lo que es remarcable es que, en el primer mes, las perdidas y recibidas tenían muy poca diferencia entre sí y ésta fue incrementendo con el paso de los meses."
      ]
    },
    {
      "cell_type": "markdown",
      "metadata": {
        "id": "eKWuxRIZWXuR"
      },
      "source": [
        " ## 3.4.-Tiempo de espera"
      ]
    },
    {
      "cell_type": "code",
      "execution_count": null,
      "metadata": {
        "colab": {
          "base_uri": "https://localhost:8080/",
          "height": 175
        },
        "id": "sY4vKn7uR9xV",
        "outputId": "57f259b1-3017-498a-b5cc-67c9a8db20c8"
      },
      "outputs": [
        {
          "data": {
            "text/html": [
              "<div>\n",
              "<style scoped>\n",
              "    .dataframe tbody tr th:only-of-type {\n",
              "        vertical-align: middle;\n",
              "    }\n",
              "\n",
              "    .dataframe tbody tr th {\n",
              "        vertical-align: top;\n",
              "    }\n",
              "\n",
              "    .dataframe thead th {\n",
              "        text-align: right;\n",
              "    }\n",
              "</style>\n",
              "<table border=\"1\" class=\"dataframe\">\n",
              "  <thead>\n",
              "    <tr style=\"text-align: right;\">\n",
              "      <th></th>\n",
              "      <th>date</th>\n",
              "      <th>w_time</th>\n",
              "    </tr>\n",
              "  </thead>\n",
              "  <tbody>\n",
              "    <tr>\n",
              "      <th>0</th>\n",
              "      <td>2019-08</td>\n",
              "      <td>107134</td>\n",
              "    </tr>\n",
              "    <tr>\n",
              "      <th>1</th>\n",
              "      <td>2019-09</td>\n",
              "      <td>481523</td>\n",
              "    </tr>\n",
              "    <tr>\n",
              "      <th>2</th>\n",
              "      <td>2019-10</td>\n",
              "      <td>1040603</td>\n",
              "    </tr>\n",
              "    <tr>\n",
              "      <th>3</th>\n",
              "      <td>2019-11</td>\n",
              "      <td>1358667</td>\n",
              "    </tr>\n",
              "  </tbody>\n",
              "</table>\n",
              "</div>"
            ],
            "text/plain": [
              "      date   w_time\n",
              "0  2019-08   107134\n",
              "1  2019-09   481523\n",
              "2  2019-10  1040603\n",
              "3  2019-11  1358667"
            ]
          },
          "execution_count": 43,
          "metadata": {},
          "output_type": "execute_result"
        }
      ],
      "source": [
        "#Vayamos conociendo los tiempos de espera por mes\n",
        "w_time_mes = df.groupby(df['date'].dt.to_period(\"M\"))['w_time'].sum()\n",
        "w_time_mes = w_time_mes.to_frame().reset_index()\n",
        "w_time_mes"
      ]
    },
    {
      "cell_type": "code",
      "execution_count": null,
      "metadata": {
        "colab": {
          "base_uri": "https://localhost:8080/",
          "height": 559
        },
        "id": "z2KkN9OeoOQ0",
        "outputId": "2c7e95ea-c8ce-47a0-ccf8-5c9f72142aaa"
      },
      "outputs": [
        {
          "data": {
            "image/png": "[encoded data removed]",
            "text/plain": [
              "<Figure size 576x432 with 1 Axes>"
            ]
          },
          "metadata": {
            "needs_background": "light"
          },
          "output_type": "display_data"
        }
      ],
      "source": [
        "# gráfico de barras\n",
        "ax = w_time_mes.plot(kind='bar', figsize=(8, 6))\n",
        "plt.title('Suma de minutos de espera por Mes')\n",
        "plt.xlabel('Mes')\n",
        "plt.ylabel('Cantidad de minutos')\n",
        "plt.grid()\n",
        "plt.show()"
      ]
    },
    {
      "cell_type": "code",
      "execution_count": null,
      "metadata": {
        "colab": {
          "base_uri": "https://localhost:8080/",
          "height": 175
        },
        "id": "cmrE50adnx8_",
        "outputId": "1d5f8bdf-fc71-41bd-d0e9-8d6141c36117"
      },
      "outputs": [
        {
          "data": {
            "text/html": [
              "<div>\n",
              "<style scoped>\n",
              "    .dataframe tbody tr th:only-of-type {\n",
              "        vertical-align: middle;\n",
              "    }\n",
              "\n",
              "    .dataframe tbody tr th {\n",
              "        vertical-align: top;\n",
              "    }\n",
              "\n",
              "    .dataframe thead th {\n",
              "        text-align: right;\n",
              "    }\n",
              "</style>\n",
              "<table border=\"1\" class=\"dataframe\">\n",
              "  <thead>\n",
              "    <tr style=\"text-align: right;\">\n",
              "      <th></th>\n",
              "      <th>date</th>\n",
              "      <th>w_time</th>\n",
              "      <th>w_per_call</th>\n",
              "    </tr>\n",
              "  </thead>\n",
              "  <tbody>\n",
              "    <tr>\n",
              "      <th>0</th>\n",
              "      <td>2019-08</td>\n",
              "      <td>107134</td>\n",
              "      <td>15.66</td>\n",
              "    </tr>\n",
              "    <tr>\n",
              "      <th>1</th>\n",
              "      <td>2019-09</td>\n",
              "      <td>481523</td>\n",
              "      <td>16.38</td>\n",
              "    </tr>\n",
              "    <tr>\n",
              "      <th>2</th>\n",
              "      <td>2019-10</td>\n",
              "      <td>1040603</td>\n",
              "      <td>17.13</td>\n",
              "    </tr>\n",
              "    <tr>\n",
              "      <th>3</th>\n",
              "      <td>2019-11</td>\n",
              "      <td>1358667</td>\n",
              "      <td>17.13</td>\n",
              "    </tr>\n",
              "  </tbody>\n",
              "</table>\n",
              "</div>"
            ],
            "text/plain": [
              "      date   w_time  w_per_call\n",
              "0  2019-08   107134       15.66\n",
              "1  2019-09   481523       16.38\n",
              "2  2019-10  1040603       17.13\n",
              "3  2019-11  1358667       17.13"
            ]
          },
          "execution_count": 45,
          "metadata": {},
          "output_type": "execute_result"
        }
      ],
      "source": [
        "w_time_mes['w_per_call'] = w_time_mes['w_time'] / call_mes['calls_cnt']\n",
        "w_time_mes['w_per_call'] = w_time_mes['w_per_call'].round(2)\n",
        "w_time_mes"
      ]
    },
    {
      "cell_type": "code",
      "execution_count": null,
      "metadata": {
        "colab": {
          "base_uri": "https://localhost:8080/",
          "height": 592
        },
        "id": "NNjh7egLpX3e",
        "outputId": "5521a820-b281-4e73-e880-95b340f78b47"
      },
      "outputs": [
        {
          "data": {
            "image/png": "[encoded data removed]",
            "text/plain": [
              "<Figure size 576x432 with 1 Axes>"
            ]
          },
          "metadata": {
            "needs_background": "light"
          },
          "output_type": "display_data"
        }
      ],
      "source": [
        "#Ajustamos la columa date a datetime\n",
        "w_time_mes['date'] = w_time_mes['date'].dt.to_timestamp()\n",
        "\n",
        "fecha = w_time_mes['date']\n",
        "w_time = w_time_mes['w_time']\n",
        "w_per_call = w_time_mes['w_per_call']\n",
        "\n",
        "# Grafíco de líneas\n",
        "plt.figure(figsize=(8, 6))\n",
        "plt.plot(fecha, w_time, marker='o', linestyle='-', color='b', label='w_time')\n",
        "plt.plot(fecha, w_per_call, marker='o', linestyle='-', color='r', label='w_per_call')\n",
        "plt.xlabel('Fecha')\n",
        "plt.ylabel('Valor')\n",
        "plt.title('Gráfico de Líneas de los minutos de espera totales y los minutos de espera en promedio por llamada')\n",
        "plt.grid(True)\n",
        "plt.legend()\n",
        "plt.xticks(rotation=45)\n",
        "plt.tight_layout()  # Opcional: ajusta el espaciado para evitar que las etiquetas se recorten\n",
        "plt.show()\n"
      ]
    },
    {
      "cell_type": "markdown",
      "metadata": {
        "id": "w4iVDKVIiPUR"
      },
      "source": [
        "## 3.5-Planes"
      ]
    },
    {
      "cell_type": "code",
      "execution_count": null,
      "metadata": {
        "colab": {
          "base_uri": "https://localhost:8080/"
        },
        "id": "ieP0C5D099Ed",
        "outputId": "fe2d1ed1-3a22-427d-d863-044d76b6fbbd"
      },
      "outputs": [
        {
          "data": {
            "text/plain": [
              "tariff_plan    1\n",
              "dtype: int64"
            ]
          },
          "execution_count": 47,
          "metadata": {},
          "output_type": "execute_result"
        }
      ],
      "source": [
        "#Identificar cuantos planes distintos maneja cada operador\n",
        "op_plans = df.groupby('operator_id')['tariff_plan'].nunique()\n",
        "op_plans = op_plans.to_frame()\n",
        "op_plans.nunique()"
      ]
    },
    {
      "cell_type": "markdown",
      "metadata": {
        "id": "NvIDOlXziX2X"
      },
      "source": [
        "Desde la exploración inicial de datos sabíamos que existen 3 planes: A, B y C. En esta operación se agrupó por operador para saber cuántos tipos de plan maneja cada uno. Tenemos que cada operador responde sólo a un tipo de plan. Podemos descartar con esto que el comportamiento del operador de perder o recibir llamadas, no está relacionado con el tipo de plan del usuario puesto que cada operador solo trabaja con un solo tipo de plan."
      ]
    },
    {
      "cell_type": "code",
      "execution_count": null,
      "metadata": {
        "colab": {
          "base_uri": "https://localhost:8080/",
          "height": 143
        },
        "id": "GnyEi8hL1hUP",
        "outputId": "60dfef1d-a1bc-4923-c477-afe707273826"
      },
      "outputs": [
        {
          "data": {
            "text/html": [
              "<div>\n",
              "<style scoped>\n",
              "    .dataframe tbody tr th:only-of-type {\n",
              "        vertical-align: middle;\n",
              "    }\n",
              "\n",
              "    .dataframe tbody tr th {\n",
              "        vertical-align: top;\n",
              "    }\n",
              "\n",
              "    .dataframe thead th {\n",
              "        text-align: right;\n",
              "    }\n",
              "</style>\n",
              "<table border=\"1\" class=\"dataframe\">\n",
              "  <thead>\n",
              "    <tr style=\"text-align: right;\">\n",
              "      <th></th>\n",
              "      <th>tariff_plan</th>\n",
              "      <th>user_id</th>\n",
              "    </tr>\n",
              "  </thead>\n",
              "  <tbody>\n",
              "    <tr>\n",
              "      <th>0</th>\n",
              "      <td>A</td>\n",
              "      <td>34</td>\n",
              "    </tr>\n",
              "    <tr>\n",
              "      <th>1</th>\n",
              "      <td>B</td>\n",
              "      <td>112</td>\n",
              "    </tr>\n",
              "    <tr>\n",
              "      <th>2</th>\n",
              "      <td>C</td>\n",
              "      <td>161</td>\n",
              "    </tr>\n",
              "  </tbody>\n",
              "</table>\n",
              "</div>"
            ],
            "text/plain": [
              "  tariff_plan  user_id\n",
              "0           A       34\n",
              "1           B      112\n",
              "2           C      161"
            ]
          },
          "execution_count": 48,
          "metadata": {},
          "output_type": "execute_result"
        }
      ],
      "source": [
        "#Cuántos usuarios tenemos en cada plan\n",
        "us_plans = df.groupby('tariff_plan')['user_id'].nunique()\n",
        "us_plans = us_plans.to_frame().reset_index()\n",
        "us_plans"
      ]
    },
    {
      "cell_type": "markdown",
      "metadata": {
        "id": "S9ic2XKsyN6Z"
      },
      "source": [
        "## 3.6 Usuarios"
      ]
    },
    {
      "cell_type": "code",
      "execution_count": null,
      "metadata": {
        "colab": {
          "base_uri": "https://localhost:8080/",
          "height": 425
        },
        "id": "8OASiOP0u9q0",
        "outputId": "a8579c78-4fce-4d3a-c7c0-efe86a73f6ec"
      },
      "outputs": [
        {
          "data": {
            "text/html": [
              "<div>\n",
              "<style scoped>\n",
              "    .dataframe tbody tr th:only-of-type {\n",
              "        vertical-align: middle;\n",
              "    }\n",
              "\n",
              "    .dataframe tbody tr th {\n",
              "        vertical-align: top;\n",
              "    }\n",
              "\n",
              "    .dataframe thead th {\n",
              "        text-align: right;\n",
              "    }\n",
              "</style>\n",
              "<table border=\"1\" class=\"dataframe\">\n",
              "  <thead>\n",
              "    <tr style=\"text-align: right;\">\n",
              "      <th></th>\n",
              "      <th>direction</th>\n",
              "      <th>int/ext</th>\n",
              "      <th>tariff_plan</th>\n",
              "      <th>user_id</th>\n",
              "    </tr>\n",
              "  </thead>\n",
              "  <tbody>\n",
              "    <tr>\n",
              "      <th>0</th>\n",
              "      <td>in</td>\n",
              "      <td>externa</td>\n",
              "      <td>C</td>\n",
              "      <td>159</td>\n",
              "    </tr>\n",
              "    <tr>\n",
              "      <th>1</th>\n",
              "      <td>in</td>\n",
              "      <td>externa</td>\n",
              "      <td>B</td>\n",
              "      <td>111</td>\n",
              "    </tr>\n",
              "    <tr>\n",
              "      <th>2</th>\n",
              "      <td>out</td>\n",
              "      <td>externa</td>\n",
              "      <td>C</td>\n",
              "      <td>101</td>\n",
              "    </tr>\n",
              "    <tr>\n",
              "      <th>3</th>\n",
              "      <td>out</td>\n",
              "      <td>externa</td>\n",
              "      <td>B</td>\n",
              "      <td>86</td>\n",
              "    </tr>\n",
              "    <tr>\n",
              "      <th>4</th>\n",
              "      <td>out</td>\n",
              "      <td>interna</td>\n",
              "      <td>C</td>\n",
              "      <td>68</td>\n",
              "    </tr>\n",
              "    <tr>\n",
              "      <th>5</th>\n",
              "      <td>out</td>\n",
              "      <td>interna</td>\n",
              "      <td>B</td>\n",
              "      <td>53</td>\n",
              "    </tr>\n",
              "    <tr>\n",
              "      <th>6</th>\n",
              "      <td>in</td>\n",
              "      <td>interna</td>\n",
              "      <td>C</td>\n",
              "      <td>40</td>\n",
              "    </tr>\n",
              "    <tr>\n",
              "      <th>7</th>\n",
              "      <td>in</td>\n",
              "      <td>externa</td>\n",
              "      <td>A</td>\n",
              "      <td>33</td>\n",
              "    </tr>\n",
              "    <tr>\n",
              "      <th>8</th>\n",
              "      <td>out</td>\n",
              "      <td>externa</td>\n",
              "      <td>A</td>\n",
              "      <td>27</td>\n",
              "    </tr>\n",
              "    <tr>\n",
              "      <th>9</th>\n",
              "      <td>in</td>\n",
              "      <td>interna</td>\n",
              "      <td>B</td>\n",
              "      <td>26</td>\n",
              "    </tr>\n",
              "    <tr>\n",
              "      <th>10</th>\n",
              "      <td>out</td>\n",
              "      <td>interna</td>\n",
              "      <td>A</td>\n",
              "      <td>19</td>\n",
              "    </tr>\n",
              "    <tr>\n",
              "      <th>11</th>\n",
              "      <td>in</td>\n",
              "      <td>interna</td>\n",
              "      <td>A</td>\n",
              "      <td>10</td>\n",
              "    </tr>\n",
              "  </tbody>\n",
              "</table>\n",
              "</div>"
            ],
            "text/plain": [
              "   direction  int/ext tariff_plan  user_id\n",
              "0         in  externa           C      159\n",
              "1         in  externa           B      111\n",
              "2        out  externa           C      101\n",
              "3        out  externa           B       86\n",
              "4        out  interna           C       68\n",
              "5        out  interna           B       53\n",
              "6         in  interna           C       40\n",
              "7         in  externa           A       33\n",
              "8        out  externa           A       27\n",
              "9         in  interna           B       26\n",
              "10       out  interna           A       19\n",
              "11        in  interna           A       10"
            ]
          },
          "execution_count": 49,
          "metadata": {},
          "output_type": "execute_result"
        }
      ],
      "source": [
        "#Veamos cuántos usuarios sufren de llamadas perdidas según el tipo de ellas\n",
        "users_affected = perdidas.groupby(['direction','int/ext','tariff_plan'])['user_id'].nunique().sort_values(ascending=False)\n",
        "users_affected = users_affected.to_frame().reset_index()\n",
        "users_affected"
      ]
    },
    {
      "cell_type": "code",
      "execution_count": null,
      "metadata": {
        "colab": {
          "base_uri": "https://localhost:8080/",
          "height": 425
        },
        "id": "tVRrtDon3cAt",
        "outputId": "bc6ac8b9-a3a7-4e81-96ae-467e9df0de08"
      },
      "outputs": [
        {
          "data": {
            "text/html": [
              "<div>\n",
              "<style scoped>\n",
              "    .dataframe tbody tr th:only-of-type {\n",
              "        vertical-align: middle;\n",
              "    }\n",
              "\n",
              "    .dataframe tbody tr th {\n",
              "        vertical-align: top;\n",
              "    }\n",
              "\n",
              "    .dataframe thead th {\n",
              "        text-align: right;\n",
              "    }\n",
              "</style>\n",
              "<table border=\"1\" class=\"dataframe\">\n",
              "  <thead>\n",
              "    <tr style=\"text-align: right;\">\n",
              "      <th></th>\n",
              "      <th>direction</th>\n",
              "      <th>int/ext</th>\n",
              "      <th>tariff_plan</th>\n",
              "      <th>users_affected</th>\n",
              "      <th>users_total</th>\n",
              "      <th>rate</th>\n",
              "    </tr>\n",
              "  </thead>\n",
              "  <tbody>\n",
              "    <tr>\n",
              "      <th>4</th>\n",
              "      <td>in</td>\n",
              "      <td>externa</td>\n",
              "      <td>B</td>\n",
              "      <td>111</td>\n",
              "      <td>112</td>\n",
              "      <td>99.11</td>\n",
              "    </tr>\n",
              "    <tr>\n",
              "      <th>0</th>\n",
              "      <td>in</td>\n",
              "      <td>externa</td>\n",
              "      <td>C</td>\n",
              "      <td>159</td>\n",
              "      <td>161</td>\n",
              "      <td>98.76</td>\n",
              "    </tr>\n",
              "    <tr>\n",
              "      <th>8</th>\n",
              "      <td>in</td>\n",
              "      <td>externa</td>\n",
              "      <td>A</td>\n",
              "      <td>33</td>\n",
              "      <td>34</td>\n",
              "      <td>97.06</td>\n",
              "    </tr>\n",
              "    <tr>\n",
              "      <th>9</th>\n",
              "      <td>out</td>\n",
              "      <td>externa</td>\n",
              "      <td>A</td>\n",
              "      <td>27</td>\n",
              "      <td>34</td>\n",
              "      <td>79.41</td>\n",
              "    </tr>\n",
              "    <tr>\n",
              "      <th>5</th>\n",
              "      <td>out</td>\n",
              "      <td>externa</td>\n",
              "      <td>B</td>\n",
              "      <td>86</td>\n",
              "      <td>112</td>\n",
              "      <td>76.79</td>\n",
              "    </tr>\n",
              "    <tr>\n",
              "      <th>1</th>\n",
              "      <td>out</td>\n",
              "      <td>externa</td>\n",
              "      <td>C</td>\n",
              "      <td>101</td>\n",
              "      <td>161</td>\n",
              "      <td>62.73</td>\n",
              "    </tr>\n",
              "    <tr>\n",
              "      <th>10</th>\n",
              "      <td>out</td>\n",
              "      <td>interna</td>\n",
              "      <td>A</td>\n",
              "      <td>19</td>\n",
              "      <td>34</td>\n",
              "      <td>55.88</td>\n",
              "    </tr>\n",
              "    <tr>\n",
              "      <th>6</th>\n",
              "      <td>out</td>\n",
              "      <td>interna</td>\n",
              "      <td>B</td>\n",
              "      <td>53</td>\n",
              "      <td>112</td>\n",
              "      <td>47.32</td>\n",
              "    </tr>\n",
              "    <tr>\n",
              "      <th>2</th>\n",
              "      <td>out</td>\n",
              "      <td>interna</td>\n",
              "      <td>C</td>\n",
              "      <td>68</td>\n",
              "      <td>161</td>\n",
              "      <td>42.24</td>\n",
              "    </tr>\n",
              "    <tr>\n",
              "      <th>11</th>\n",
              "      <td>in</td>\n",
              "      <td>interna</td>\n",
              "      <td>A</td>\n",
              "      <td>10</td>\n",
              "      <td>34</td>\n",
              "      <td>29.41</td>\n",
              "    </tr>\n",
              "    <tr>\n",
              "      <th>3</th>\n",
              "      <td>in</td>\n",
              "      <td>interna</td>\n",
              "      <td>C</td>\n",
              "      <td>40</td>\n",
              "      <td>161</td>\n",
              "      <td>24.84</td>\n",
              "    </tr>\n",
              "    <tr>\n",
              "      <th>7</th>\n",
              "      <td>in</td>\n",
              "      <td>interna</td>\n",
              "      <td>B</td>\n",
              "      <td>26</td>\n",
              "      <td>112</td>\n",
              "      <td>23.21</td>\n",
              "    </tr>\n",
              "  </tbody>\n",
              "</table>\n",
              "</div>"
            ],
            "text/plain": [
              "   direction  int/ext tariff_plan  users_affected  users_total   rate\n",
              "4         in  externa           B             111          112  99.11\n",
              "0         in  externa           C             159          161  98.76\n",
              "8         in  externa           A              33           34  97.06\n",
              "9        out  externa           A              27           34  79.41\n",
              "5        out  externa           B              86          112  76.79\n",
              "1        out  externa           C             101          161  62.73\n",
              "10       out  interna           A              19           34  55.88\n",
              "6        out  interna           B              53          112  47.32\n",
              "2        out  interna           C              68          161  42.24\n",
              "11        in  interna           A              10           34  29.41\n",
              "3         in  interna           C              40          161  24.84\n",
              "7         in  interna           B              26          112  23.21"
            ]
          },
          "execution_count": 50,
          "metadata": {},
          "output_type": "execute_result"
        }
      ],
      "source": [
        "#Agregemos la cantidad de usuarios por plan\n",
        "users_affected = users_affected.merge(us_plans, on='tariff_plan')\n",
        "#Y veamos la afectación tomando en cuenta el total de usuarios por plan\n",
        "users_affected = users_affected.rename(columns={'user_id_x':'users_affected', 'user_id_y':'users_total'})\n",
        "users_affected['rate'] = (users_affected['users_affected']*100 / users_affected['users_total']).round(2)\n",
        "users_affected.sort_values(by='rate', ascending=False)"
      ]
    },
    {
      "cell_type": "markdown",
      "metadata": {
        "id": "8TSfAH4XyXc4"
      },
      "source": [
        "Esta evaluación nos arroja que el tipo de llamada que genera una mayor afectación son:\n",
        "\n",
        "* En primer lugar, la `externa entrante` en los tres planes, viéndose afectada casi la totalidad de los usuarios por plan. En segundo lugar la `externa saliente` con rangos de afectación a entre el 62.73 y el 79.41% de sus usuarios.\n",
        "\n",
        "Tenemos problemas con las llamdas internas, pero se afecta a los usuarios en un rango del 55% para abajo.\n",
        "\n",
        "\n",
        "usuarios más afectados por las llamadas perdidas son los pertenecientes al grupo"
      ]
    },
    {
      "cell_type": "markdown",
      "metadata": {
        "id": "t6bHQbEviu-s"
      },
      "source": [
        "## 3.7.-Operadores"
      ]
    },
    {
      "cell_type": "code",
      "execution_count": null,
      "metadata": {
        "colab": {
          "base_uri": "https://localhost:8080/"
        },
        "id": "ALQycT_qSYUF",
        "outputId": "185292fe-554e-47e4-883d-1b83885f6307"
      },
      "outputs": [
        {
          "data": {
            "text/plain": [
              "1073"
            ]
          },
          "execution_count": 51,
          "metadata": {},
          "output_type": "execute_result"
        }
      ],
      "source": [
        "#Veamos con cuántos operadores contamos\n",
        "df['operator_id'].nunique()"
      ]
    },
    {
      "cell_type": "code",
      "execution_count": null,
      "metadata": {
        "colab": {
          "base_uri": "https://localhost:8080/",
          "height": 53
        },
        "id": "-JH4Bm09v25M",
        "outputId": "0064811a-51ef-42d1-a5a5-26b8d4f38cd0"
      },
      "outputs": [
        {
          "data": {
            "text/html": [
              "<div>\n",
              "<style scoped>\n",
              "    .dataframe tbody tr th:only-of-type {\n",
              "        vertical-align: middle;\n",
              "    }\n",
              "\n",
              "    .dataframe tbody tr th {\n",
              "        vertical-align: top;\n",
              "    }\n",
              "\n",
              "    .dataframe thead th {\n",
              "        text-align: right;\n",
              "    }\n",
              "</style>\n",
              "<table border=\"1\" class=\"dataframe\">\n",
              "  <thead>\n",
              "    <tr style=\"text-align: right;\">\n",
              "      <th></th>\n",
              "      <th>operator_id</th>\n",
              "      <th>call</th>\n",
              "      <th>cnt</th>\n",
              "    </tr>\n",
              "  </thead>\n",
              "  <tbody>\n",
              "  </tbody>\n",
              "</table>\n",
              "</div>"
            ],
            "text/plain": [
              "Empty DataFrame\n",
              "Columns: [operator_id, call, cnt]\n",
              "Index: []"
            ]
          },
          "execution_count": 52,
          "metadata": {},
          "output_type": "execute_result"
        }
      ],
      "source": [
        "#Veamos cuantos operadores (de los 1092 totales) tiene únicamente llamadas perdidas en toda su actividad registrada\n",
        "c = df.groupby('operator_id')['call'].value_counts().reset_index(name='cnt')\n",
        "d = c[(c['call'] == 'recibida') & (c['cnt'] == 0)]\n",
        "d\n"
      ]
    },
    {
      "cell_type": "markdown",
      "metadata": {
        "id": "GS9Z2UENYo9K"
      },
      "source": [
        "Con esta información, se puede descartar que no tengamos operadores ausentes, sí registrados, pero si operar, es decir, todos los operadores tienen al menos una llamada recibida, aunque obviamente este nivel tan bajo será digno de análisis más adelante."
      ]
    },
    {
      "cell_type": "markdown",
      "metadata": {
        "id": "Z2J3_pVd_T1_"
      },
      "source": [
        "## 3.8.-Correlaciones"
      ]
    },
    {
      "cell_type": "markdown",
      "metadata": {
        "id": "9SkAsudbWXuR"
      },
      "source": [
        "Matriz de correlación"
      ]
    },
    {
      "cell_type": "code",
      "execution_count": null,
      "metadata": {
        "colab": {
          "base_uri": "https://localhost:8080/",
          "height": 545
        },
        "id": "_3CqbB4Trvtd",
        "outputId": "08ca8fa3-7f2e-4ddd-91b4-54c4f6bfdbd7"
      },
      "outputs": [
        {
          "data": {
            "image/png": "[encoded data removed]",
            "text/plain": [
              "<Figure size 576x432 with 2 Axes>"
            ]
          },
          "metadata": {
            "needs_background": "light"
          },
          "output_type": "display_data"
        }
      ],
      "source": [
        "# Seleccionar el subconjunto de columnas a incluir\n",
        "cols = ['calls_cnt', 'call_d', 'total_call_d', 'w_time']\n",
        "df_cols = df[cols]\n",
        "\n",
        "#Hagamos una matríz de correlación\n",
        "correlaciones = df_cols.corr()\n",
        "plt.figure(figsize=(8, 6))\n",
        "sns.heatmap(correlaciones, annot=True, cmap='coolwarm', linewidths=.5)\n",
        "plt.title('Matriz de Correlación')\n",
        "plt.show()"
      ]
    },
    {
      "cell_type": "markdown",
      "metadata": {
        "id": "dOV4JUberzDT"
      },
      "source": [
        "La matriz demuestra que hay una correlación positiva, es decir a mayor duración de llamada, mayor duración de llamada total que incluye los tiempos de espera.\n",
        "\n",
        "También muestra que hay una correlación más fuerte entre el número de llamadas y el tiempo de espera, que con el número de llamadas y la duración de las llamadas. Esto porque al haber mayor número de llamadas y el mismo número de operadores, obligatoriamente aumentarán los tiempos de espera.\n"
      ]
    },
    {
      "cell_type": "code",
      "execution_count": null,
      "metadata": {
        "colab": {
          "base_uri": "https://localhost:8080/",
          "height": 112
        },
        "id": "OWINu8WuuAXn",
        "outputId": "302d1211-f861-428f-9ee6-91a555fde07e"
      },
      "outputs": [
        {
          "data": {
            "text/html": [
              "<div>\n",
              "<style scoped>\n",
              "    .dataframe tbody tr th:only-of-type {\n",
              "        vertical-align: middle;\n",
              "    }\n",
              "\n",
              "    .dataframe tbody tr th {\n",
              "        vertical-align: top;\n",
              "    }\n",
              "\n",
              "    .dataframe thead th {\n",
              "        text-align: right;\n",
              "    }\n",
              "</style>\n",
              "<table border=\"1\" class=\"dataframe\">\n",
              "  <thead>\n",
              "    <tr style=\"text-align: right;\">\n",
              "      <th></th>\n",
              "      <th>perdidas</th>\n",
              "      <th>recibidas</th>\n",
              "    </tr>\n",
              "  </thead>\n",
              "  <tbody>\n",
              "    <tr>\n",
              "      <th>perdidas</th>\n",
              "      <td>1.00000</td>\n",
              "      <td>0.99838</td>\n",
              "    </tr>\n",
              "    <tr>\n",
              "      <th>recibidas</th>\n",
              "      <td>0.99838</td>\n",
              "      <td>1.00000</td>\n",
              "    </tr>\n",
              "  </tbody>\n",
              "</table>\n",
              "</div>"
            ],
            "text/plain": [
              "           perdidas  recibidas\n",
              "perdidas    1.00000    0.99838\n",
              "recibidas   0.99838    1.00000"
            ]
          },
          "execution_count": 54,
          "metadata": {},
          "output_type": "execute_result"
        }
      ],
      "source": [
        "recibidasyperdidas.corr()"
      ]
    },
    {
      "cell_type": "markdown",
      "metadata": {
        "id": "O7qzQ0NQuqdn"
      },
      "source": [
        "Este análisis es importante: hay una alta correlación positiva entre las llamadas perdidas y las recibidas. Es decir, no aplica en este caso el suspuesto de que el aumento de llamadas perdidas significa un aumento en llamada no recibidas."
      ]
    },
    {
      "cell_type": "markdown",
      "metadata": {
        "id": "peF1J_2NfpfX"
      },
      "source": [
        "## 3.9.-Identificar operadores ineficaces"
      ]
    },
    {
      "cell_type": "markdown",
      "metadata": {
        "id": "sB_7Sl83fpfX"
      },
      "source": [
        "### Con **más** llamadas perdidas"
      ]
    },
    {
      "cell_type": "code",
      "execution_count": null,
      "metadata": {
        "colab": {
          "base_uri": "https://localhost:8080/",
          "height": 215
        },
        "id": "9g2bg9AAssP8",
        "outputId": "36cb5961-c4eb-49bb-9f04-d7b3f9c7a58e"
      },
      "outputs": [
        {
          "data": {
            "text/html": [
              "<div>\n",
              "<style scoped>\n",
              "    .dataframe tbody tr th:only-of-type {\n",
              "        vertical-align: middle;\n",
              "    }\n",
              "\n",
              "    .dataframe tbody tr th {\n",
              "        vertical-align: top;\n",
              "    }\n",
              "\n",
              "    .dataframe thead th {\n",
              "        text-align: right;\n",
              "    }\n",
              "</style>\n",
              "<table border=\"1\" class=\"dataframe\">\n",
              "  <thead>\n",
              "    <tr style=\"text-align: right;\">\n",
              "      <th></th>\n",
              "      <th>user_id</th>\n",
              "      <th>date</th>\n",
              "      <th>direction</th>\n",
              "      <th>int/ext</th>\n",
              "      <th>operator_id</th>\n",
              "      <th>call</th>\n",
              "      <th>calls_cnt</th>\n",
              "      <th>call_d</th>\n",
              "      <th>total_call_d</th>\n",
              "      <th>tariff_plan</th>\n",
              "      <th>date_start</th>\n",
              "      <th>w_time</th>\n",
              "    </tr>\n",
              "  </thead>\n",
              "  <tbody>\n",
              "    <tr>\n",
              "      <th>0</th>\n",
              "      <td>166377</td>\n",
              "      <td>2019-08-04</td>\n",
              "      <td>in</td>\n",
              "      <td>externa</td>\n",
              "      <td>NaN</td>\n",
              "      <td>perdida</td>\n",
              "      <td>2</td>\n",
              "      <td>0</td>\n",
              "      <td>4</td>\n",
              "      <td>B</td>\n",
              "      <td>2019-08-01</td>\n",
              "      <td>4</td>\n",
              "    </tr>\n",
              "    <tr>\n",
              "      <th>1</th>\n",
              "      <td>166377</td>\n",
              "      <td>2019-08-05</td>\n",
              "      <td>out</td>\n",
              "      <td>interna</td>\n",
              "      <td>880022.0</td>\n",
              "      <td>perdida</td>\n",
              "      <td>3</td>\n",
              "      <td>0</td>\n",
              "      <td>5</td>\n",
              "      <td>B</td>\n",
              "      <td>2019-08-01</td>\n",
              "      <td>5</td>\n",
              "    </tr>\n",
              "    <tr>\n",
              "      <th>2</th>\n",
              "      <td>166377</td>\n",
              "      <td>2019-08-05</td>\n",
              "      <td>out</td>\n",
              "      <td>interna</td>\n",
              "      <td>880020.0</td>\n",
              "      <td>perdida</td>\n",
              "      <td>1</td>\n",
              "      <td>0</td>\n",
              "      <td>1</td>\n",
              "      <td>B</td>\n",
              "      <td>2019-08-01</td>\n",
              "      <td>1</td>\n",
              "    </tr>\n",
              "  </tbody>\n",
              "</table>\n",
              "</div>"
            ],
            "text/plain": [
              "   user_id       date direction  int/ext  operator_id     call  calls_cnt  \\\n",
              "0   166377 2019-08-04        in  externa          NaN  perdida          2   \n",
              "1   166377 2019-08-05       out  interna     880022.0  perdida          3   \n",
              "2   166377 2019-08-05       out  interna     880020.0  perdida          1   \n",
              "\n",
              "   call_d  total_call_d tariff_plan date_start  w_time  \n",
              "0       0             4           B 2019-08-01       4  \n",
              "1       0             5           B 2019-08-01       5  \n",
              "2       0             1           B 2019-08-01       1  "
            ]
          },
          "execution_count": 55,
          "metadata": {},
          "output_type": "execute_result"
        }
      ],
      "source": [
        "perdidas.head(3)"
      ]
    },
    {
      "cell_type": "code",
      "execution_count": null,
      "metadata": {
        "colab": {
          "base_uri": "https://localhost:8080/"
        },
        "id": "Kfn5NQxLswM6",
        "outputId": "a3cfb4d1-c21c-4cd1-d676-26632ca735aa"
      },
      "outputs": [
        {
          "data": {
            "text/plain": [
              "operator_id\n",
              "885890.0    23807\n",
              "885876.0    23330\n",
              "929428.0    19118\n",
              "925922.0     9258\n",
              "908640.0     8164\n",
              "            ...  \n",
              "932856.0        1\n",
              "934000.0        1\n",
              "934074.0        1\n",
              "934076.0        1\n",
              "922114.0        1\n",
              "Name: calls_cnt, Length: 876, dtype: int64"
            ]
          },
          "execution_count": 56,
          "metadata": {},
          "output_type": "execute_result"
        }
      ],
      "source": [
        "#Obtener los operadores que tengan un mayor número de llamadas perdidas\n",
        "perdidas_op = perdidas.groupby('operator_id')['calls_cnt'].sum().sort_values(ascending=False)\n",
        "perdidas_op"
      ]
    },
    {
      "cell_type": "code",
      "execution_count": null,
      "metadata": {
        "colab": {
          "base_uri": "https://localhost:8080/"
        },
        "id": "n3hVcYiOxp7C",
        "outputId": "a27e0634-817f-4032-8be1-2d768fd4eaa2"
      },
      "outputs": [
        {
          "data": {
            "text/plain": [
              "count      876.00\n",
              "mean       310.87\n",
              "std       1418.35\n",
              "min          1.00\n",
              "25%          6.00\n",
              "50%         34.00\n",
              "75%        229.00\n",
              "max      23807.00\n",
              "Name: calls_cnt, dtype: float64"
            ]
          },
          "execution_count": 57,
          "metadata": {},
          "output_type": "execute_result"
        }
      ],
      "source": [
        "#Identifiquemos el percentil 75\n",
        "perdidas_op.describe().round(2)"
      ]
    },
    {
      "cell_type": "code",
      "execution_count": null,
      "metadata": {
        "colab": {
          "base_uri": "https://localhost:8080/",
          "height": 423
        },
        "id": "X0ye6hnb0UEJ",
        "outputId": "bb94b7f6-7a23-4e59-dc68-07d3185997d7"
      },
      "outputs": [
        {
          "data": {
            "text/html": [
              "<div>\n",
              "<style scoped>\n",
              "    .dataframe tbody tr th:only-of-type {\n",
              "        vertical-align: middle;\n",
              "    }\n",
              "\n",
              "    .dataframe tbody tr th {\n",
              "        vertical-align: top;\n",
              "    }\n",
              "\n",
              "    .dataframe thead th {\n",
              "        text-align: right;\n",
              "    }\n",
              "</style>\n",
              "<table border=\"1\" class=\"dataframe\">\n",
              "  <thead>\n",
              "    <tr style=\"text-align: right;\">\n",
              "      <th></th>\n",
              "      <th>operator_id</th>\n",
              "      <th>calls_cnt</th>\n",
              "    </tr>\n",
              "  </thead>\n",
              "  <tbody>\n",
              "    <tr>\n",
              "      <th>0</th>\n",
              "      <td>885890.0</td>\n",
              "      <td>23807</td>\n",
              "    </tr>\n",
              "    <tr>\n",
              "      <th>1</th>\n",
              "      <td>885876.0</td>\n",
              "      <td>23330</td>\n",
              "    </tr>\n",
              "    <tr>\n",
              "      <th>2</th>\n",
              "      <td>929428.0</td>\n",
              "      <td>19118</td>\n",
              "    </tr>\n",
              "    <tr>\n",
              "      <th>3</th>\n",
              "      <td>925922.0</td>\n",
              "      <td>9258</td>\n",
              "    </tr>\n",
              "    <tr>\n",
              "      <th>4</th>\n",
              "      <td>908640.0</td>\n",
              "      <td>8164</td>\n",
              "    </tr>\n",
              "    <tr>\n",
              "      <th>...</th>\n",
              "      <td>...</td>\n",
              "      <td>...</td>\n",
              "    </tr>\n",
              "    <tr>\n",
              "      <th>215</th>\n",
              "      <td>917852.0</td>\n",
              "      <td>236</td>\n",
              "    </tr>\n",
              "    <tr>\n",
              "      <th>216</th>\n",
              "      <td>905566.0</td>\n",
              "      <td>235</td>\n",
              "    </tr>\n",
              "    <tr>\n",
              "      <th>217</th>\n",
              "      <td>945298.0</td>\n",
              "      <td>229</td>\n",
              "    </tr>\n",
              "    <tr>\n",
              "      <th>218</th>\n",
              "      <td>947640.0</td>\n",
              "      <td>229</td>\n",
              "    </tr>\n",
              "    <tr>\n",
              "      <th>219</th>\n",
              "      <td>890420.0</td>\n",
              "      <td>229</td>\n",
              "    </tr>\n",
              "  </tbody>\n",
              "</table>\n",
              "<p>220 rows × 2 columns</p>\n",
              "</div>"
            ],
            "text/plain": [
              "     operator_id  calls_cnt\n",
              "0       885890.0      23807\n",
              "1       885876.0      23330\n",
              "2       929428.0      19118\n",
              "3       925922.0       9258\n",
              "4       908640.0       8164\n",
              "..           ...        ...\n",
              "215     917852.0        236\n",
              "216     905566.0        235\n",
              "217     945298.0        229\n",
              "218     947640.0        229\n",
              "219     890420.0        229\n",
              "\n",
              "[220 rows x 2 columns]"
            ]
          },
          "execution_count": 58,
          "metadata": {},
          "output_type": "execute_result"
        }
      ],
      "source": [
        "#quedarnos solo con  los operadores con el 25% más alto en la cantidad de llamadas\n",
        "perdidas_op_top = perdidas_op[perdidas_op >= 229]\n",
        "perdidas_op_top = perdidas_op_top.to_frame().reset_index()\n",
        "perdidas_op_top"
      ]
    },
    {
      "cell_type": "markdown",
      "metadata": {
        "id": "eYaUgv6r0vnt"
      },
      "source": [
        "### Con **menos** llamadas recibidas"
      ]
    },
    {
      "cell_type": "code",
      "execution_count": null,
      "metadata": {
        "colab": {
          "base_uri": "https://localhost:8080/"
        },
        "id": "EUSDzgL6tKJf",
        "outputId": "3b4103f7-3850-463b-9c26-3896b819442c"
      },
      "outputs": [
        {
          "data": {
            "text/plain": [
              "operator_id\n",
              "901880.0    2350\n",
              "899082.0    1632\n",
              "901884.0    1624\n",
              "913788.0    1429\n",
              "906406.0    1417\n",
              "            ... \n",
              "917890.0       1\n",
              "918988.0       1\n",
              "919206.0       1\n",
              "919490.0       1\n",
              "948282.0       1\n",
              "Name: calls_cnt, Length: 1028, dtype: int64"
            ]
          },
          "execution_count": 59,
          "metadata": {},
          "output_type": "execute_result"
        }
      ],
      "source": [
        "#Obtener los operadores que tengan un mayor número de llamadas recibidas\n",
        "recibidas_op = recibidas.groupby('operator_id')['calls_cnt'].sum().sort_values(ascending=False)\n",
        "recibidas_op"
      ]
    },
    {
      "cell_type": "code",
      "execution_count": null,
      "metadata": {
        "colab": {
          "base_uri": "https://localhost:8080/"
        },
        "id": "yYnokAGZtSde",
        "outputId": "b3f867ee-854e-4b78-bc53-f75598877c78"
      },
      "outputs": [
        {
          "data": {
            "text/plain": [
              "count    1028.00\n",
              "mean      135.03\n",
              "std       246.89\n",
              "min         1.00\n",
              "25%         7.00\n",
              "50%        33.00\n",
              "75%       156.25\n",
              "max      2350.00\n",
              "Name: calls_cnt, dtype: float64"
            ]
          },
          "execution_count": 60,
          "metadata": {},
          "output_type": "execute_result"
        }
      ],
      "source": [
        "#Identifiquemos el percentil 25 para quedarnos solo con\n",
        "#los operadores con el 25% más bajo en la cantidad de llamadas\n",
        "recibidas_op.describe().round(2)"
      ]
    },
    {
      "cell_type": "code",
      "execution_count": null,
      "metadata": {
        "colab": {
          "base_uri": "https://localhost:8080/",
          "height": 423
        },
        "id": "Kg1rDfvb3xyz",
        "outputId": "a47e92b8-96e8-4275-ba98-b17e699708bc"
      },
      "outputs": [
        {
          "data": {
            "text/html": [
              "<div>\n",
              "<style scoped>\n",
              "    .dataframe tbody tr th:only-of-type {\n",
              "        vertical-align: middle;\n",
              "    }\n",
              "\n",
              "    .dataframe tbody tr th {\n",
              "        vertical-align: top;\n",
              "    }\n",
              "\n",
              "    .dataframe thead th {\n",
              "        text-align: right;\n",
              "    }\n",
              "</style>\n",
              "<table border=\"1\" class=\"dataframe\">\n",
              "  <thead>\n",
              "    <tr style=\"text-align: right;\">\n",
              "      <th></th>\n",
              "      <th>operator_id</th>\n",
              "      <th>calls_cnt</th>\n",
              "    </tr>\n",
              "  </thead>\n",
              "  <tbody>\n",
              "    <tr>\n",
              "      <th>0</th>\n",
              "      <td>892798.0</td>\n",
              "      <td>7</td>\n",
              "    </tr>\n",
              "    <tr>\n",
              "      <th>1</th>\n",
              "      <td>934188.0</td>\n",
              "      <td>7</td>\n",
              "    </tr>\n",
              "    <tr>\n",
              "      <th>2</th>\n",
              "      <td>928142.0</td>\n",
              "      <td>7</td>\n",
              "    </tr>\n",
              "    <tr>\n",
              "      <th>3</th>\n",
              "      <td>940788.0</td>\n",
              "      <td>7</td>\n",
              "    </tr>\n",
              "    <tr>\n",
              "      <th>4</th>\n",
              "      <td>970254.0</td>\n",
              "      <td>7</td>\n",
              "    </tr>\n",
              "    <tr>\n",
              "      <th>...</th>\n",
              "      <td>...</td>\n",
              "      <td>...</td>\n",
              "    </tr>\n",
              "    <tr>\n",
              "      <th>258</th>\n",
              "      <td>917890.0</td>\n",
              "      <td>1</td>\n",
              "    </tr>\n",
              "    <tr>\n",
              "      <th>259</th>\n",
              "      <td>918988.0</td>\n",
              "      <td>1</td>\n",
              "    </tr>\n",
              "    <tr>\n",
              "      <th>260</th>\n",
              "      <td>919206.0</td>\n",
              "      <td>1</td>\n",
              "    </tr>\n",
              "    <tr>\n",
              "      <th>261</th>\n",
              "      <td>919490.0</td>\n",
              "      <td>1</td>\n",
              "    </tr>\n",
              "    <tr>\n",
              "      <th>262</th>\n",
              "      <td>948282.0</td>\n",
              "      <td>1</td>\n",
              "    </tr>\n",
              "  </tbody>\n",
              "</table>\n",
              "<p>263 rows × 2 columns</p>\n",
              "</div>"
            ],
            "text/plain": [
              "     operator_id  calls_cnt\n",
              "0       892798.0          7\n",
              "1       934188.0          7\n",
              "2       928142.0          7\n",
              "3       940788.0          7\n",
              "4       970254.0          7\n",
              "..           ...        ...\n",
              "258     917890.0          1\n",
              "259     918988.0          1\n",
              "260     919206.0          1\n",
              "261     919490.0          1\n",
              "262     948282.0          1\n",
              "\n",
              "[263 rows x 2 columns]"
            ]
          },
          "execution_count": 61,
          "metadata": {},
          "output_type": "execute_result"
        }
      ],
      "source": [
        "#quedarnos solo con  los operadores con el 25% más bajo en la cantidad de llamadas\n",
        "recibidas_op_bottom = recibidas_op[recibidas_op <= 7]\n",
        "recibidas_op_bottom = recibidas_op_bottom.to_frame().reset_index()\n",
        "recibidas_op_bottom"
      ]
    },
    {
      "cell_type": "markdown",
      "metadata": {
        "id": "oaobvWm-7NAG"
      },
      "source": [
        "### Con **más** tiempo de espera"
      ]
    },
    {
      "cell_type": "code",
      "execution_count": null,
      "metadata": {
        "colab": {
          "base_uri": "https://localhost:8080/"
        },
        "id": "9hNoQe0u7NAP",
        "outputId": "40a9c026-f71f-4b90-f4bb-c7eaf3d8e91d"
      },
      "outputs": [
        {
          "data": {
            "text/plain": [
              "operator_id\n",
              "899082.0    30427\n",
              "901884.0    27400\n",
              "887276.0    25309\n",
              "890404.0    24694\n",
              "890402.0    24025\n",
              "            ...  \n",
              "919382.0        0\n",
              "938078.0        0\n",
              "952466.0        0\n",
              "960674.0        0\n",
              "945322.0        0\n",
              "Name: w_time, Length: 1073, dtype: int64"
            ]
          },
          "execution_count": 62,
          "metadata": {},
          "output_type": "execute_result"
        }
      ],
      "source": [
        "#Obtener los operadores que tengan un mayor número de llamadas recibidas\n",
        "w_op = df.groupby('operator_id')['w_time'].sum().sort_values(ascending=False)\n",
        "w_op"
      ]
    },
    {
      "cell_type": "code",
      "execution_count": null,
      "metadata": {
        "colab": {
          "base_uri": "https://localhost:8080/"
        },
        "id": "0AX2zZvS7NAQ",
        "outputId": "cbf4def2-ab22-4019-e03a-270df58b7bfd"
      },
      "outputs": [
        {
          "data": {
            "text/plain": [
              "count     1073.00\n",
              "mean      2372.60\n",
              "std       4252.27\n",
              "min          0.00\n",
              "25%        105.00\n",
              "50%        575.00\n",
              "75%       2414.00\n",
              "max      30427.00\n",
              "Name: w_time, dtype: float64"
            ]
          },
          "execution_count": 63,
          "metadata": {},
          "output_type": "execute_result"
        }
      ],
      "source": [
        "#Identifiquemos el percentil 75 para quedarnos solo con\n",
        "#los operadores con el 25% más alto en la cantidad de minutos de espera\n",
        "w_op.describe().round(2)"
      ]
    },
    {
      "cell_type": "code",
      "execution_count": null,
      "metadata": {
        "colab": {
          "base_uri": "https://localhost:8080/",
          "height": 423
        },
        "id": "Ob0zSHO-7NAQ",
        "outputId": "f3c98362-bd4a-4f42-e1c8-36417668ee07"
      },
      "outputs": [
        {
          "data": {
            "text/html": [
              "<div>\n",
              "<style scoped>\n",
              "    .dataframe tbody tr th:only-of-type {\n",
              "        vertical-align: middle;\n",
              "    }\n",
              "\n",
              "    .dataframe tbody tr th {\n",
              "        vertical-align: top;\n",
              "    }\n",
              "\n",
              "    .dataframe thead th {\n",
              "        text-align: right;\n",
              "    }\n",
              "</style>\n",
              "<table border=\"1\" class=\"dataframe\">\n",
              "  <thead>\n",
              "    <tr style=\"text-align: right;\">\n",
              "      <th></th>\n",
              "      <th>operator_id</th>\n",
              "      <th>w_time</th>\n",
              "    </tr>\n",
              "  </thead>\n",
              "  <tbody>\n",
              "    <tr>\n",
              "      <th>0</th>\n",
              "      <td>899082.0</td>\n",
              "      <td>30427</td>\n",
              "    </tr>\n",
              "    <tr>\n",
              "      <th>1</th>\n",
              "      <td>901884.0</td>\n",
              "      <td>27400</td>\n",
              "    </tr>\n",
              "    <tr>\n",
              "      <th>2</th>\n",
              "      <td>887276.0</td>\n",
              "      <td>25309</td>\n",
              "    </tr>\n",
              "    <tr>\n",
              "      <th>3</th>\n",
              "      <td>890404.0</td>\n",
              "      <td>24694</td>\n",
              "    </tr>\n",
              "    <tr>\n",
              "      <th>4</th>\n",
              "      <td>890402.0</td>\n",
              "      <td>24025</td>\n",
              "    </tr>\n",
              "    <tr>\n",
              "      <th>...</th>\n",
              "      <td>...</td>\n",
              "      <td>...</td>\n",
              "    </tr>\n",
              "    <tr>\n",
              "      <th>264</th>\n",
              "      <td>939886.0</td>\n",
              "      <td>2469</td>\n",
              "    </tr>\n",
              "    <tr>\n",
              "      <th>265</th>\n",
              "      <td>884478.0</td>\n",
              "      <td>2469</td>\n",
              "    </tr>\n",
              "    <tr>\n",
              "      <th>266</th>\n",
              "      <td>936110.0</td>\n",
              "      <td>2434</td>\n",
              "    </tr>\n",
              "    <tr>\n",
              "      <th>267</th>\n",
              "      <td>924954.0</td>\n",
              "      <td>2425</td>\n",
              "    </tr>\n",
              "    <tr>\n",
              "      <th>268</th>\n",
              "      <td>926490.0</td>\n",
              "      <td>2414</td>\n",
              "    </tr>\n",
              "  </tbody>\n",
              "</table>\n",
              "<p>269 rows × 2 columns</p>\n",
              "</div>"
            ],
            "text/plain": [
              "     operator_id  w_time\n",
              "0       899082.0   30427\n",
              "1       901884.0   27400\n",
              "2       887276.0   25309\n",
              "3       890404.0   24694\n",
              "4       890402.0   24025\n",
              "..           ...     ...\n",
              "264     939886.0    2469\n",
              "265     884478.0    2469\n",
              "266     936110.0    2434\n",
              "267     924954.0    2425\n",
              "268     926490.0    2414\n",
              "\n",
              "[269 rows x 2 columns]"
            ]
          },
          "execution_count": 64,
          "metadata": {},
          "output_type": "execute_result"
        }
      ],
      "source": [
        "#quedarnos solo con  los operadores con el 25% más alto en la cantidad de llamadas\n",
        "w_op_top = w_op[w_op >= 2414]\n",
        "w_op_top = w_op_top.to_frame().reset_index()\n",
        "w_op_top"
      ]
    },
    {
      "cell_type": "markdown",
      "metadata": {
        "id": "oXBrXEotGZrr"
      },
      "source": [
        "### Tamizado: **operadores ineficaces**"
      ]
    },
    {
      "cell_type": "markdown",
      "metadata": {
        "id": "vWX7dwesBPI2"
      },
      "source": [
        "Recordemos que tenemos un total de 1073 operadores."
      ]
    },
    {
      "cell_type": "code",
      "execution_count": null,
      "metadata": {
        "colab": {
          "base_uri": "https://localhost:8080/",
          "height": 423
        },
        "id": "DPEQ6t3bD61f",
        "outputId": "39f0c26b-7350-4718-cc0f-ba6dac9fd7a7"
      },
      "outputs": [
        {
          "data": {
            "text/html": [
              "<div>\n",
              "<style scoped>\n",
              "    .dataframe tbody tr th:only-of-type {\n",
              "        vertical-align: middle;\n",
              "    }\n",
              "\n",
              "    .dataframe tbody tr th {\n",
              "        vertical-align: top;\n",
              "    }\n",
              "\n",
              "    .dataframe thead th {\n",
              "        text-align: right;\n",
              "    }\n",
              "</style>\n",
              "<table border=\"1\" class=\"dataframe\">\n",
              "  <thead>\n",
              "    <tr style=\"text-align: right;\">\n",
              "      <th></th>\n",
              "      <th>operator_id</th>\n",
              "      <th>w_time</th>\n",
              "      <th>calls_cnt</th>\n",
              "    </tr>\n",
              "  </thead>\n",
              "  <tbody>\n",
              "    <tr>\n",
              "      <th>0</th>\n",
              "      <td>899082.0</td>\n",
              "      <td>30427</td>\n",
              "      <td>480</td>\n",
              "    </tr>\n",
              "    <tr>\n",
              "      <th>1</th>\n",
              "      <td>901884.0</td>\n",
              "      <td>27400</td>\n",
              "      <td>617</td>\n",
              "    </tr>\n",
              "    <tr>\n",
              "      <th>2</th>\n",
              "      <td>887276.0</td>\n",
              "      <td>25309</td>\n",
              "      <td>268</td>\n",
              "    </tr>\n",
              "    <tr>\n",
              "      <th>3</th>\n",
              "      <td>890404.0</td>\n",
              "      <td>24694</td>\n",
              "      <td>495</td>\n",
              "    </tr>\n",
              "    <tr>\n",
              "      <th>4</th>\n",
              "      <td>890402.0</td>\n",
              "      <td>24025</td>\n",
              "      <td>447</td>\n",
              "    </tr>\n",
              "    <tr>\n",
              "      <th>...</th>\n",
              "      <td>...</td>\n",
              "      <td>...</td>\n",
              "      <td>...</td>\n",
              "    </tr>\n",
              "    <tr>\n",
              "      <th>104</th>\n",
              "      <td>945282.0</td>\n",
              "      <td>2901</td>\n",
              "      <td>719</td>\n",
              "    </tr>\n",
              "    <tr>\n",
              "      <th>105</th>\n",
              "      <td>945296.0</td>\n",
              "      <td>2871</td>\n",
              "      <td>1042</td>\n",
              "    </tr>\n",
              "    <tr>\n",
              "      <th>106</th>\n",
              "      <td>904016.0</td>\n",
              "      <td>2729</td>\n",
              "      <td>2359</td>\n",
              "    </tr>\n",
              "    <tr>\n",
              "      <th>107</th>\n",
              "      <td>939706.0</td>\n",
              "      <td>2640</td>\n",
              "      <td>290</td>\n",
              "    </tr>\n",
              "    <tr>\n",
              "      <th>108</th>\n",
              "      <td>884478.0</td>\n",
              "      <td>2469</td>\n",
              "      <td>1155</td>\n",
              "    </tr>\n",
              "  </tbody>\n",
              "</table>\n",
              "<p>109 rows × 3 columns</p>\n",
              "</div>"
            ],
            "text/plain": [
              "     operator_id  w_time  calls_cnt\n",
              "0       899082.0   30427        480\n",
              "1       901884.0   27400        617\n",
              "2       887276.0   25309        268\n",
              "3       890404.0   24694        495\n",
              "4       890402.0   24025        447\n",
              "..           ...     ...        ...\n",
              "104     945282.0    2901        719\n",
              "105     945296.0    2871       1042\n",
              "106     904016.0    2729       2359\n",
              "107     939706.0    2640        290\n",
              "108     884478.0    2469       1155\n",
              "\n",
              "[109 rows x 3 columns]"
            ]
          },
          "execution_count": 65,
          "metadata": {},
          "output_type": "execute_result"
        }
      ],
      "source": [
        "#Unir los operadores ineficientes\n",
        "#muchas llamadas perdidas, más, muchos minutos de espera.\n",
        "#importante: usar inner para las coincidencias\n",
        "inef = w_op_top.merge(perdidas_op_top, how='inner', on='operator_id')\n",
        "inef"
      ]
    },
    {
      "cell_type": "markdown",
      "metadata": {
        "id": "JuOWe7Rh0Yky"
      },
      "source": [
        "La tabla anterior reúne a los 109 operadores más ineficaces a partir de sus altos valores en minutos de espera y llamadas perdidas."
      ]
    },
    {
      "cell_type": "code",
      "execution_count": null,
      "metadata": {
        "colab": {
          "base_uri": "https://localhost:8080/"
        },
        "id": "60nOJAUk0xUA",
        "outputId": "ff78132c-8c57-4bfd-bd47-fec72bcdac7a"
      },
      "outputs": [
        {
          "data": {
            "text/plain": [
              "array([899082., 901884., 887276., 890404., 890402., 901880., 880028.,\n",
              "       890406., 913788., 915556., 903254., 923526., 899250., 889410.,\n",
              "       906406., 905538., 925104., 890416., 901886., 903318., 937708.,\n",
              "       890410., 891410., 905844., 889754., 900892., 921818., 937902.,\n",
              "       922142., 893804., 890412., 882686., 917852., 905542., 880026.,\n",
              "       937888., 902510., 937760., 937854., 885876., 937808., 937780.,\n",
              "       938896., 883942., 939222., 918978., 905842., 918986., 928886.,\n",
              "       905566., 941384., 937736., 891414., 937788., 902532., 937966.,\n",
              "       939376., 907174., 939762., 894656., 890420., 926486., 941192.,\n",
              "       891416., 879898., 884412., 902742., 887282., 882690., 900180.,\n",
              "       937752., 931458., 945298., 893674., 914052., 954650., 884946.,\n",
              "       947652., 879896., 902720., 921318., 902782., 902774., 892028.,\n",
              "       945314., 917234., 937860., 945312., 928312., 939738., 885890.,\n",
              "       899932., 904014., 929424., 905430., 940624., 899788., 952948.,\n",
              "       947604., 901992., 909502., 952914., 899790., 939224., 945282.,\n",
              "       945296., 904016., 939706., 884478.])"
            ]
          },
          "execution_count": 66,
          "metadata": {},
          "output_type": "execute_result"
        }
      ],
      "source": [
        "#Quiénes son estos 109 operadores\n",
        "inef['operator_id'].unique()"
      ]
    },
    {
      "cell_type": "code",
      "execution_count": null,
      "metadata": {
        "colab": {
          "base_uri": "https://localhost:8080/",
          "height": 53
        },
        "id": "GvyYZnrjJkmP",
        "outputId": "4f7df091-2d1b-41e4-e028-397a0be127bb"
      },
      "outputs": [
        {
          "data": {
            "text/html": [
              "<div>\n",
              "<style scoped>\n",
              "    .dataframe tbody tr th:only-of-type {\n",
              "        vertical-align: middle;\n",
              "    }\n",
              "\n",
              "    .dataframe tbody tr th {\n",
              "        vertical-align: top;\n",
              "    }\n",
              "\n",
              "    .dataframe thead th {\n",
              "        text-align: right;\n",
              "    }\n",
              "</style>\n",
              "<table border=\"1\" class=\"dataframe\">\n",
              "  <thead>\n",
              "    <tr style=\"text-align: right;\">\n",
              "      <th></th>\n",
              "      <th>operator_id</th>\n",
              "      <th>w_time</th>\n",
              "      <th>calls_cnt_x</th>\n",
              "      <th>calls_cnt_y</th>\n",
              "    </tr>\n",
              "  </thead>\n",
              "  <tbody>\n",
              "  </tbody>\n",
              "</table>\n",
              "</div>"
            ],
            "text/plain": [
              "Empty DataFrame\n",
              "Columns: [operator_id, w_time, calls_cnt_x, calls_cnt_y]\n",
              "Index: []"
            ]
          },
          "execution_count": 67,
          "metadata": {},
          "output_type": "execute_result"
        }
      ],
      "source": [
        "#Hacer coincidir estos operadores ineficientes con los operadores de pocas llamadas recibidas\n",
        "inef2 = inef.merge(recibidas_op_bottom, how='inner', on='operator_id')\n",
        "inef2"
      ]
    },
    {
      "cell_type": "markdown",
      "metadata": {
        "id": "PGltOvSEK6qI"
      },
      "source": [
        "No hay coincidencias entre los operadores que reúnen muchas llamadas perdidas y muchos minutos de espera, con los operadores que reciben pocas llamadas por lo que este último parámetro no se considerará como parte del comportamiento del operador ineficiente."
      ]
    },
    {
      "cell_type": "code",
      "execution_count": null,
      "metadata": {
        "colab": {
          "base_uri": "https://localhost:8080/",
          "height": 455
        },
        "id": "MR5TYaQaOuI1",
        "outputId": "58e32195-5e26-4d41-f10a-8631316e991f"
      },
      "outputs": [
        {
          "data": {
            "image/png": "[encoded data removed]",
            "text/plain": [
              "<Figure size 432x288 with 1 Axes>"
            ]
          },
          "metadata": {
            "needs_background": "light"
          },
          "output_type": "display_data"
        }
      ],
      "source": [
        "#Veamos las llamadas perdidas en comparación\n",
        "\n",
        "# promedio de las sumas de llamadas para cada usuario ineficiente\n",
        "perdidas_inef = inef['calls_cnt'].mean().round(2)\n",
        "# promedio de las sumas de llamadas para cada usuario del df\n",
        "perdidas_df = perdidas.groupby('operator_id')['calls_cnt'].sum()\n",
        "perdidas_df = perdidas_df.mean().round(2)\n",
        "\n",
        "# Crear un gráfico de barras\n",
        "etiquetas = ['ineficientes', 'la totalidad']\n",
        "valores = [perdidas_inef, perdidas_df]\n",
        "\n",
        "plt.bar(etiquetas, valores)\n",
        "plt.xlabel('Operadores')\n",
        "plt.ylabel('Cantidad de llamadas')\n",
        "plt.title('Comparación de los promedios de las llamadas perdidas entre los ineficientes y el total de operadores')\n",
        "plt.show()"
      ]
    },
    {
      "cell_type": "code",
      "execution_count": null,
      "metadata": {
        "colab": {
          "base_uri": "https://localhost:8080/",
          "height": 465
        },
        "id": "ui7GKw5RMaUp",
        "outputId": "8391b9a7-5d02-4bf2-e6ce-8dd6afb68ef1"
      },
      "outputs": [
        {
          "data": {
            "image/png": "[encoded data removed]",
            "text/plain": [
              "<Figure size 432x288 with 1 Axes>"
            ]
          },
          "metadata": {
            "needs_background": "light"
          },
          "output_type": "display_data"
        }
      ],
      "source": [
        "#Veamos los minutos de espera en comparación\n",
        "\n",
        "# promedio de las sumas de w_time para cada usuario ineficiente\n",
        "w_time_inef = inef['w_time'].mean().round(2)\n",
        "# promedio de las sumas de w_time para cada usuario del df\n",
        "w_time_df = df.groupby('operator_id')['w_time'].sum()\n",
        "w_time_df = w_time_df.mean().round(2)\n",
        "\n",
        "# Crear un gráfico de barras\n",
        "etiquetas = ['ineficientes', 'la totalidad']\n",
        "valores = [w_time_inef, w_time_df]\n",
        "\n",
        "plt.bar(etiquetas, valores)\n",
        "plt.xlabel('Operadores')\n",
        "plt.ylabel('minutos')\n",
        "plt.title('Comparación del los promedios de minutos de espera entre los ineficientes y el total de operadores')\n",
        "plt.show()"
      ]
    },
    {
      "cell_type": "markdown",
      "metadata": {
        "id": "TZZwTS4k7NAQ"
      },
      "source": [
        "Identificar a qué plan tarifario atienden estos operadores"
      ]
    },
    {
      "cell_type": "code",
      "execution_count": null,
      "metadata": {
        "colab": {
          "base_uri": "https://localhost:8080/",
          "height": 143
        },
        "id": "o4KSOTLVhYOS",
        "outputId": "783fde6b-5e4f-473f-8af1-dbc15c2ebbf0"
      },
      "outputs": [
        {
          "data": {
            "text/html": [
              "<div>\n",
              "<style scoped>\n",
              "    .dataframe tbody tr th:only-of-type {\n",
              "        vertical-align: middle;\n",
              "    }\n",
              "\n",
              "    .dataframe tbody tr th {\n",
              "        vertical-align: top;\n",
              "    }\n",
              "\n",
              "    .dataframe thead th {\n",
              "        text-align: right;\n",
              "    }\n",
              "</style>\n",
              "<table border=\"1\" class=\"dataframe\">\n",
              "  <thead>\n",
              "    <tr style=\"text-align: right;\">\n",
              "      <th></th>\n",
              "      <th>tariff_plan</th>\n",
              "      <th>operator_id</th>\n",
              "    </tr>\n",
              "  </thead>\n",
              "  <tbody>\n",
              "    <tr>\n",
              "      <th>0</th>\n",
              "      <td>A</td>\n",
              "      <td>27</td>\n",
              "    </tr>\n",
              "    <tr>\n",
              "      <th>1</th>\n",
              "      <td>B</td>\n",
              "      <td>37</td>\n",
              "    </tr>\n",
              "    <tr>\n",
              "      <th>2</th>\n",
              "      <td>C</td>\n",
              "      <td>45</td>\n",
              "    </tr>\n",
              "  </tbody>\n",
              "</table>\n",
              "</div>"
            ],
            "text/plain": [
              "  tariff_plan  operator_id\n",
              "0           A           27\n",
              "1           B           37\n",
              "2           C           45"
            ]
          },
          "execution_count": 70,
          "metadata": {},
          "output_type": "execute_result"
        }
      ],
      "source": [
        "#Generemos un df con las observaciones de únicamente los operadores ineficientes\n",
        "df_inef = df[df['operator_id'].isin(inef['operator_id'])]\n",
        "df_inef\n",
        "#Ya sabemos que cada operador responde a un solo plan,\n",
        "#así que veamos cuantos operadores, de los 109 ineficientes corresponden a cada plan\n",
        "inef_plans = df_inef.groupby('tariff_plan')['operator_id'].nunique()\n",
        "inef_plans = inef_plans.to_frame().reset_index()\n",
        "inef_plans"
      ]
    },
    {
      "cell_type": "code",
      "execution_count": null,
      "metadata": {
        "colab": {
          "base_uri": "https://localhost:8080/",
          "height": 617
        },
        "id": "9Kmx1UEN8V4O",
        "outputId": "479a4ff7-3e1e-41dc-89a1-fd8aa4d4afc5"
      },
      "outputs": [
        {
          "data": {
            "text/html": [
              "<div>\n",
              "<style scoped>\n",
              "    .dataframe tbody tr th:only-of-type {\n",
              "        vertical-align: middle;\n",
              "    }\n",
              "\n",
              "    .dataframe tbody tr th {\n",
              "        vertical-align: top;\n",
              "    }\n",
              "\n",
              "    .dataframe thead th {\n",
              "        text-align: right;\n",
              "    }\n",
              "</style>\n",
              "<table border=\"1\" class=\"dataframe\">\n",
              "  <thead>\n",
              "    <tr style=\"text-align: right;\">\n",
              "      <th></th>\n",
              "      <th>user_id</th>\n",
              "      <th>date</th>\n",
              "      <th>direction</th>\n",
              "      <th>int/ext</th>\n",
              "      <th>operator_id</th>\n",
              "      <th>call</th>\n",
              "      <th>calls_cnt</th>\n",
              "      <th>call_d</th>\n",
              "      <th>total_call_d</th>\n",
              "      <th>tariff_plan</th>\n",
              "      <th>date_start</th>\n",
              "      <th>w_time</th>\n",
              "    </tr>\n",
              "  </thead>\n",
              "  <tbody>\n",
              "    <tr>\n",
              "      <th>0</th>\n",
              "      <td>166377</td>\n",
              "      <td>2019-08-04</td>\n",
              "      <td>in</td>\n",
              "      <td>externa</td>\n",
              "      <td>NaN</td>\n",
              "      <td>perdida</td>\n",
              "      <td>2</td>\n",
              "      <td>0</td>\n",
              "      <td>4</td>\n",
              "      <td>B</td>\n",
              "      <td>2019-08-01</td>\n",
              "      <td>4</td>\n",
              "    </tr>\n",
              "    <tr>\n",
              "      <th>1</th>\n",
              "      <td>166377</td>\n",
              "      <td>2019-08-05</td>\n",
              "      <td>out</td>\n",
              "      <td>interna</td>\n",
              "      <td>880022.0</td>\n",
              "      <td>perdida</td>\n",
              "      <td>3</td>\n",
              "      <td>0</td>\n",
              "      <td>5</td>\n",
              "      <td>B</td>\n",
              "      <td>2019-08-01</td>\n",
              "      <td>5</td>\n",
              "    </tr>\n",
              "    <tr>\n",
              "      <th>2</th>\n",
              "      <td>166377</td>\n",
              "      <td>2019-08-05</td>\n",
              "      <td>out</td>\n",
              "      <td>interna</td>\n",
              "      <td>880020.0</td>\n",
              "      <td>perdida</td>\n",
              "      <td>1</td>\n",
              "      <td>0</td>\n",
              "      <td>1</td>\n",
              "      <td>B</td>\n",
              "      <td>2019-08-01</td>\n",
              "      <td>1</td>\n",
              "    </tr>\n",
              "    <tr>\n",
              "      <th>3</th>\n",
              "      <td>166377</td>\n",
              "      <td>2019-08-05</td>\n",
              "      <td>out</td>\n",
              "      <td>interna</td>\n",
              "      <td>880020.0</td>\n",
              "      <td>recibida</td>\n",
              "      <td>1</td>\n",
              "      <td>10</td>\n",
              "      <td>18</td>\n",
              "      <td>B</td>\n",
              "      <td>2019-08-01</td>\n",
              "      <td>8</td>\n",
              "    </tr>\n",
              "    <tr>\n",
              "      <th>4</th>\n",
              "      <td>166377</td>\n",
              "      <td>2019-08-05</td>\n",
              "      <td>out</td>\n",
              "      <td>externa</td>\n",
              "      <td>880022.0</td>\n",
              "      <td>perdida</td>\n",
              "      <td>3</td>\n",
              "      <td>0</td>\n",
              "      <td>25</td>\n",
              "      <td>B</td>\n",
              "      <td>2019-08-01</td>\n",
              "      <td>25</td>\n",
              "    </tr>\n",
              "    <tr>\n",
              "      <th>...</th>\n",
              "      <td>...</td>\n",
              "      <td>...</td>\n",
              "      <td>...</td>\n",
              "      <td>...</td>\n",
              "      <td>...</td>\n",
              "      <td>...</td>\n",
              "      <td>...</td>\n",
              "      <td>...</td>\n",
              "      <td>...</td>\n",
              "      <td>...</td>\n",
              "      <td>...</td>\n",
              "      <td>...</td>\n",
              "    </tr>\n",
              "    <tr>\n",
              "      <th>48830</th>\n",
              "      <td>168606</td>\n",
              "      <td>2019-11-10</td>\n",
              "      <td>out</td>\n",
              "      <td>interna</td>\n",
              "      <td>957922.0</td>\n",
              "      <td>recibida</td>\n",
              "      <td>1</td>\n",
              "      <td>0</td>\n",
              "      <td>25</td>\n",
              "      <td>C</td>\n",
              "      <td>2019-10-31</td>\n",
              "      <td>25</td>\n",
              "    </tr>\n",
              "    <tr>\n",
              "      <th>48831</th>\n",
              "      <td>168606</td>\n",
              "      <td>2019-11-10</td>\n",
              "      <td>out</td>\n",
              "      <td>interna</td>\n",
              "      <td>957922.0</td>\n",
              "      <td>perdida</td>\n",
              "      <td>1</td>\n",
              "      <td>0</td>\n",
              "      <td>38</td>\n",
              "      <td>C</td>\n",
              "      <td>2019-10-31</td>\n",
              "      <td>38</td>\n",
              "    </tr>\n",
              "    <tr>\n",
              "      <th>48832</th>\n",
              "      <td>168606</td>\n",
              "      <td>2019-11-11</td>\n",
              "      <td>out</td>\n",
              "      <td>interna</td>\n",
              "      <td>957922.0</td>\n",
              "      <td>recibida</td>\n",
              "      <td>2</td>\n",
              "      <td>479</td>\n",
              "      <td>501</td>\n",
              "      <td>C</td>\n",
              "      <td>2019-10-31</td>\n",
              "      <td>22</td>\n",
              "    </tr>\n",
              "    <tr>\n",
              "      <th>48833</th>\n",
              "      <td>168606</td>\n",
              "      <td>2019-11-15</td>\n",
              "      <td>out</td>\n",
              "      <td>interna</td>\n",
              "      <td>957922.0</td>\n",
              "      <td>recibida</td>\n",
              "      <td>4</td>\n",
              "      <td>3130</td>\n",
              "      <td>3190</td>\n",
              "      <td>C</td>\n",
              "      <td>2019-10-31</td>\n",
              "      <td>60</td>\n",
              "    </tr>\n",
              "    <tr>\n",
              "      <th>48834</th>\n",
              "      <td>168606</td>\n",
              "      <td>2019-11-19</td>\n",
              "      <td>in</td>\n",
              "      <td>externa</td>\n",
              "      <td>NaN</td>\n",
              "      <td>perdida</td>\n",
              "      <td>2</td>\n",
              "      <td>0</td>\n",
              "      <td>64</td>\n",
              "      <td>C</td>\n",
              "      <td>2019-10-31</td>\n",
              "      <td>64</td>\n",
              "    </tr>\n",
              "  </tbody>\n",
              "</table>\n",
              "<p>29656 rows × 12 columns</p>\n",
              "</div>"
            ],
            "text/plain": [
              "       user_id       date direction  int/ext  operator_id      call  \\\n",
              "0       166377 2019-08-04        in  externa          NaN   perdida   \n",
              "1       166377 2019-08-05       out  interna     880022.0   perdida   \n",
              "2       166377 2019-08-05       out  interna     880020.0   perdida   \n",
              "3       166377 2019-08-05       out  interna     880020.0  recibida   \n",
              "4       166377 2019-08-05       out  externa     880022.0   perdida   \n",
              "...        ...        ...       ...      ...          ...       ...   \n",
              "48830   168606 2019-11-10       out  interna     957922.0  recibida   \n",
              "48831   168606 2019-11-10       out  interna     957922.0   perdida   \n",
              "48832   168606 2019-11-11       out  interna     957922.0  recibida   \n",
              "48833   168606 2019-11-15       out  interna     957922.0  recibida   \n",
              "48834   168606 2019-11-19        in  externa          NaN   perdida   \n",
              "\n",
              "       calls_cnt  call_d  total_call_d tariff_plan date_start  w_time  \n",
              "0              2       0             4           B 2019-08-01       4  \n",
              "1              3       0             5           B 2019-08-01       5  \n",
              "2              1       0             1           B 2019-08-01       1  \n",
              "3              1      10            18           B 2019-08-01       8  \n",
              "4              3       0            25           B 2019-08-01      25  \n",
              "...          ...     ...           ...         ...        ...     ...  \n",
              "48830          1       0            25           C 2019-10-31      25  \n",
              "48831          1       0            38           C 2019-10-31      38  \n",
              "48832          2     479           501           C 2019-10-31      22  \n",
              "48833          4    3130          3190           C 2019-10-31      60  \n",
              "48834          2       0            64           C 2019-10-31      64  \n",
              "\n",
              "[29656 rows x 12 columns]"
            ]
          },
          "execution_count": 71,
          "metadata": {},
          "output_type": "execute_result"
        }
      ],
      "source": [
        "#Generamos un df sin las observaciones de los operadores ineficientes\n",
        "df_ef = df[~df['operator_id'].isin(inef['operator_id'])]\n",
        "df_ef = df_ef\n",
        "df_ef"
      ]
    },
    {
      "cell_type": "code",
      "execution_count": null,
      "metadata": {
        "colab": {
          "base_uri": "https://localhost:8080/"
        },
        "id": "xXISAKnuWzO0",
        "outputId": "134a77f5-939c-43f9-d552-06f650e19bdd"
      },
      "outputs": [
        {
          "data": {
            "text/plain": [
              "tariff_plan\n",
              "A     76\n",
              "B    261\n",
              "C    395\n",
              "Name: user_id, dtype: int64"
            ]
          },
          "execution_count": 72,
          "metadata": {},
          "output_type": "execute_result"
        }
      ],
      "source": [
        "#Cuántos usuarios hay por plan\n",
        "clients.groupby('tariff_plan')['user_id'].count()"
      ]
    },
    {
      "cell_type": "code",
      "execution_count": null,
      "metadata": {
        "colab": {
          "base_uri": "https://localhost:8080/",
          "height": 617
        },
        "id": "F0XdAiQhRGFr",
        "outputId": "b768f988-012e-414e-9176-b2aa20ed7721"
      },
      "outputs": [
        {
          "data": {
            "text/html": [
              "<div>\n",
              "<style scoped>\n",
              "    .dataframe tbody tr th:only-of-type {\n",
              "        vertical-align: middle;\n",
              "    }\n",
              "\n",
              "    .dataframe tbody tr th {\n",
              "        vertical-align: top;\n",
              "    }\n",
              "\n",
              "    .dataframe thead th {\n",
              "        text-align: right;\n",
              "    }\n",
              "</style>\n",
              "<table border=\"1\" class=\"dataframe\">\n",
              "  <thead>\n",
              "    <tr style=\"text-align: right;\">\n",
              "      <th></th>\n",
              "      <th>user_id</th>\n",
              "      <th>date</th>\n",
              "      <th>direction</th>\n",
              "      <th>int/ext</th>\n",
              "      <th>operator_id</th>\n",
              "      <th>call</th>\n",
              "      <th>calls_cnt</th>\n",
              "      <th>call_d</th>\n",
              "      <th>total_call_d</th>\n",
              "      <th>tariff_plan</th>\n",
              "      <th>date_start</th>\n",
              "      <th>w_time</th>\n",
              "    </tr>\n",
              "  </thead>\n",
              "  <tbody>\n",
              "    <tr>\n",
              "      <th>13</th>\n",
              "      <td>166377</td>\n",
              "      <td>2019-08-07</td>\n",
              "      <td>out</td>\n",
              "      <td>externa</td>\n",
              "      <td>880028.0</td>\n",
              "      <td>perdida</td>\n",
              "      <td>1</td>\n",
              "      <td>0</td>\n",
              "      <td>15</td>\n",
              "      <td>B</td>\n",
              "      <td>2019-08-01</td>\n",
              "      <td>15</td>\n",
              "    </tr>\n",
              "    <tr>\n",
              "      <th>14</th>\n",
              "      <td>166377</td>\n",
              "      <td>2019-08-07</td>\n",
              "      <td>out</td>\n",
              "      <td>externa</td>\n",
              "      <td>880026.0</td>\n",
              "      <td>recibida</td>\n",
              "      <td>1</td>\n",
              "      <td>21</td>\n",
              "      <td>28</td>\n",
              "      <td>B</td>\n",
              "      <td>2019-08-01</td>\n",
              "      <td>7</td>\n",
              "    </tr>\n",
              "    <tr>\n",
              "      <th>17</th>\n",
              "      <td>166377</td>\n",
              "      <td>2019-08-07</td>\n",
              "      <td>out</td>\n",
              "      <td>externa</td>\n",
              "      <td>880026.0</td>\n",
              "      <td>perdida</td>\n",
              "      <td>1</td>\n",
              "      <td>0</td>\n",
              "      <td>17</td>\n",
              "      <td>B</td>\n",
              "      <td>2019-08-01</td>\n",
              "      <td>17</td>\n",
              "    </tr>\n",
              "    <tr>\n",
              "      <th>20</th>\n",
              "      <td>166377</td>\n",
              "      <td>2019-08-09</td>\n",
              "      <td>out</td>\n",
              "      <td>externa</td>\n",
              "      <td>880028.0</td>\n",
              "      <td>recibida</td>\n",
              "      <td>17</td>\n",
              "      <td>1603</td>\n",
              "      <td>1725</td>\n",
              "      <td>B</td>\n",
              "      <td>2019-08-01</td>\n",
              "      <td>122</td>\n",
              "    </tr>\n",
              "    <tr>\n",
              "      <th>21</th>\n",
              "      <td>166377</td>\n",
              "      <td>2019-08-09</td>\n",
              "      <td>out</td>\n",
              "      <td>externa</td>\n",
              "      <td>880028.0</td>\n",
              "      <td>perdida</td>\n",
              "      <td>2</td>\n",
              "      <td>0</td>\n",
              "      <td>2</td>\n",
              "      <td>B</td>\n",
              "      <td>2019-08-01</td>\n",
              "      <td>2</td>\n",
              "    </tr>\n",
              "    <tr>\n",
              "      <th>...</th>\n",
              "      <td>...</td>\n",
              "      <td>...</td>\n",
              "      <td>...</td>\n",
              "      <td>...</td>\n",
              "      <td>...</td>\n",
              "      <td>...</td>\n",
              "      <td>...</td>\n",
              "      <td>...</td>\n",
              "      <td>...</td>\n",
              "      <td>...</td>\n",
              "      <td>...</td>\n",
              "      <td>...</td>\n",
              "    </tr>\n",
              "    <tr>\n",
              "      <th>48808</th>\n",
              "      <td>168601</td>\n",
              "      <td>2019-11-26</td>\n",
              "      <td>out</td>\n",
              "      <td>externa</td>\n",
              "      <td>952914.0</td>\n",
              "      <td>perdida</td>\n",
              "      <td>7</td>\n",
              "      <td>0</td>\n",
              "      <td>208</td>\n",
              "      <td>C</td>\n",
              "      <td>2019-10-31</td>\n",
              "      <td>208</td>\n",
              "    </tr>\n",
              "    <tr>\n",
              "      <th>48809</th>\n",
              "      <td>168601</td>\n",
              "      <td>2019-11-26</td>\n",
              "      <td>in</td>\n",
              "      <td>externa</td>\n",
              "      <td>952914.0</td>\n",
              "      <td>recibida</td>\n",
              "      <td>4</td>\n",
              "      <td>539</td>\n",
              "      <td>562</td>\n",
              "      <td>C</td>\n",
              "      <td>2019-10-31</td>\n",
              "      <td>23</td>\n",
              "    </tr>\n",
              "    <tr>\n",
              "      <th>48812</th>\n",
              "      <td>168601</td>\n",
              "      <td>2019-11-27</td>\n",
              "      <td>in</td>\n",
              "      <td>externa</td>\n",
              "      <td>952914.0</td>\n",
              "      <td>recibida</td>\n",
              "      <td>2</td>\n",
              "      <td>53</td>\n",
              "      <td>77</td>\n",
              "      <td>C</td>\n",
              "      <td>2019-10-31</td>\n",
              "      <td>24</td>\n",
              "    </tr>\n",
              "    <tr>\n",
              "      <th>48814</th>\n",
              "      <td>168601</td>\n",
              "      <td>2019-11-27</td>\n",
              "      <td>out</td>\n",
              "      <td>externa</td>\n",
              "      <td>952914.0</td>\n",
              "      <td>perdida</td>\n",
              "      <td>2</td>\n",
              "      <td>0</td>\n",
              "      <td>14</td>\n",
              "      <td>C</td>\n",
              "      <td>2019-10-31</td>\n",
              "      <td>14</td>\n",
              "    </tr>\n",
              "    <tr>\n",
              "      <th>48816</th>\n",
              "      <td>168601</td>\n",
              "      <td>2019-11-28</td>\n",
              "      <td>out</td>\n",
              "      <td>externa</td>\n",
              "      <td>952914.0</td>\n",
              "      <td>perdida</td>\n",
              "      <td>2</td>\n",
              "      <td>0</td>\n",
              "      <td>67</td>\n",
              "      <td>C</td>\n",
              "      <td>2019-10-31</td>\n",
              "      <td>67</td>\n",
              "    </tr>\n",
              "  </tbody>\n",
              "</table>\n",
              "<p>10205 rows × 12 columns</p>\n",
              "</div>"
            ],
            "text/plain": [
              "       user_id       date direction  int/ext  operator_id      call  \\\n",
              "13      166377 2019-08-07       out  externa     880028.0   perdida   \n",
              "14      166377 2019-08-07       out  externa     880026.0  recibida   \n",
              "17      166377 2019-08-07       out  externa     880026.0   perdida   \n",
              "20      166377 2019-08-09       out  externa     880028.0  recibida   \n",
              "21      166377 2019-08-09       out  externa     880028.0   perdida   \n",
              "...        ...        ...       ...      ...          ...       ...   \n",
              "48808   168601 2019-11-26       out  externa     952914.0   perdida   \n",
              "48809   168601 2019-11-26        in  externa     952914.0  recibida   \n",
              "48812   168601 2019-11-27        in  externa     952914.0  recibida   \n",
              "48814   168601 2019-11-27       out  externa     952914.0   perdida   \n",
              "48816   168601 2019-11-28       out  externa     952914.0   perdida   \n",
              "\n",
              "       calls_cnt  call_d  total_call_d tariff_plan date_start  w_time  \n",
              "13             1       0            15           B 2019-08-01      15  \n",
              "14             1      21            28           B 2019-08-01       7  \n",
              "17             1       0            17           B 2019-08-01      17  \n",
              "20            17    1603          1725           B 2019-08-01     122  \n",
              "21             2       0             2           B 2019-08-01       2  \n",
              "...          ...     ...           ...         ...        ...     ...  \n",
              "48808          7       0           208           C 2019-10-31     208  \n",
              "48809          4     539           562           C 2019-10-31      23  \n",
              "48812          2      53            77           C 2019-10-31      24  \n",
              "48814          2       0            14           C 2019-10-31      14  \n",
              "48816          2       0            67           C 2019-10-31      67  \n",
              "\n",
              "[10205 rows x 12 columns]"
            ]
          },
          "execution_count": 73,
          "metadata": {},
          "output_type": "execute_result"
        }
      ],
      "source": [
        "#Generemos un df con las observaciones de únicamente los operadores ineficientes\n",
        "df_inef = df[df['operator_id'].isin(inef['operator_id'])]\n",
        "df_inef = df_inef\n",
        "df_inef"
      ]
    },
    {
      "cell_type": "code",
      "execution_count": null,
      "metadata": {
        "colab": {
          "base_uri": "https://localhost:8080/",
          "height": 472
        },
        "id": "Kcp2YhMHXk5y",
        "outputId": "bfcc9b4d-54e3-4a0f-b46f-57052e85e2c6"
      },
      "outputs": [
        {
          "data": {
            "image/png": "[encoded data removed]",
            "text/plain": [
              "<Figure size 432x288 with 1 Axes>"
            ]
          },
          "metadata": {
            "needs_background": "light"
          },
          "output_type": "display_data"
        }
      ],
      "source": [
        "plt.bar(inef_plans['tariff_plan'], inef_plans['operator_id'])\n",
        "plt.xlabel('Planes')\n",
        "plt.ylabel('Cantidad de operadores')\n",
        "plt.title('Planes a los que atienden los operadores ineficientes')\n",
        "plt.show()"
      ]
    },
    {
      "cell_type": "markdown",
      "metadata": {
        "id": "uS-T0gmXf027"
      },
      "source": [
        "# 4.-Prueba <a id='4'></a>"
      ]
    },
    {
      "cell_type": "markdown",
      "metadata": {
        "id": "IbTjgtovdVTo"
      },
      "source": [
        "#### Probar la hipótesis de que las proporciones son iguales"
      ]
    },
    {
      "cell_type": "markdown",
      "metadata": {
        "id": "O07SXO3NWXuS"
      },
      "source": [
        "Hacer la prueba de `hipótesis sobre la igualdad de las medias de dos poblaciones` para comparar las medias de usuarios que atienden operadores eficientes y los ineficientes."
      ]
    },
    {
      "cell_type": "code",
      "execution_count": null,
      "metadata": {
        "colab": {
          "base_uri": "https://localhost:8080/"
        },
        "id": "3H2_u78hzWeE",
        "outputId": "715dff61-7871-4789-a126-370840bb4d29"
      },
      "outputs": [
        {
          "name": "stdout",
          "output_type": "stream",
          "text": [
            "23.97 es la media usuarios que tiene cada operador del grupo eficiente\n",
            "93.62 es la media de usuarios que tiene cada operador del grupo ineficiente\n"
          ]
        }
      ],
      "source": [
        "#preparemos las medias\n",
        "df_ef_users = df_ef.groupby('operator_id')['user_id'].count().mean()\n",
        "print(f'{df_ef_users.round(2)} es la media usuarios que tiene cada operador del grupo eficiente')\n",
        "df_inef_users = df_inef.groupby('operator_id')['user_id'].count().mean()\n",
        "print(f'{df_inef_users.round(2)} es la media de usuarios que tiene cada operador del grupo ineficiente')\n"
      ]
    },
    {
      "cell_type": "code",
      "execution_count": null,
      "metadata": {
        "id": "KxLFydfAdV9V"
      },
      "outputs": [],
      "source": [
        "#Realicemos la prueba\n",
        "alpha = .05 # nivel de significación\n",
        "\n",
        "    #Estos éxitos son las medias de usuarios del grupo eficiente y el ineficiente\n",
        "successes = np.array([23.97, 93.62])\n",
        "    #Estos trials son las cantidades de operadores del grupo eficiente y el ineficiente\n",
        "trials = np.array([964, 109])\n",
        "\n",
        "# proporción de éxito en el grupo A:\n",
        "p1 = successes[0]/trials[0]\n",
        "\n",
        "# proporción de éxito en el grupo B:\n",
        "p2 = successes[1]/trials[1]\n",
        "\n",
        "# proporción de éxito en el dataset unido:\n",
        "p_combined = (successes[0] + successes[1]) / (trials[0] + trials[1])\n",
        "\n",
        "# la diferencia entre las proporciones de los datasets\n",
        "difference = p1 - p2"
      ]
    },
    {
      "cell_type": "code",
      "execution_count": null,
      "metadata": {
        "id": "qEXwvmaxdaIY"
      },
      "outputs": [],
      "source": [
        "# calcular la estadística en desviaciones estándar de la distribución normal estándar\n",
        "z_value = difference / mth.sqrt(p_combined * (1 - p_combined) * (1/trials[0] + 1/trials[1]))\n",
        "\n",
        "# establece la distribución normal estándar (media 0, desviación estándar 1)\n",
        "distr = st.norm(0, 1)"
      ]
    },
    {
      "cell_type": "code",
      "execution_count": null,
      "metadata": {
        "colab": {
          "base_uri": "https://localhost:8080/"
        },
        "id": "OcOww6q7dcxQ",
        "outputId": "d70a4ea6-eac2-456c-fcd4-45ae5c97f651"
      },
      "outputs": [
        {
          "name": "stdout",
          "output_type": "stream",
          "text": [
            "p-value:  0.0\n",
            "Rechazar la hipótesis nula: hay una diferencia significativa entre las proporciones\n"
          ]
        }
      ],
      "source": [
        "# calcular la estadística en desviaciones estándar de la distribución normal estándar\n",
        "z_value = difference / mth.sqrt(p_combined * (1 - p_combined) * (1/trials[0] + 1/trials[1]))\n",
        "\n",
        "# establece la distribución normal estándar (media 0, desviación estándar 1)\n",
        "distr = st.norm(0, 1)\n",
        "\n",
        "p_value = (1 - distr.cdf(abs(z_value))) * 2\n",
        "\n",
        "print('p-value: ', p_value)\n",
        "\n",
        "if (p_value < alpha):\n",
        "    print(\"Rechazar la hipótesis nula: hay una diferencia significativa entre las proporciones\")\n",
        "else:\n",
        "    print(\"No se pudo rechazar la hipótesis nula: no hay razón para pensar que las proporciones son diferentes\")"
      ]
    },
    {
      "cell_type": "markdown",
      "metadata": {
        "id": "XbeSm3ji_6Bc"
      },
      "source": [
        "# 5.-Conclusiones"
      ]
    },
    {
      "cell_type": "markdown",
      "metadata": {
        "id": "iwo1tTAhBt9i"
      },
      "source": [
        "Propósito:\n",
        "\n",
        "Con los datos proporcionados, se buscó identificar a los operadores ineficaces del servicio de telefonía virtual CallMeMaybe tanto en su atención a llamadas internas y externas, salientes y entrantes.\n",
        "\n",
        "Se preprocesaron los datos, se buscaron duplicados, nulos y necesidades como uniones de dataframes, nuevas columnas, conversiones de tipos, y manejo de atípicos.\n",
        "\n",
        "Se hicieron observaciones de los datos desde distintos ángulos para entender mejor el funcionamiento en su conjunto. Se estudiaron correlaciones y tendencias. Estos son hallazgos más relevantes.\n",
        "\n",
        "* Se percibe un aumento tanto en las llamadas perdidas como en las recibidas mes a mes, esto está justificado ya que hay un aumento generalizado.\n",
        "\n",
        "* En el primer mes, las perdidas y recibidas tenían muy poca diferencia entre sí y ésta se fue incrementando con el paso de los meses.\n",
        "\n",
        "* En los minutos de espera divididos entre la cantidad de llamadas, sí hay diferencia mes a mes, pero no es significativa.\n",
        "\n",
        "* Las llamadas perdidas `externa entrante` son las que afectan más los 3 planes, en este orden, B, C y A, viéndose afectada casi la totalidad de los usuarios por plan, 99%, 98% y 97%.\n",
        "\n",
        "* Las llamadas perdidas `externa saliente` tienen rangos de afectación a entre el 62.73 y el 79.41% de sus usuarios. No tan altos como el tipo anterior.\n",
        "\n",
        "* Hay una correlación más fuerte entre el número de llamadas y el tiempo de espera, que con el número de llamadas y la duración de las llamadas.\n",
        "\n",
        "* Hay una alta correlación positiva entre las llamadas perdidas y las recibidas. Es decir, no aplica, en este caso, el supuesto de que el aumento de llamadas perdidas significa un aumento en llamada no recibidas.\n",
        "\n",
        "Con la considreación de que un operador es ineficaz si tiene:\n",
        "\n",
        "* una gran cantidad de llamadas entrantes perdidas (internas y externas), esto definido por el 25% más alto de `missing_calls`.\n",
        "\n",
        "* un tiempo de espera prolongado para las llamadas entrantes, definido de igual forma por el 25% más alto de un `waiting_time`.\n",
        "\n",
        "Se generó un listado de los 109 operadores en este rango.\n",
        "\n",
        "El [PDF de la presentación de conclusiones](https://drive.google.com/file/d/17TmYrB4I9wgi5KoNGe1OAMuuaGeAjhrv/view?usp=sharing) y el [Dashboard](https://public.tableau.com/views/CallMeMaybe_16957484570890/CallMeMaybe?:language=en-US&publish=yes&:display_count=n&:origin=viz_share_link) ayudan a la comprensión de esta información.\n",
        "\n"
      ]
    },
    {
      "cell_type": "markdown",
      "metadata": {
        "id": "J8mA_39GBmdE"
      },
      "source": [
        "# 6.-Documentación"
      ]
    },
    {
      "cell_type": "markdown",
      "metadata": {
        "id": "IbrWKfFBBr_E"
      },
      "source": [
        "* Jupyter Team.(2015). Markdown Cells. *Jupyter*. https://jupyter-notebook.readthedocs.io/en/stable/examples/Notebook/Working%20With%20Markdown%20Cells.html\n",
        "\n",
        "* Jupyter Team. (2015). Markdown for Jupyter notebooks cheatsheet. *Jupyter*. https://www.ibm.com/docs/en/watson-studio-local/1.2.3?topic=notebooks-markdown-jupyter-cheatsheet\n",
        "\n",
        "Usé esta información en la fase de descomposición de mi proyecto ya que tenía algunos errores tan elementales como la falta como el espacio entre el hashtag y los títulos, pero tuve que descubrirlo investigando.\n",
        "\n",
        "* McKinney, W. (2022). Detecting and Filtering Outliers. *Python for Data Analysis* (3rd ed). O'Reilly. pp.217-219.\n",
        "\n",
        "* Dhadse, a. (2021, April 5). Removing Outliers. Understanding How and What behind the Magic. *Medium.* https://medium.com/analytics-vidhya/removing-outliers-understanding-how-and-what-behind-the-magic-18a78ab480ff\n",
        "\n",
        "Al inicio del proyecto probé con remover los atípicos de todas las columnas que podían tenerlos, evalúe que esto perjudicaba mucho mi dataframe. Decidí retirar los atípicos de la columna que consideré de mayor importancia. En esta fuente y estaba buscando información sobre la toma de decisiones más que sobre el proceso técnico, pero sirvió revisarlo. Estas lecturas también me ayudaron a constatar que el cambio de comportamiento mes a mes de solo aumentar a aumentar y luego bajar, sí se debía en efecto a los atípicos, lo que me confirmó que debía quitarlos.\n",
        "\n",
        "* VanderPlas, J. (2016). Pivot Tables. *Python Data Science Handbook*. O'Reilly. https://jakevdp.github.io/PythonDataScienceHandbook/03.09-pivot-tables.html\n",
        "\n",
        "En algunas ocasiones confundo los alcances de un pivot table o un groupby, resultó que para el proyecto mis necesidades fueron satisfechas con groupby, pero me sirvió revisar esta información para estar segura.\n",
        "\n",
        "* OpenAI. (2023). ChatGPT (Aug 3 version) [Large language model]. https://chat.openai.com/chat\n",
        "\n",
        "Texto en respuesta al prompt \"diferencia entre cuartiles y cuantiles\" porque al trabajar los rangos intercuartilícos resurgieron términos que no dominaba por completo, percentil, cuantil, cuartil, etc.\n",
        "\n",
        "* Google Colaborary. (n. d.). Frequently Asked Questions. *Google Colab*. https://research.google.com/colaboratory/faq.html\n",
        "\n",
        "* CCTMéxico. (2021 julio 8). ¿Cómo cargar y descargar archivos CSV desde Google Colab? *Youtube*.  https://www.youtube.com/watch?v=ft9bSa49k-A\n",
        "\n",
        "Para crear el dashboard en Tableau, necesita dos dataframes nuevos que generé en el notebook, no los dataframes originales de consulta. Necesitaba exportarlos y estas dos fuentes me ayudaron a ello.\n"
      ]
    },
    {
      "cell_type": "markdown",
      "metadata": {
        "id": "8Hkaency6wW4"
      },
      "source": [
        "\n",
        "\n",
        "---\n",
        "\n",
        "\n",
        "\n",
        "---\n",
        "\n"
      ]
    }
  ],
  "metadata": {
    "colab": {
      "provenance": [],
      "toc_visible": true
    },
    "kernelspec": {
      "display_name": "Python 3 (ipykernel)",
      "language": "python",
      "name": "python3"
    },
    "language_info": {
      "codemirror_mode": {
        "name": "ipython",
        "version": 3
      },
      "file_extension": ".py",
      "mimetype": "text/x-python",
      "name": "python",
      "nbconvert_exporter": "python",
      "pygments_lexer": "ipython3",
      "version": "3.9.5"
    },
    "toc": {
      "base_numbering": 1,
      "nav_menu": {},
      "number_sections": false,
      "sideBar": true,
      "skip_h1_title": false,
      "title_cell": "Table of Contents",
      "title_sidebar": "Contents",
      "toc_cell": false,
      "toc_position": {
        "height": "calc(100% - 180px)",
        "left": "10px",
        "top": "150px",
        "width": "249.188px"
      },
      "toc_section_display": true,
      "toc_window_display": true
    }
  },
  "nbformat": 4,
  "nbformat_minor": 0
}